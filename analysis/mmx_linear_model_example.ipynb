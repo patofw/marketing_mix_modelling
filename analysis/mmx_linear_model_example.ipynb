{
  "cells": [
    {
      "cell_type": "markdown",
      "metadata": {
        "id": "iHwiHTunM3IG",
        "jupyter": {
          "outputs_hidden": true
        }
      },
      "source": [
        "# Marketing Mix Models \n",
        "\n",
        "## The Basics\n",
        "\n",
        "\n",
        "Marketing Mix Modeling (MMM or MMX) is a statistical analysis technique used to evaluate the impact of a company's marketing activities on sales (or any variable that wants to be measured). It relies in analysing historical data and typically fitting a model in which sales acts as a dependent variable.\n",
        "\n",
        "MMM helps businesses understand the effectiveness of different marketing channels (such as TV, online ads, promotions, and pricing) and how they interact with each other. This insight allows companies to allocate their marketing budgets more efficiently, optimize their marketing strategies. MMM is particularly useful because it quantifies the return on investment (ROI) of marketing expenditures, enabling data-driven decision-making.\n",
        "\n",
        "It's a highly demanded skill that can be applied in virtually, any industry. \n"
      ]
    },
    {
      "cell_type": "markdown",
      "metadata": {},
      "source": [
        "## Objective of this Notebook \n",
        "\n",
        "This notebook serves as a guide on how to build MM models in order to obtain contributions of the different channels (touchpoints) on product sales. This toy example includes relevant feature transformations as adstock (decay), seasonality, saturation, lags, etc. \n",
        "\n",
        "Likewise, it has been built with toy data which mimics real-life scenarios, but is not a full picture of the marketing spends a real product has during a year.\n",
        "\n",
        "The basic application of these type of models uses a traditional linear model, however, it does have a few limitations that will be explored across the Notebook."
      ]
    },
    {
      "cell_type": "markdown",
      "metadata": {
        "id": "6Hh_rnfspT4t"
      },
      "source": [
        "## 1. Imports and setup"
      ]
    },
    {
      "cell_type": "code",
      "execution_count": 1,
      "metadata": {
        "id": "sb5V0LWfWI_k"
      },
      "outputs": [],
      "source": [
        "# Imports.\n",
        "import pandas as pd\n",
        "import numpy as np\n",
        "import matplotlib.pyplot as plt\n",
        "\n",
        "import optuna\n",
        "import plotly.express as px\n",
        "import numpy as np\n",
        "\n",
        "\n",
        "import mmx.utils as utils\n",
        "\n",
        "from mmx.linear import AdstockHyperTuning, add_adstock_to_pdf, sales_from, create_stack_df"
      ]
    },
    {
      "cell_type": "code",
      "execution_count": 2,
      "metadata": {},
      "outputs": [],
      "source": [
        "# Set up \n",
        "\n",
        "# Configuration for viz and verbosity.\n",
        "plt.rcParams[\"figure.figsize\"] = (20, 8)\n",
        "\n",
        "# Path were the input file is stored.\n",
        "data_path = \"../data/cough_and_cold_sales.csv\"\n",
        "\n"
      ]
    },
    {
      "cell_type": "markdown",
      "metadata": {
        "id": "Aa_hhZj2GluZ"
      },
      "source": [
        "## 2. EDA and basic transformations"
      ]
    },
    {
      "cell_type": "markdown",
      "metadata": {
        "id": "wShwfASJqTTe"
      },
      "source": [
        "Here we have synthetic weekly data of the sales of an off the counter **(OTC) cough and cold medicine** in a particular country. Along with the sales data, we have marketing spends for different channels that are typically relevant in the pharma industry. In this simple toy example we have a normalized monetary spend for tv, social media, medical crongresses, and trade (expenditure related to in-pharmacy display). We also have two external variables, the `stringency_index` which is related to the severness of COVID restrictions in this country, and the `flu_index` which is a variable monitored by the World Health Organization to track the intensity of the flu season in a particular region.  \n",
        "\n",
        "Our objective is to determine the ROI of each of our mtk channels, to enable data-drive decision making for allocating our future marketing budget. "
      ]
    },
    {
      "cell_type": "code",
      "execution_count": 3,
      "metadata": {},
      "outputs": [],
      "source": [
        "# Define channels to use.\n",
        "CHANNELS: list[str] = ['tv', 'social_media', 'congress', 'trade']\n",
        "EXT_VARS: list[str] = ['flu_index', 'stringency_index'] \n",
        "# Define target variable.\n",
        "TARGET = 'sales'\n",
        "# Define weeks for testing period.\n",
        "TEST_SIZE = 8\n",
        "# Seed for reproducibility\n",
        "SEED = 123456"
      ]
    },
    {
      "cell_type": "code",
      "execution_count": 4,
      "metadata": {},
      "outputs": [
        {
          "data": {
            "text/html": [
              "<div>\n",
              "<style scoped>\n",
              "    .dataframe tbody tr th:only-of-type {\n",
              "        vertical-align: middle;\n",
              "    }\n",
              "\n",
              "    .dataframe tbody tr th {\n",
              "        vertical-align: top;\n",
              "    }\n",
              "\n",
              "    .dataframe thead th {\n",
              "        text-align: right;\n",
              "    }\n",
              "</style>\n",
              "<table border=\"1\" class=\"dataframe\">\n",
              "  <thead>\n",
              "    <tr style=\"text-align: right;\">\n",
              "      <th></th>\n",
              "      <th>date</th>\n",
              "      <th>stringency_index</th>\n",
              "      <th>sales</th>\n",
              "      <th>tv</th>\n",
              "      <th>social_media</th>\n",
              "      <th>congress</th>\n",
              "      <th>trade</th>\n",
              "      <th>flu_index</th>\n",
              "    </tr>\n",
              "  </thead>\n",
              "  <tbody>\n",
              "    <tr>\n",
              "      <th>0</th>\n",
              "      <td>2019-01-13</td>\n",
              "      <td>0.0</td>\n",
              "      <td>0.88</td>\n",
              "      <td>0.95</td>\n",
              "      <td>0.47</td>\n",
              "      <td>0.0</td>\n",
              "      <td>0.88</td>\n",
              "      <td>0.33</td>\n",
              "    </tr>\n",
              "    <tr>\n",
              "      <th>1</th>\n",
              "      <td>2019-01-20</td>\n",
              "      <td>0.0</td>\n",
              "      <td>0.89</td>\n",
              "      <td>0.96</td>\n",
              "      <td>0.56</td>\n",
              "      <td>0.0</td>\n",
              "      <td>0.80</td>\n",
              "      <td>0.33</td>\n",
              "    </tr>\n",
              "    <tr>\n",
              "      <th>2</th>\n",
              "      <td>2019-01-27</td>\n",
              "      <td>0.0</td>\n",
              "      <td>0.82</td>\n",
              "      <td>0.90</td>\n",
              "      <td>0.55</td>\n",
              "      <td>0.0</td>\n",
              "      <td>0.88</td>\n",
              "      <td>0.33</td>\n",
              "    </tr>\n",
              "    <tr>\n",
              "      <th>3</th>\n",
              "      <td>2019-02-03</td>\n",
              "      <td>0.0</td>\n",
              "      <td>0.90</td>\n",
              "      <td>0.84</td>\n",
              "      <td>0.47</td>\n",
              "      <td>0.0</td>\n",
              "      <td>0.84</td>\n",
              "      <td>0.33</td>\n",
              "    </tr>\n",
              "    <tr>\n",
              "      <th>4</th>\n",
              "      <td>2019-02-10</td>\n",
              "      <td>0.0</td>\n",
              "      <td>0.88</td>\n",
              "      <td>0.78</td>\n",
              "      <td>0.48</td>\n",
              "      <td>0.0</td>\n",
              "      <td>0.83</td>\n",
              "      <td>0.33</td>\n",
              "    </tr>\n",
              "  </tbody>\n",
              "</table>\n",
              "</div>"
            ],
            "text/plain": [
              "        date  stringency_index  sales    tv  social_media  congress  trade  \\\n",
              "0 2019-01-13               0.0   0.88  0.95          0.47       0.0   0.88   \n",
              "1 2019-01-20               0.0   0.89  0.96          0.56       0.0   0.80   \n",
              "2 2019-01-27               0.0   0.82  0.90          0.55       0.0   0.88   \n",
              "3 2019-02-03               0.0   0.90  0.84          0.47       0.0   0.84   \n",
              "4 2019-02-10               0.0   0.88  0.78          0.48       0.0   0.83   \n",
              "\n",
              "   flu_index  \n",
              "0       0.33  \n",
              "1       0.33  \n",
              "2       0.33  \n",
              "3       0.33  \n",
              "4       0.33  "
            ]
          },
          "execution_count": 4,
          "metadata": {},
          "output_type": "execute_result"
        }
      ],
      "source": [
        "# Load data\n",
        "df = pd.read_csv(data_path, sep= \";\", parse_dates=[\"date\"])\n",
        "df.head()"
      ]
    },
    {
      "cell_type": "code",
      "execution_count": 5,
      "metadata": {},
      "outputs": [],
      "source": [
        "# set date as index as it will make plotting easier\n",
        "df.set_index(\"date\", inplace=True)"
      ]
    },
    {
      "cell_type": "code",
      "execution_count": 6,
      "metadata": {},
      "outputs": [
        {
          "data": {
            "image/png": "[encoded data removed]",
            "text/plain": [
              "<Figure size 1000x800 with 1 Axes>"
            ]
          },
          "metadata": {},
          "output_type": "display_data"
        }
      ],
      "source": [
        "# Plot the target var and its Outliers\n",
        "outlier_index = utils.plot_outliers_signal(\n",
        "    df[TARGET], threshold=2\n",
        ")\n",
        "plt.show()\n",
        "\n"
      ]
    },
    {
      "cell_type": "markdown",
      "metadata": {},
      "source": [
        "We have an evident abnormal event that happened in 2020 and 2021 that collapsed the sales. There's also a high spike in March 2020. This is of course, due to the pandemic, where there was a high \"panic buying\" spike, and later, a heavy drop in sales. \n",
        "\n",
        "What to do here?\n",
        "\n",
        "Many people decide to leave out the pandemic years. However, the effects of COVID could still be felt up until early 2022, which leaves us with very little data for fitting our model. What's best depends on the use case, however, for this example, let's add a flag that resembles the effects of the pandemic."
      ]
    },
    {
      "cell_type": "code",
      "execution_count": 7,
      "metadata": {},
      "outputs": [],
      "source": [
        "# Adding a Covid flag\n",
        "df['covid_flag'] = utils.add_flag(\n",
        "    df,\n",
        "    outlier_index.min(),\n",
        "    outlier_index.max()\n",
        ")"
      ]
    },
    {
      "cell_type": "code",
      "execution_count": 8,
      "metadata": {},
      "outputs": [
        {
          "data": {
            "text/html": [
              "<div>\n",
              "<style scoped>\n",
              "    .dataframe tbody tr th:only-of-type {\n",
              "        vertical-align: middle;\n",
              "    }\n",
              "\n",
              "    .dataframe tbody tr th {\n",
              "        vertical-align: top;\n",
              "    }\n",
              "\n",
              "    .dataframe thead th {\n",
              "        text-align: right;\n",
              "    }\n",
              "</style>\n",
              "<table border=\"1\" class=\"dataframe\">\n",
              "  <thead>\n",
              "    <tr style=\"text-align: right;\">\n",
              "      <th></th>\n",
              "      <th>stringency_index</th>\n",
              "      <th>sales</th>\n",
              "      <th>tv</th>\n",
              "      <th>social_media</th>\n",
              "      <th>congress</th>\n",
              "      <th>trade</th>\n",
              "      <th>flu_index</th>\n",
              "      <th>covid_flag</th>\n",
              "    </tr>\n",
              "    <tr>\n",
              "      <th>date</th>\n",
              "      <th></th>\n",
              "      <th></th>\n",
              "      <th></th>\n",
              "      <th></th>\n",
              "      <th></th>\n",
              "      <th></th>\n",
              "      <th></th>\n",
              "      <th></th>\n",
              "    </tr>\n",
              "  </thead>\n",
              "  <tbody>\n",
              "    <tr>\n",
              "      <th>2019-01-13</th>\n",
              "      <td>0.0</td>\n",
              "      <td>0.88</td>\n",
              "      <td>0.95</td>\n",
              "      <td>0.47</td>\n",
              "      <td>0.0</td>\n",
              "      <td>0.88</td>\n",
              "      <td>0.33</td>\n",
              "      <td>0</td>\n",
              "    </tr>\n",
              "    <tr>\n",
              "      <th>2019-01-20</th>\n",
              "      <td>0.0</td>\n",
              "      <td>0.89</td>\n",
              "      <td>0.96</td>\n",
              "      <td>0.56</td>\n",
              "      <td>0.0</td>\n",
              "      <td>0.80</td>\n",
              "      <td>0.33</td>\n",
              "      <td>0</td>\n",
              "    </tr>\n",
              "  </tbody>\n",
              "</table>\n",
              "</div>"
            ],
            "text/plain": [
              "            stringency_index  sales    tv  social_media  congress  trade  \\\n",
              "date                                                                       \n",
              "2019-01-13               0.0   0.88  0.95          0.47       0.0   0.88   \n",
              "2019-01-20               0.0   0.89  0.96          0.56       0.0   0.80   \n",
              "\n",
              "            flu_index  covid_flag  \n",
              "date                               \n",
              "2019-01-13       0.33           0  \n",
              "2019-01-20       0.33           0  "
            ]
          },
          "execution_count": 8,
          "metadata": {},
          "output_type": "execute_result"
        }
      ],
      "source": [
        "df.head(2) "
      ]
    },
    {
      "cell_type": "markdown",
      "metadata": {},
      "source": [
        "### Interactive plots"
      ]
    },
    {
      "cell_type": "code",
      "execution_count": 9,
      "metadata": {},
      "outputs": [
        {
          "data": {
            "application/vnd.plotly.v1+json": {
              "config": {
                "plotlyServerURL": "https://plot.ly"
              },
              "data": [
                {
                  "hovertemplate": "variable=sales<br>date=%{x}<br>value=%{y}<extra></extra>",
                  "legendgroup": "sales",
                  "line": {
                    "color": "#636efa",
                    "dash": "solid"
                  },
                  "marker": {
                    "symbol": "circle"
                  },
                  "mode": "lines",
                  "name": "sales",
                  "orientation": "v",
                  "showlegend": true,
                  "type": "scatter",
                  "x": [
                    "2019-01-13T00:00:00",
                    "2019-01-20T00:00:00",
                    "2019-01-27T00:00:00",
                    "2019-02-03T00:00:00",
                    "2019-02-10T00:00:00",
                    "2019-02-17T00:00:00",
                    "2019-02-24T00:00:00",
                    "2019-03-03T00:00:00",
                    "2019-03-10T00:00:00",
                    "2019-03-17T00:00:00",
                    "2019-03-24T00:00:00",
                    "2019-03-31T00:00:00",
                    "2019-04-07T00:00:00",
                    "2019-04-14T00:00:00",
                    "2019-04-21T00:00:00",
                    "2019-04-28T00:00:00",
                    "2019-05-05T00:00:00",
                    "2019-05-12T00:00:00",
                    "2019-05-19T00:00:00",
                    "2019-05-26T00:00:00",
                    "2019-06-02T00:00:00",
                    "2019-06-09T00:00:00",
                    "2019-06-16T00:00:00",
                    "2019-06-23T00:00:00",
                    "2019-06-30T00:00:00",
                    "2019-07-07T00:00:00",
                    "2019-07-14T00:00:00",
                    "2019-07-21T00:00:00",
                    "2019-07-28T00:00:00",
                    "2019-08-04T00:00:00",
                    "2019-08-11T00:00:00",
                    "2019-08-18T00:00:00",
                    "2019-08-25T00:00:00",
                    "2019-09-01T00:00:00",
                    "2019-09-08T00:00:00",
                    "2019-09-15T00:00:00",
                    "2019-09-22T00:00:00",
                    "2019-09-29T00:00:00",
                    "2019-10-06T00:00:00",
                    "2019-10-13T00:00:00",
                    "2019-10-20T00:00:00",
                    "2019-10-27T00:00:00",
                    "2019-11-03T00:00:00",
                    "2019-11-10T00:00:00",
                    "2019-11-17T00:00:00",
                    "2019-11-24T00:00:00",
                    "2019-12-01T00:00:00",
                    "2019-12-08T00:00:00",
                    "2019-12-15T00:00:00",
                    "2019-12-22T00:00:00",
                    "2019-12-29T00:00:00",
                    "2020-01-05T00:00:00",
                    "2020-01-12T00:00:00",
                    "2020-01-19T00:00:00",
                    "2020-01-26T00:00:00",
                    "2020-02-02T00:00:00",
                    "2020-02-09T00:00:00",
                    "2020-02-16T00:00:00",
                    "2020-02-23T00:00:00",
                    "2020-03-01T00:00:00",
                    "2020-03-08T00:00:00",
                    "2020-03-15T00:00:00",
                    "2020-03-22T00:00:00",
                    "2020-03-29T00:00:00",
                    "2020-04-05T00:00:00",
                    "2020-04-12T00:00:00",
                    "2020-04-19T00:00:00",
                    "2020-04-26T00:00:00",
                    "2020-05-03T00:00:00",
                    "2020-05-10T00:00:00",
                    "2020-05-17T00:00:00",
                    "2020-05-24T00:00:00",
                    "2020-05-31T00:00:00",
                    "2020-06-07T00:00:00",
                    "2020-06-14T00:00:00",
                    "2020-06-21T00:00:00",
                    "2020-06-28T00:00:00",
                    "2020-07-05T00:00:00",
                    "2020-07-12T00:00:00",
                    "2020-07-19T00:00:00",
                    "2020-07-26T00:00:00",
                    "2020-08-02T00:00:00",
                    "2020-08-09T00:00:00",
                    "2020-08-16T00:00:00",
                    "2020-08-23T00:00:00",
                    "2020-08-30T00:00:00",
                    "2020-09-06T00:00:00",
                    "2020-09-13T00:00:00",
                    "2020-09-20T00:00:00",
                    "2020-09-27T00:00:00",
                    "2020-10-04T00:00:00",
                    "2020-10-11T00:00:00",
                    "2020-10-18T00:00:00",
                    "2020-10-25T00:00:00",
                    "2020-11-01T00:00:00",
                    "2020-11-08T00:00:00",
                    "2020-11-15T00:00:00",
                    "2020-11-22T00:00:00",
                    "2020-11-29T00:00:00",
                    "2020-12-06T00:00:00",
                    "2020-12-13T00:00:00",
                    "2020-12-20T00:00:00",
                    "2020-12-27T00:00:00",
                    "2021-01-03T00:00:00",
                    "2021-01-10T00:00:00",
                    "2021-01-17T00:00:00",
                    "2021-01-24T00:00:00",
                    "2021-01-31T00:00:00",
                    "2021-02-07T00:00:00",
                    "2021-02-14T00:00:00",
                    "2021-02-21T00:00:00",
                    "2021-02-28T00:00:00",
                    "2021-03-07T00:00:00",
                    "2021-03-14T00:00:00",
                    "2021-03-21T00:00:00",
                    "2021-03-28T00:00:00",
                    "2021-04-04T00:00:00",
                    "2021-04-11T00:00:00",
                    "2021-04-18T00:00:00",
                    "2021-04-25T00:00:00",
                    "2021-05-02T00:00:00",
                    "2021-05-09T00:00:00",
                    "2021-05-16T00:00:00",
                    "2021-05-23T00:00:00",
                    "2021-05-30T00:00:00",
                    "2021-06-06T00:00:00",
                    "2021-06-13T00:00:00",
                    "2021-06-20T00:00:00",
                    "2021-06-27T00:00:00",
                    "2021-07-04T00:00:00",
                    "2021-07-11T00:00:00",
                    "2021-07-18T00:00:00",
                    "2021-07-25T00:00:00",
                    "2021-08-01T00:00:00",
                    "2021-08-08T00:00:00",
                    "2021-08-15T00:00:00",
                    "2021-08-22T00:00:00",
                    "2021-08-29T00:00:00",
                    "2021-09-05T00:00:00",
                    "2021-09-12T00:00:00",
                    "2021-09-19T00:00:00",
                    "2021-09-26T00:00:00",
                    "2021-10-03T00:00:00",
                    "2021-10-10T00:00:00",
                    "2021-10-17T00:00:00",
                    "2021-10-24T00:00:00",
                    "2021-10-31T00:00:00",
                    "2021-11-07T00:00:00",
                    "2021-11-14T00:00:00",
                    "2021-11-21T00:00:00",
                    "2021-11-28T00:00:00",
                    "2021-12-05T00:00:00",
                    "2021-12-12T00:00:00",
                    "2021-12-19T00:00:00",
                    "2021-12-26T00:00:00",
                    "2022-01-02T00:00:00",
                    "2022-01-09T00:00:00",
                    "2022-01-16T00:00:00",
                    "2022-01-23T00:00:00",
                    "2022-01-30T00:00:00",
                    "2022-02-06T00:00:00",
                    "2022-02-13T00:00:00",
                    "2022-02-20T00:00:00",
                    "2022-02-27T00:00:00",
                    "2022-03-06T00:00:00",
                    "2022-03-13T00:00:00",
                    "2022-03-20T00:00:00",
                    "2022-03-27T00:00:00",
                    "2022-04-03T00:00:00",
                    "2022-04-10T00:00:00",
                    "2022-04-17T00:00:00",
                    "2022-04-24T00:00:00",
                    "2022-05-01T00:00:00",
                    "2022-05-08T00:00:00",
                    "2022-05-15T00:00:00",
                    "2022-05-22T00:00:00",
                    "2022-05-29T00:00:00",
                    "2022-06-05T00:00:00",
                    "2022-06-12T00:00:00",
                    "2022-06-19T00:00:00",
                    "2022-06-26T00:00:00",
                    "2022-07-03T00:00:00",
                    "2022-07-10T00:00:00",
                    "2022-07-17T00:00:00",
                    "2022-07-24T00:00:00",
                    "2022-07-31T00:00:00",
                    "2022-08-07T00:00:00",
                    "2022-08-14T00:00:00",
                    "2022-08-21T00:00:00",
                    "2022-08-28T00:00:00",
                    "2022-09-04T00:00:00",
                    "2022-09-11T00:00:00",
                    "2022-09-18T00:00:00",
                    "2022-09-25T00:00:00",
                    "2022-10-02T00:00:00",
                    "2022-10-09T00:00:00",
                    "2022-10-16T00:00:00",
                    "2022-10-23T00:00:00",
                    "2022-10-30T00:00:00",
                    "2022-11-06T00:00:00",
                    "2022-11-13T00:00:00",
                    "2022-11-20T00:00:00",
                    "2022-11-27T00:00:00",
                    "2022-12-04T00:00:00",
                    "2022-12-11T00:00:00",
                    "2022-12-18T00:00:00",
                    "2022-12-25T00:00:00",
                    "2023-01-01T00:00:00",
                    "2023-01-08T00:00:00",
                    "2023-01-15T00:00:00",
                    "2023-01-22T00:00:00",
                    "2023-01-29T00:00:00",
                    "2023-02-05T00:00:00",
                    "2023-02-12T00:00:00",
                    "2023-02-19T00:00:00",
                    "2023-02-26T00:00:00",
                    "2023-03-05T00:00:00",
                    "2023-03-12T00:00:00",
                    "2023-03-19T00:00:00",
                    "2023-03-26T00:00:00",
                    "2023-04-02T00:00:00",
                    "2023-04-09T00:00:00",
                    "2023-04-16T00:00:00",
                    "2023-04-23T00:00:00",
                    "2023-04-30T00:00:00",
                    "2023-05-07T00:00:00",
                    "2023-05-14T00:00:00",
                    "2023-05-21T00:00:00",
                    "2023-05-28T00:00:00",
                    "2023-06-04T00:00:00",
                    "2023-06-11T00:00:00",
                    "2023-06-18T00:00:00",
                    "2023-06-25T00:00:00",
                    "2023-07-02T00:00:00",
                    "2023-07-09T00:00:00",
                    "2023-07-16T00:00:00",
                    "2023-07-23T00:00:00",
                    "2023-07-30T00:00:00",
                    "2023-08-06T00:00:00",
                    "2023-08-13T00:00:00",
                    "2023-08-20T00:00:00",
                    "2023-08-27T00:00:00",
                    "2023-09-03T00:00:00",
                    "2023-09-10T00:00:00",
                    "2023-09-17T00:00:00",
                    "2023-09-24T00:00:00",
                    "2023-10-01T00:00:00",
                    "2023-10-08T00:00:00",
                    "2023-10-15T00:00:00",
                    "2023-10-22T00:00:00",
                    "2023-10-29T00:00:00",
                    "2023-11-05T00:00:00",
                    "2023-11-12T00:00:00",
                    "2023-11-19T00:00:00",
                    "2023-11-26T00:00:00",
                    "2023-12-03T00:00:00",
                    "2023-12-10T00:00:00",
                    "2023-12-17T00:00:00",
                    "2023-12-24T00:00:00"
                  ],
                  "xaxis": "x",
                  "y": [
                    0.88,
                    0.89,
                    0.82,
                    0.9,
                    0.88,
                    0.91,
                    0.77,
                    0.66,
                    0.66,
                    0.59,
                    0.56,
                    0.52,
                    0.48,
                    0.46,
                    0.42,
                    0.44,
                    0.45,
                    0.44,
                    0.42,
                    0.47,
                    0.43,
                    0.44,
                    0.55,
                    0.47,
                    0.44,
                    0.39,
                    0.39,
                    0.45,
                    0.46,
                    0.49,
                    0.47,
                    0.48,
                    0.51,
                    0.59,
                    0.59,
                    0.55,
                    0.52,
                    0.61,
                    0.62,
                    0.61,
                    0.58,
                    0.49,
                    0.5,
                    0.52,
                    0.54,
                    0.57,
                    0.61,
                    0.62,
                    0.65,
                    0.64,
                    0.63,
                    0.65,
                    0.66,
                    0.67,
                    0.67,
                    0.66,
                    0.65,
                    0.65,
                    0.63,
                    0.61,
                    0.69,
                    0.88,
                    0.89,
                    1,
                    0.99,
                    0.52,
                    0.26,
                    0.01,
                    0.01,
                    0.02,
                    0.01,
                    0.03,
                    0.03,
                    0.03,
                    0.03,
                    0.03,
                    0.03,
                    0.03,
                    0.03,
                    0.03,
                    0.03,
                    0.03,
                    0.03,
                    0.03,
                    0.03,
                    0.03,
                    0.03,
                    0.03,
                    0.03,
                    0.03,
                    0.03,
                    0.01,
                    0.01,
                    0.01,
                    0.03,
                    0.06,
                    0.09,
                    0.1,
                    0.11,
                    0.13,
                    0.15,
                    0.17,
                    0.18,
                    0.18,
                    0.2,
                    0.21,
                    0.21,
                    0.21,
                    0.18,
                    0.18,
                    0.17,
                    0.17,
                    0.16,
                    0.14,
                    0.12,
                    0.06,
                    0.05,
                    0.03,
                    0.02,
                    0.13,
                    0.25,
                    0.35,
                    0.46,
                    0.49,
                    0.47,
                    0.48,
                    0.47,
                    0.45,
                    0.45,
                    0.45,
                    0.44,
                    0.45,
                    0.46,
                    0.47,
                    0.47,
                    0.46,
                    0.48,
                    0.46,
                    0.46,
                    0.48,
                    0.46,
                    0.47,
                    0.47,
                    0.46,
                    0.47,
                    0.46,
                    0.48,
                    0.55,
                    0.63,
                    0.71,
                    0.77,
                    0.79,
                    0.82,
                    0.83,
                    0.85,
                    0.85,
                    0.84,
                    0.85,
                    0.83,
                    0.83,
                    0.85,
                    0.84,
                    0.86,
                    0.83,
                    0.8,
                    0.8,
                    0.77,
                    0.74,
                    0.7,
                    0.65,
                    0.63,
                    0.64,
                    0.65,
                    0.66,
                    0.67,
                    0.67,
                    0.67,
                    0.68,
                    0.69,
                    0.67,
                    0.66,
                    0.65,
                    0.64,
                    0.65,
                    0.67,
                    0.66,
                    0.65,
                    0.64,
                    0.63,
                    0.64,
                    0.65,
                    0.65,
                    0.65,
                    0.65,
                    0.64,
                    0.65,
                    0.65,
                    0.64,
                    0.67,
                    0.7,
                    0.73,
                    0.77,
                    0.78,
                    0.79,
                    0.81,
                    0.83,
                    0.84,
                    0.88,
                    0.88,
                    0.89,
                    0.89,
                    0.87,
                    0.86,
                    0.86,
                    0.84,
                    0.81,
                    0.79,
                    0.76,
                    0.76,
                    0.72,
                    0.71,
                    0.67,
                    0.63,
                    0.65,
                    0.65,
                    0.65,
                    0.65,
                    0.64,
                    0.64,
                    0.65,
                    0.65,
                    0.64,
                    0.67,
                    0.67,
                    0.65,
                    0.66,
                    0.64,
                    0.64,
                    0.65,
                    0.65,
                    0.66,
                    0.66,
                    0.65,
                    0.65,
                    0.64,
                    0.63,
                    0.66,
                    0.66,
                    0.65,
                    0.67,
                    0.69,
                    0.72,
                    0.74,
                    0.76,
                    0.77,
                    0.78,
                    0.82,
                    0.85,
                    0.83
                  ],
                  "yaxis": "y"
                }
              ],
              "layout": {
                "legend": {
                  "title": {
                    "text": "variable"
                  },
                  "tracegroupgap": 0
                },
                "margin": {
                  "t": 60
                },
                "template": {
                  "data": {
                    "bar": [
                      {
                        "error_x": {
                          "color": "#2a3f5f"
                        },
                        "error_y": {
                          "color": "#2a3f5f"
                        },
                        "marker": {
                          "line": {
                            "color": "#E5ECF6",
                            "width": 0.5
                          },
                          "pattern": {
                            "fillmode": "overlay",
                            "size": 10,
                            "solidity": 0.2
                          }
                        },
                        "type": "bar"
                      }
                    ],
                    "barpolar": [
                      {
                        "marker": {
                          "line": {
                            "color": "#E5ECF6",
                            "width": 0.5
                          },
                          "pattern": {
                            "fillmode": "overlay",
                            "size": 10,
                            "solidity": 0.2
                          }
                        },
                        "type": "barpolar"
                      }
                    ],
                    "carpet": [
                      {
                        "aaxis": {
                          "endlinecolor": "#2a3f5f",
                          "gridcolor": "white",
                          "linecolor": "white",
                          "minorgridcolor": "white",
                          "startlinecolor": "#2a3f5f"
                        },
                        "baxis": {
                          "endlinecolor": "#2a3f5f",
                          "gridcolor": "white",
                          "linecolor": "white",
                          "minorgridcolor": "white",
                          "startlinecolor": "#2a3f5f"
                        },
                        "type": "carpet"
                      }
                    ],
                    "choropleth": [
                      {
                        "colorbar": {
                          "outlinewidth": 0,
                          "ticks": ""
                        },
                        "type": "choropleth"
                      }
                    ],
                    "contour": [
                      {
                        "colorbar": {
                          "outlinewidth": 0,
                          "ticks": ""
                        },
                        "colorscale": [
                          [
                            0,
                            "#0d0887"
                          ],
                          [
                            0.1111111111111111,
                            "#46039f"
                          ],
                          [
                            0.2222222222222222,
                            "#7201a8"
                          ],
                          [
                            0.3333333333333333,
                            "#9c179e"
                          ],
                          [
                            0.4444444444444444,
                            "#bd3786"
                          ],
                          [
                            0.5555555555555556,
                            "#d8576b"
                          ],
                          [
                            0.6666666666666666,
                            "#ed7953"
                          ],
                          [
                            0.7777777777777778,
                            "#fb9f3a"
                          ],
                          [
                            0.8888888888888888,
                            "#fdca26"
                          ],
                          [
                            1,
                            "#f0f921"
                          ]
                        ],
                        "type": "contour"
                      }
                    ],
                    "contourcarpet": [
                      {
                        "colorbar": {
                          "outlinewidth": 0,
                          "ticks": ""
                        },
                        "type": "contourcarpet"
                      }
                    ],
                    "heatmap": [
                      {
                        "colorbar": {
                          "outlinewidth": 0,
                          "ticks": ""
                        },
                        "colorscale": [
                          [
                            0,
                            "#0d0887"
                          ],
                          [
                            0.1111111111111111,
                            "#46039f"
                          ],
                          [
                            0.2222222222222222,
                            "#7201a8"
                          ],
                          [
                            0.3333333333333333,
                            "#9c179e"
                          ],
                          [
                            0.4444444444444444,
                            "#bd3786"
                          ],
                          [
                            0.5555555555555556,
                            "#d8576b"
                          ],
                          [
                            0.6666666666666666,
                            "#ed7953"
                          ],
                          [
                            0.7777777777777778,
                            "#fb9f3a"
                          ],
                          [
                            0.8888888888888888,
                            "#fdca26"
                          ],
                          [
                            1,
                            "#f0f921"
                          ]
                        ],
                        "type": "heatmap"
                      }
                    ],
                    "heatmapgl": [
                      {
                        "colorbar": {
                          "outlinewidth": 0,
                          "ticks": ""
                        },
                        "colorscale": [
                          [
                            0,
                            "#0d0887"
                          ],
                          [
                            0.1111111111111111,
                            "#46039f"
                          ],
                          [
                            0.2222222222222222,
                            "#7201a8"
                          ],
                          [
                            0.3333333333333333,
                            "#9c179e"
                          ],
                          [
                            0.4444444444444444,
                            "#bd3786"
                          ],
                          [
                            0.5555555555555556,
                            "#d8576b"
                          ],
                          [
                            0.6666666666666666,
                            "#ed7953"
                          ],
                          [
                            0.7777777777777778,
                            "#fb9f3a"
                          ],
                          [
                            0.8888888888888888,
                            "#fdca26"
                          ],
                          [
                            1,
                            "#f0f921"
                          ]
                        ],
                        "type": "heatmapgl"
                      }
                    ],
                    "histogram": [
                      {
                        "marker": {
                          "pattern": {
                            "fillmode": "overlay",
                            "size": 10,
                            "solidity": 0.2
                          }
                        },
                        "type": "histogram"
                      }
                    ],
                    "histogram2d": [
                      {
                        "colorbar": {
                          "outlinewidth": 0,
                          "ticks": ""
                        },
                        "colorscale": [
                          [
                            0,
                            "#0d0887"
                          ],
                          [
                            0.1111111111111111,
                            "#46039f"
                          ],
                          [
                            0.2222222222222222,
                            "#7201a8"
                          ],
                          [
                            0.3333333333333333,
                            "#9c179e"
                          ],
                          [
                            0.4444444444444444,
                            "#bd3786"
                          ],
                          [
                            0.5555555555555556,
                            "#d8576b"
                          ],
                          [
                            0.6666666666666666,
                            "#ed7953"
                          ],
                          [
                            0.7777777777777778,
                            "#fb9f3a"
                          ],
                          [
                            0.8888888888888888,
                            "#fdca26"
                          ],
                          [
                            1,
                            "#f0f921"
                          ]
                        ],
                        "type": "histogram2d"
                      }
                    ],
                    "histogram2dcontour": [
                      {
                        "colorbar": {
                          "outlinewidth": 0,
                          "ticks": ""
                        },
                        "colorscale": [
                          [
                            0,
                            "#0d0887"
                          ],
                          [
                            0.1111111111111111,
                            "#46039f"
                          ],
                          [
                            0.2222222222222222,
                            "#7201a8"
                          ],
                          [
                            0.3333333333333333,
                            "#9c179e"
                          ],
                          [
                            0.4444444444444444,
                            "#bd3786"
                          ],
                          [
                            0.5555555555555556,
                            "#d8576b"
                          ],
                          [
                            0.6666666666666666,
                            "#ed7953"
                          ],
                          [
                            0.7777777777777778,
                            "#fb9f3a"
                          ],
                          [
                            0.8888888888888888,
                            "#fdca26"
                          ],
                          [
                            1,
                            "#f0f921"
                          ]
                        ],
                        "type": "histogram2dcontour"
                      }
                    ],
                    "mesh3d": [
                      {
                        "colorbar": {
                          "outlinewidth": 0,
                          "ticks": ""
                        },
                        "type": "mesh3d"
                      }
                    ],
                    "parcoords": [
                      {
                        "line": {
                          "colorbar": {
                            "outlinewidth": 0,
                            "ticks": ""
                          }
                        },
                        "type": "parcoords"
                      }
                    ],
                    "pie": [
                      {
                        "automargin": true,
                        "type": "pie"
                      }
                    ],
                    "scatter": [
                      {
                        "fillpattern": {
                          "fillmode": "overlay",
                          "size": 10,
                          "solidity": 0.2
                        },
                        "type": "scatter"
                      }
                    ],
                    "scatter3d": [
                      {
                        "line": {
                          "colorbar": {
                            "outlinewidth": 0,
                            "ticks": ""
                          }
                        },
                        "marker": {
                          "colorbar": {
                            "outlinewidth": 0,
                            "ticks": ""
                          }
                        },
                        "type": "scatter3d"
                      }
                    ],
                    "scattercarpet": [
                      {
                        "marker": {
                          "colorbar": {
                            "outlinewidth": 0,
                            "ticks": ""
                          }
                        },
                        "type": "scattercarpet"
                      }
                    ],
                    "scattergeo": [
                      {
                        "marker": {
                          "colorbar": {
                            "outlinewidth": 0,
                            "ticks": ""
                          }
                        },
                        "type": "scattergeo"
                      }
                    ],
                    "scattergl": [
                      {
                        "marker": {
                          "colorbar": {
                            "outlinewidth": 0,
                            "ticks": ""
                          }
                        },
                        "type": "scattergl"
                      }
                    ],
                    "scattermapbox": [
                      {
                        "marker": {
                          "colorbar": {
                            "outlinewidth": 0,
                            "ticks": ""
                          }
                        },
                        "type": "scattermapbox"
                      }
                    ],
                    "scatterpolar": [
                      {
                        "marker": {
                          "colorbar": {
                            "outlinewidth": 0,
                            "ticks": ""
                          }
                        },
                        "type": "scatterpolar"
                      }
                    ],
                    "scatterpolargl": [
                      {
                        "marker": {
                          "colorbar": {
                            "outlinewidth": 0,
                            "ticks": ""
                          }
                        },
                        "type": "scatterpolargl"
                      }
                    ],
                    "scatterternary": [
                      {
                        "marker": {
                          "colorbar": {
                            "outlinewidth": 0,
                            "ticks": ""
                          }
                        },
                        "type": "scatterternary"
                      }
                    ],
                    "surface": [
                      {
                        "colorbar": {
                          "outlinewidth": 0,
                          "ticks": ""
                        },
                        "colorscale": [
                          [
                            0,
                            "#0d0887"
                          ],
                          [
                            0.1111111111111111,
                            "#46039f"
                          ],
                          [
                            0.2222222222222222,
                            "#7201a8"
                          ],
                          [
                            0.3333333333333333,
                            "#9c179e"
                          ],
                          [
                            0.4444444444444444,
                            "#bd3786"
                          ],
                          [
                            0.5555555555555556,
                            "#d8576b"
                          ],
                          [
                            0.6666666666666666,
                            "#ed7953"
                          ],
                          [
                            0.7777777777777778,
                            "#fb9f3a"
                          ],
                          [
                            0.8888888888888888,
                            "#fdca26"
                          ],
                          [
                            1,
                            "#f0f921"
                          ]
                        ],
                        "type": "surface"
                      }
                    ],
                    "table": [
                      {
                        "cells": {
                          "fill": {
                            "color": "#EBF0F8"
                          },
                          "line": {
                            "color": "white"
                          }
                        },
                        "header": {
                          "fill": {
                            "color": "#C8D4E3"
                          },
                          "line": {
                            "color": "white"
                          }
                        },
                        "type": "table"
                      }
                    ]
                  },
                  "layout": {
                    "annotationdefaults": {
                      "arrowcolor": "#2a3f5f",
                      "arrowhead": 0,
                      "arrowwidth": 1
                    },
                    "autotypenumbers": "strict",
                    "coloraxis": {
                      "colorbar": {
                        "outlinewidth": 0,
                        "ticks": ""
                      }
                    },
                    "colorscale": {
                      "diverging": [
                        [
                          0,
                          "#8e0152"
                        ],
                        [
                          0.1,
                          "#c51b7d"
                        ],
                        [
                          0.2,
                          "#de77ae"
                        ],
                        [
                          0.3,
                          "#f1b6da"
                        ],
                        [
                          0.4,
                          "#fde0ef"
                        ],
                        [
                          0.5,
                          "#f7f7f7"
                        ],
                        [
                          0.6,
                          "#e6f5d0"
                        ],
                        [
                          0.7,
                          "#b8e186"
                        ],
                        [
                          0.8,
                          "#7fbc41"
                        ],
                        [
                          0.9,
                          "#4d9221"
                        ],
                        [
                          1,
                          "#276419"
                        ]
                      ],
                      "sequential": [
                        [
                          0,
                          "#0d0887"
                        ],
                        [
                          0.1111111111111111,
                          "#46039f"
                        ],
                        [
                          0.2222222222222222,
                          "#7201a8"
                        ],
                        [
                          0.3333333333333333,
                          "#9c179e"
                        ],
                        [
                          0.4444444444444444,
                          "#bd3786"
                        ],
                        [
                          0.5555555555555556,
                          "#d8576b"
                        ],
                        [
                          0.6666666666666666,
                          "#ed7953"
                        ],
                        [
                          0.7777777777777778,
                          "#fb9f3a"
                        ],
                        [
                          0.8888888888888888,
                          "#fdca26"
                        ],
                        [
                          1,
                          "#f0f921"
                        ]
                      ],
                      "sequentialminus": [
                        [
                          0,
                          "#0d0887"
                        ],
                        [
                          0.1111111111111111,
                          "#46039f"
                        ],
                        [
                          0.2222222222222222,
                          "#7201a8"
                        ],
                        [
                          0.3333333333333333,
                          "#9c179e"
                        ],
                        [
                          0.4444444444444444,
                          "#bd3786"
                        ],
                        [
                          0.5555555555555556,
                          "#d8576b"
                        ],
                        [
                          0.6666666666666666,
                          "#ed7953"
                        ],
                        [
                          0.7777777777777778,
                          "#fb9f3a"
                        ],
                        [
                          0.8888888888888888,
                          "#fdca26"
                        ],
                        [
                          1,
                          "#f0f921"
                        ]
                      ]
                    },
                    "colorway": [
                      "#636efa",
                      "#EF553B",
                      "#00cc96",
                      "#ab63fa",
                      "#FFA15A",
                      "#19d3f3",
                      "#FF6692",
                      "#B6E880",
                      "#FF97FF",
                      "#FECB52"
                    ],
                    "font": {
                      "color": "#2a3f5f"
                    },
                    "geo": {
                      "bgcolor": "white",
                      "lakecolor": "white",
                      "landcolor": "#E5ECF6",
                      "showlakes": true,
                      "showland": true,
                      "subunitcolor": "white"
                    },
                    "hoverlabel": {
                      "align": "left"
                    },
                    "hovermode": "closest",
                    "mapbox": {
                      "style": "light"
                    },
                    "paper_bgcolor": "white",
                    "plot_bgcolor": "#E5ECF6",
                    "polar": {
                      "angularaxis": {
                        "gridcolor": "white",
                        "linecolor": "white",
                        "ticks": ""
                      },
                      "bgcolor": "#E5ECF6",
                      "radialaxis": {
                        "gridcolor": "white",
                        "linecolor": "white",
                        "ticks": ""
                      }
                    },
                    "scene": {
                      "xaxis": {
                        "backgroundcolor": "#E5ECF6",
                        "gridcolor": "white",
                        "gridwidth": 2,
                        "linecolor": "white",
                        "showbackground": true,
                        "ticks": "",
                        "zerolinecolor": "white"
                      },
                      "yaxis": {
                        "backgroundcolor": "#E5ECF6",
                        "gridcolor": "white",
                        "gridwidth": 2,
                        "linecolor": "white",
                        "showbackground": true,
                        "ticks": "",
                        "zerolinecolor": "white"
                      },
                      "zaxis": {
                        "backgroundcolor": "#E5ECF6",
                        "gridcolor": "white",
                        "gridwidth": 2,
                        "linecolor": "white",
                        "showbackground": true,
                        "ticks": "",
                        "zerolinecolor": "white"
                      }
                    },
                    "shapedefaults": {
                      "line": {
                        "color": "#2a3f5f"
                      }
                    },
                    "ternary": {
                      "aaxis": {
                        "gridcolor": "white",
                        "linecolor": "white",
                        "ticks": ""
                      },
                      "baxis": {
                        "gridcolor": "white",
                        "linecolor": "white",
                        "ticks": ""
                      },
                      "bgcolor": "#E5ECF6",
                      "caxis": {
                        "gridcolor": "white",
                        "linecolor": "white",
                        "ticks": ""
                      }
                    },
                    "title": {
                      "x": 0.05
                    },
                    "xaxis": {
                      "automargin": true,
                      "gridcolor": "white",
                      "linecolor": "white",
                      "ticks": "",
                      "title": {
                        "standoff": 15
                      },
                      "zerolinecolor": "white",
                      "zerolinewidth": 2
                    },
                    "yaxis": {
                      "automargin": true,
                      "gridcolor": "white",
                      "linecolor": "white",
                      "ticks": "",
                      "title": {
                        "standoff": 15
                      },
                      "zerolinecolor": "white",
                      "zerolinewidth": 2
                    }
                  }
                },
                "xaxis": {
                  "anchor": "y",
                  "domain": [
                    0,
                    1
                  ],
                  "title": {
                    "text": "date"
                  }
                },
                "yaxis": {
                  "anchor": "x",
                  "domain": [
                    0,
                    1
                  ],
                  "title": {
                    "text": "value"
                  }
                }
              }
            }
          },
          "metadata": {},
          "output_type": "display_data"
        }
      ],
      "source": [
        "# Plot it\n",
        "px.line(df.sales)"
      ]
    },
    {
      "cell_type": "code",
      "execution_count": 10,
      "metadata": {},
      "outputs": [
        {
          "data": {
            "application/vnd.plotly.v1+json": {
              "config": {
                "plotlyServerURL": "https://plot.ly"
              },
              "data": [
                {
                  "alignmentgroup": "True",
                  "hovertemplate": "variable=tv<br>date=%{x}<br>value=%{y}<extra></extra>",
                  "legendgroup": "tv",
                  "marker": {
                    "color": "#636efa",
                    "pattern": {
                      "shape": ""
                    }
                  },
                  "name": "tv",
                  "offsetgroup": "tv",
                  "orientation": "v",
                  "showlegend": true,
                  "textposition": "auto",
                  "type": "bar",
                  "x": [
                    "2019-01-13T00:00:00",
                    "2019-01-20T00:00:00",
                    "2019-01-27T00:00:00",
                    "2019-02-03T00:00:00",
                    "2019-02-10T00:00:00",
                    "2019-02-17T00:00:00",
                    "2019-02-24T00:00:00",
                    "2019-03-03T00:00:00",
                    "2019-03-10T00:00:00",
                    "2019-03-17T00:00:00",
                    "2019-03-24T00:00:00",
                    "2019-03-31T00:00:00",
                    "2019-04-07T00:00:00",
                    "2019-04-14T00:00:00",
                    "2019-04-21T00:00:00",
                    "2019-04-28T00:00:00",
                    "2019-05-05T00:00:00",
                    "2019-05-12T00:00:00",
                    "2019-05-19T00:00:00",
                    "2019-05-26T00:00:00",
                    "2019-06-02T00:00:00",
                    "2019-06-09T00:00:00",
                    "2019-06-16T00:00:00",
                    "2019-06-23T00:00:00",
                    "2019-06-30T00:00:00",
                    "2019-07-07T00:00:00",
                    "2019-07-14T00:00:00",
                    "2019-07-21T00:00:00",
                    "2019-07-28T00:00:00",
                    "2019-08-04T00:00:00",
                    "2019-08-11T00:00:00",
                    "2019-08-18T00:00:00",
                    "2019-08-25T00:00:00",
                    "2019-09-01T00:00:00",
                    "2019-09-08T00:00:00",
                    "2019-09-15T00:00:00",
                    "2019-09-22T00:00:00",
                    "2019-09-29T00:00:00",
                    "2019-10-06T00:00:00",
                    "2019-10-13T00:00:00",
                    "2019-10-20T00:00:00",
                    "2019-10-27T00:00:00",
                    "2019-11-03T00:00:00",
                    "2019-11-10T00:00:00",
                    "2019-11-17T00:00:00",
                    "2019-11-24T00:00:00",
                    "2019-12-01T00:00:00",
                    "2019-12-08T00:00:00",
                    "2019-12-15T00:00:00",
                    "2019-12-22T00:00:00",
                    "2019-12-29T00:00:00",
                    "2020-01-05T00:00:00",
                    "2020-01-12T00:00:00",
                    "2020-01-19T00:00:00",
                    "2020-01-26T00:00:00",
                    "2020-02-02T00:00:00",
                    "2020-02-09T00:00:00",
                    "2020-02-16T00:00:00",
                    "2020-02-23T00:00:00",
                    "2020-03-01T00:00:00",
                    "2020-03-08T00:00:00",
                    "2020-03-15T00:00:00",
                    "2020-03-22T00:00:00",
                    "2020-03-29T00:00:00",
                    "2020-04-05T00:00:00",
                    "2020-04-12T00:00:00",
                    "2020-04-19T00:00:00",
                    "2020-04-26T00:00:00",
                    "2020-05-03T00:00:00",
                    "2020-05-10T00:00:00",
                    "2020-05-17T00:00:00",
                    "2020-05-24T00:00:00",
                    "2020-05-31T00:00:00",
                    "2020-06-07T00:00:00",
                    "2020-06-14T00:00:00",
                    "2020-06-21T00:00:00",
                    "2020-06-28T00:00:00",
                    "2020-07-05T00:00:00",
                    "2020-07-12T00:00:00",
                    "2020-07-19T00:00:00",
                    "2020-07-26T00:00:00",
                    "2020-08-02T00:00:00",
                    "2020-08-09T00:00:00",
                    "2020-08-16T00:00:00",
                    "2020-08-23T00:00:00",
                    "2020-08-30T00:00:00",
                    "2020-09-06T00:00:00",
                    "2020-09-13T00:00:00",
                    "2020-09-20T00:00:00",
                    "2020-09-27T00:00:00",
                    "2020-10-04T00:00:00",
                    "2020-10-11T00:00:00",
                    "2020-10-18T00:00:00",
                    "2020-10-25T00:00:00",
                    "2020-11-01T00:00:00",
                    "2020-11-08T00:00:00",
                    "2020-11-15T00:00:00",
                    "2020-11-22T00:00:00",
                    "2020-11-29T00:00:00",
                    "2020-12-06T00:00:00",
                    "2020-12-13T00:00:00",
                    "2020-12-20T00:00:00",
                    "2020-12-27T00:00:00",
                    "2021-01-03T00:00:00",
                    "2021-01-10T00:00:00",
                    "2021-01-17T00:00:00",
                    "2021-01-24T00:00:00",
                    "2021-01-31T00:00:00",
                    "2021-02-07T00:00:00",
                    "2021-02-14T00:00:00",
                    "2021-02-21T00:00:00",
                    "2021-02-28T00:00:00",
                    "2021-03-07T00:00:00",
                    "2021-03-14T00:00:00",
                    "2021-03-21T00:00:00",
                    "2021-03-28T00:00:00",
                    "2021-04-04T00:00:00",
                    "2021-04-11T00:00:00",
                    "2021-04-18T00:00:00",
                    "2021-04-25T00:00:00",
                    "2021-05-02T00:00:00",
                    "2021-05-09T00:00:00",
                    "2021-05-16T00:00:00",
                    "2021-05-23T00:00:00",
                    "2021-05-30T00:00:00",
                    "2021-06-06T00:00:00",
                    "2021-06-13T00:00:00",
                    "2021-06-20T00:00:00",
                    "2021-06-27T00:00:00",
                    "2021-07-04T00:00:00",
                    "2021-07-11T00:00:00",
                    "2021-07-18T00:00:00",
                    "2021-07-25T00:00:00",
                    "2021-08-01T00:00:00",
                    "2021-08-08T00:00:00",
                    "2021-08-15T00:00:00",
                    "2021-08-22T00:00:00",
                    "2021-08-29T00:00:00",
                    "2021-09-05T00:00:00",
                    "2021-09-12T00:00:00",
                    "2021-09-19T00:00:00",
                    "2021-09-26T00:00:00",
                    "2021-10-03T00:00:00",
                    "2021-10-10T00:00:00",
                    "2021-10-17T00:00:00",
                    "2021-10-24T00:00:00",
                    "2021-10-31T00:00:00",
                    "2021-11-07T00:00:00",
                    "2021-11-14T00:00:00",
                    "2021-11-21T00:00:00",
                    "2021-11-28T00:00:00",
                    "2021-12-05T00:00:00",
                    "2021-12-12T00:00:00",
                    "2021-12-19T00:00:00",
                    "2021-12-26T00:00:00",
                    "2022-01-02T00:00:00",
                    "2022-01-09T00:00:00",
                    "2022-01-16T00:00:00",
                    "2022-01-23T00:00:00",
                    "2022-01-30T00:00:00",
                    "2022-02-06T00:00:00",
                    "2022-02-13T00:00:00",
                    "2022-02-20T00:00:00",
                    "2022-02-27T00:00:00",
                    "2022-03-06T00:00:00",
                    "2022-03-13T00:00:00",
                    "2022-03-20T00:00:00",
                    "2022-03-27T00:00:00",
                    "2022-04-03T00:00:00",
                    "2022-04-10T00:00:00",
                    "2022-04-17T00:00:00",
                    "2022-04-24T00:00:00",
                    "2022-05-01T00:00:00",
                    "2022-05-08T00:00:00",
                    "2022-05-15T00:00:00",
                    "2022-05-22T00:00:00",
                    "2022-05-29T00:00:00",
                    "2022-06-05T00:00:00",
                    "2022-06-12T00:00:00",
                    "2022-06-19T00:00:00",
                    "2022-06-26T00:00:00",
                    "2022-07-03T00:00:00",
                    "2022-07-10T00:00:00",
                    "2022-07-17T00:00:00",
                    "2022-07-24T00:00:00",
                    "2022-07-31T00:00:00",
                    "2022-08-07T00:00:00",
                    "2022-08-14T00:00:00",
                    "2022-08-21T00:00:00",
                    "2022-08-28T00:00:00",
                    "2022-09-04T00:00:00",
                    "2022-09-11T00:00:00",
                    "2022-09-18T00:00:00",
                    "2022-09-25T00:00:00",
                    "2022-10-02T00:00:00",
                    "2022-10-09T00:00:00",
                    "2022-10-16T00:00:00",
                    "2022-10-23T00:00:00",
                    "2022-10-30T00:00:00",
                    "2022-11-06T00:00:00",
                    "2022-11-13T00:00:00",
                    "2022-11-20T00:00:00",
                    "2022-11-27T00:00:00",
                    "2022-12-04T00:00:00",
                    "2022-12-11T00:00:00",
                    "2022-12-18T00:00:00",
                    "2022-12-25T00:00:00",
                    "2023-01-01T00:00:00",
                    "2023-01-08T00:00:00",
                    "2023-01-15T00:00:00",
                    "2023-01-22T00:00:00",
                    "2023-01-29T00:00:00",
                    "2023-02-05T00:00:00",
                    "2023-02-12T00:00:00",
                    "2023-02-19T00:00:00",
                    "2023-02-26T00:00:00",
                    "2023-03-05T00:00:00",
                    "2023-03-12T00:00:00",
                    "2023-03-19T00:00:00",
                    "2023-03-26T00:00:00",
                    "2023-04-02T00:00:00",
                    "2023-04-09T00:00:00",
                    "2023-04-16T00:00:00",
                    "2023-04-23T00:00:00",
                    "2023-04-30T00:00:00",
                    "2023-05-07T00:00:00",
                    "2023-05-14T00:00:00",
                    "2023-05-21T00:00:00",
                    "2023-05-28T00:00:00",
                    "2023-06-04T00:00:00",
                    "2023-06-11T00:00:00",
                    "2023-06-18T00:00:00",
                    "2023-06-25T00:00:00",
                    "2023-07-02T00:00:00",
                    "2023-07-09T00:00:00",
                    "2023-07-16T00:00:00",
                    "2023-07-23T00:00:00",
                    "2023-07-30T00:00:00",
                    "2023-08-06T00:00:00",
                    "2023-08-13T00:00:00",
                    "2023-08-20T00:00:00",
                    "2023-08-27T00:00:00",
                    "2023-09-03T00:00:00",
                    "2023-09-10T00:00:00",
                    "2023-09-17T00:00:00",
                    "2023-09-24T00:00:00",
                    "2023-10-01T00:00:00",
                    "2023-10-08T00:00:00",
                    "2023-10-15T00:00:00",
                    "2023-10-22T00:00:00",
                    "2023-10-29T00:00:00",
                    "2023-11-05T00:00:00",
                    "2023-11-12T00:00:00",
                    "2023-11-19T00:00:00",
                    "2023-11-26T00:00:00",
                    "2023-12-03T00:00:00",
                    "2023-12-10T00:00:00",
                    "2023-12-17T00:00:00",
                    "2023-12-24T00:00:00"
                  ],
                  "xaxis": "x",
                  "y": [
                    0.95,
                    0.96,
                    0.9,
                    0.84,
                    0.78,
                    0.78,
                    0.78,
                    0.77,
                    0.77,
                    0.77,
                    0.76,
                    0.75,
                    0.75,
                    0.74,
                    0.75,
                    0.76,
                    0.76,
                    0.75,
                    0.76,
                    0.66,
                    0.5,
                    0.5,
                    0.62,
                    0.5,
                    0.77,
                    0.77,
                    0.77,
                    0.77,
                    0.77,
                    0.77,
                    0.77,
                    0.77,
                    0.77,
                    0.77,
                    0.77,
                    0.77,
                    0.77,
                    0.77,
                    0.77,
                    0.77,
                    0.92,
                    0.92,
                    0.91,
                    0.9,
                    0.9,
                    0.93,
                    0.94,
                    0.95,
                    0.94,
                    0.94,
                    0.94,
                    0.95,
                    0.95,
                    0.97,
                    0.9,
                    0.83,
                    0.76,
                    0.55,
                    0.77,
                    0.61,
                    0.55,
                    0.44,
                    0.44,
                    0.41,
                    0.41,
                    0.33,
                    0.32,
                    0.37,
                    0.31,
                    0.3,
                    0.42,
                    0.22,
                    0.2,
                    0.2,
                    0.12,
                    0.12,
                    0.02,
                    0.02,
                    0.02,
                    0.02,
                    0.02,
                    0.02,
                    0,
                    0.02,
                    0.02,
                    0.02,
                    0.02,
                    0.02,
                    0.12,
                    0.12,
                    0.12,
                    0.17,
                    0.16,
                    0.15,
                    0.16,
                    0.16,
                    0.17,
                    0.17,
                    0.17,
                    0.17,
                    0.18,
                    0.05,
                    0.1,
                    0.07,
                    0.04,
                    0.02,
                    0.02,
                    0.01,
                    0.06,
                    0.1,
                    0.1,
                    0.03,
                    0.03,
                    0.03,
                    0.02,
                    0.01,
                    0.02,
                    0.02,
                    0.03,
                    0.02,
                    0.03,
                    0.01,
                    0.02,
                    0.03,
                    0.03,
                    0.02,
                    0.01,
                    0.01,
                    0,
                    0,
                    0,
                    0.01,
                    0.01,
                    0.02,
                    0.02,
                    0.02,
                    0.02,
                    0.01,
                    0.01,
                    0.11,
                    0.55,
                    0.52,
                    0.56,
                    0.73,
                    0.72,
                    0.81,
                    0.81,
                    0.81,
                    0.87,
                    0.88,
                    0.92,
                    0.94,
                    0.95,
                    0.95,
                    0.96,
                    0.96,
                    0.96,
                    0.95,
                    0.95,
                    0.91,
                    0.85,
                    0.79,
                    0.79,
                    0.79,
                    0.8,
                    0.8,
                    0.8,
                    0.79,
                    0.66,
                    0.61,
                    0.6,
                    0.6,
                    0.6,
                    0.6,
                    0.5,
                    0.2,
                    0.2,
                    0.2,
                    0.2,
                    0.2,
                    0.25,
                    0.25,
                    0.26,
                    0.26,
                    0.33,
                    0.33,
                    0.33,
                    0.22,
                    0.21,
                    0.2,
                    0.44,
                    0.55,
                    0.56,
                    0.66,
                    0.68,
                    0.68,
                    0.78,
                    0.78,
                    0.8,
                    0.9,
                    0.9,
                    0.85,
                    0.88,
                    0.85,
                    0.85,
                    0.86,
                    0.87,
                    1,
                    1,
                    1,
                    0.88,
                    0.92,
                    0.93,
                    0.79,
                    0.81,
                    0.82,
                    0.77,
                    0.78,
                    0.8,
                    0.79,
                    0.79,
                    0.77,
                    0.77,
                    0.68,
                    0.55,
                    0.48,
                    0.57,
                    0.48,
                    0.48,
                    0.38,
                    0.28,
                    0.28,
                    0.29,
                    0.28,
                    0.29,
                    0.28,
                    0.27,
                    0.22,
                    0.18,
                    0.22,
                    0.38,
                    0.39,
                    0.38,
                    0.48,
                    0.57,
                    0.52,
                    0.69,
                    0.74,
                    0.74,
                    0.73,
                    0.85,
                    0.82,
                    0.84,
                    0.83,
                    0.94,
                    0.95,
                    0.97,
                    0.97,
                    0.97
                  ],
                  "yaxis": "y"
                },
                {
                  "alignmentgroup": "True",
                  "hovertemplate": "variable=social_media<br>date=%{x}<br>value=%{y}<extra></extra>",
                  "legendgroup": "social_media",
                  "marker": {
                    "color": "#EF553B",
                    "pattern": {
                      "shape": ""
                    }
                  },
                  "name": "social_media",
                  "offsetgroup": "social_media",
                  "orientation": "v",
                  "showlegend": true,
                  "textposition": "auto",
                  "type": "bar",
                  "x": [
                    "2019-01-13T00:00:00",
                    "2019-01-20T00:00:00",
                    "2019-01-27T00:00:00",
                    "2019-02-03T00:00:00",
                    "2019-02-10T00:00:00",
                    "2019-02-17T00:00:00",
                    "2019-02-24T00:00:00",
                    "2019-03-03T00:00:00",
                    "2019-03-10T00:00:00",
                    "2019-03-17T00:00:00",
                    "2019-03-24T00:00:00",
                    "2019-03-31T00:00:00",
                    "2019-04-07T00:00:00",
                    "2019-04-14T00:00:00",
                    "2019-04-21T00:00:00",
                    "2019-04-28T00:00:00",
                    "2019-05-05T00:00:00",
                    "2019-05-12T00:00:00",
                    "2019-05-19T00:00:00",
                    "2019-05-26T00:00:00",
                    "2019-06-02T00:00:00",
                    "2019-06-09T00:00:00",
                    "2019-06-16T00:00:00",
                    "2019-06-23T00:00:00",
                    "2019-06-30T00:00:00",
                    "2019-07-07T00:00:00",
                    "2019-07-14T00:00:00",
                    "2019-07-21T00:00:00",
                    "2019-07-28T00:00:00",
                    "2019-08-04T00:00:00",
                    "2019-08-11T00:00:00",
                    "2019-08-18T00:00:00",
                    "2019-08-25T00:00:00",
                    "2019-09-01T00:00:00",
                    "2019-09-08T00:00:00",
                    "2019-09-15T00:00:00",
                    "2019-09-22T00:00:00",
                    "2019-09-29T00:00:00",
                    "2019-10-06T00:00:00",
                    "2019-10-13T00:00:00",
                    "2019-10-20T00:00:00",
                    "2019-10-27T00:00:00",
                    "2019-11-03T00:00:00",
                    "2019-11-10T00:00:00",
                    "2019-11-17T00:00:00",
                    "2019-11-24T00:00:00",
                    "2019-12-01T00:00:00",
                    "2019-12-08T00:00:00",
                    "2019-12-15T00:00:00",
                    "2019-12-22T00:00:00",
                    "2019-12-29T00:00:00",
                    "2020-01-05T00:00:00",
                    "2020-01-12T00:00:00",
                    "2020-01-19T00:00:00",
                    "2020-01-26T00:00:00",
                    "2020-02-02T00:00:00",
                    "2020-02-09T00:00:00",
                    "2020-02-16T00:00:00",
                    "2020-02-23T00:00:00",
                    "2020-03-01T00:00:00",
                    "2020-03-08T00:00:00",
                    "2020-03-15T00:00:00",
                    "2020-03-22T00:00:00",
                    "2020-03-29T00:00:00",
                    "2020-04-05T00:00:00",
                    "2020-04-12T00:00:00",
                    "2020-04-19T00:00:00",
                    "2020-04-26T00:00:00",
                    "2020-05-03T00:00:00",
                    "2020-05-10T00:00:00",
                    "2020-05-17T00:00:00",
                    "2020-05-24T00:00:00",
                    "2020-05-31T00:00:00",
                    "2020-06-07T00:00:00",
                    "2020-06-14T00:00:00",
                    "2020-06-21T00:00:00",
                    "2020-06-28T00:00:00",
                    "2020-07-05T00:00:00",
                    "2020-07-12T00:00:00",
                    "2020-07-19T00:00:00",
                    "2020-07-26T00:00:00",
                    "2020-08-02T00:00:00",
                    "2020-08-09T00:00:00",
                    "2020-08-16T00:00:00",
                    "2020-08-23T00:00:00",
                    "2020-08-30T00:00:00",
                    "2020-09-06T00:00:00",
                    "2020-09-13T00:00:00",
                    "2020-09-20T00:00:00",
                    "2020-09-27T00:00:00",
                    "2020-10-04T00:00:00",
                    "2020-10-11T00:00:00",
                    "2020-10-18T00:00:00",
                    "2020-10-25T00:00:00",
                    "2020-11-01T00:00:00",
                    "2020-11-08T00:00:00",
                    "2020-11-15T00:00:00",
                    "2020-11-22T00:00:00",
                    "2020-11-29T00:00:00",
                    "2020-12-06T00:00:00",
                    "2020-12-13T00:00:00",
                    "2020-12-20T00:00:00",
                    "2020-12-27T00:00:00",
                    "2021-01-03T00:00:00",
                    "2021-01-10T00:00:00",
                    "2021-01-17T00:00:00",
                    "2021-01-24T00:00:00",
                    "2021-01-31T00:00:00",
                    "2021-02-07T00:00:00",
                    "2021-02-14T00:00:00",
                    "2021-02-21T00:00:00",
                    "2021-02-28T00:00:00",
                    "2021-03-07T00:00:00",
                    "2021-03-14T00:00:00",
                    "2021-03-21T00:00:00",
                    "2021-03-28T00:00:00",
                    "2021-04-04T00:00:00",
                    "2021-04-11T00:00:00",
                    "2021-04-18T00:00:00",
                    "2021-04-25T00:00:00",
                    "2021-05-02T00:00:00",
                    "2021-05-09T00:00:00",
                    "2021-05-16T00:00:00",
                    "2021-05-23T00:00:00",
                    "2021-05-30T00:00:00",
                    "2021-06-06T00:00:00",
                    "2021-06-13T00:00:00",
                    "2021-06-20T00:00:00",
                    "2021-06-27T00:00:00",
                    "2021-07-04T00:00:00",
                    "2021-07-11T00:00:00",
                    "2021-07-18T00:00:00",
                    "2021-07-25T00:00:00",
                    "2021-08-01T00:00:00",
                    "2021-08-08T00:00:00",
                    "2021-08-15T00:00:00",
                    "2021-08-22T00:00:00",
                    "2021-08-29T00:00:00",
                    "2021-09-05T00:00:00",
                    "2021-09-12T00:00:00",
                    "2021-09-19T00:00:00",
                    "2021-09-26T00:00:00",
                    "2021-10-03T00:00:00",
                    "2021-10-10T00:00:00",
                    "2021-10-17T00:00:00",
                    "2021-10-24T00:00:00",
                    "2021-10-31T00:00:00",
                    "2021-11-07T00:00:00",
                    "2021-11-14T00:00:00",
                    "2021-11-21T00:00:00",
                    "2021-11-28T00:00:00",
                    "2021-12-05T00:00:00",
                    "2021-12-12T00:00:00",
                    "2021-12-19T00:00:00",
                    "2021-12-26T00:00:00",
                    "2022-01-02T00:00:00",
                    "2022-01-09T00:00:00",
                    "2022-01-16T00:00:00",
                    "2022-01-23T00:00:00",
                    "2022-01-30T00:00:00",
                    "2022-02-06T00:00:00",
                    "2022-02-13T00:00:00",
                    "2022-02-20T00:00:00",
                    "2022-02-27T00:00:00",
                    "2022-03-06T00:00:00",
                    "2022-03-13T00:00:00",
                    "2022-03-20T00:00:00",
                    "2022-03-27T00:00:00",
                    "2022-04-03T00:00:00",
                    "2022-04-10T00:00:00",
                    "2022-04-17T00:00:00",
                    "2022-04-24T00:00:00",
                    "2022-05-01T00:00:00",
                    "2022-05-08T00:00:00",
                    "2022-05-15T00:00:00",
                    "2022-05-22T00:00:00",
                    "2022-05-29T00:00:00",
                    "2022-06-05T00:00:00",
                    "2022-06-12T00:00:00",
                    "2022-06-19T00:00:00",
                    "2022-06-26T00:00:00",
                    "2022-07-03T00:00:00",
                    "2022-07-10T00:00:00",
                    "2022-07-17T00:00:00",
                    "2022-07-24T00:00:00",
                    "2022-07-31T00:00:00",
                    "2022-08-07T00:00:00",
                    "2022-08-14T00:00:00",
                    "2022-08-21T00:00:00",
                    "2022-08-28T00:00:00",
                    "2022-09-04T00:00:00",
                    "2022-09-11T00:00:00",
                    "2022-09-18T00:00:00",
                    "2022-09-25T00:00:00",
                    "2022-10-02T00:00:00",
                    "2022-10-09T00:00:00",
                    "2022-10-16T00:00:00",
                    "2022-10-23T00:00:00",
                    "2022-10-30T00:00:00",
                    "2022-11-06T00:00:00",
                    "2022-11-13T00:00:00",
                    "2022-11-20T00:00:00",
                    "2022-11-27T00:00:00",
                    "2022-12-04T00:00:00",
                    "2022-12-11T00:00:00",
                    "2022-12-18T00:00:00",
                    "2022-12-25T00:00:00",
                    "2023-01-01T00:00:00",
                    "2023-01-08T00:00:00",
                    "2023-01-15T00:00:00",
                    "2023-01-22T00:00:00",
                    "2023-01-29T00:00:00",
                    "2023-02-05T00:00:00",
                    "2023-02-12T00:00:00",
                    "2023-02-19T00:00:00",
                    "2023-02-26T00:00:00",
                    "2023-03-05T00:00:00",
                    "2023-03-12T00:00:00",
                    "2023-03-19T00:00:00",
                    "2023-03-26T00:00:00",
                    "2023-04-02T00:00:00",
                    "2023-04-09T00:00:00",
                    "2023-04-16T00:00:00",
                    "2023-04-23T00:00:00",
                    "2023-04-30T00:00:00",
                    "2023-05-07T00:00:00",
                    "2023-05-14T00:00:00",
                    "2023-05-21T00:00:00",
                    "2023-05-28T00:00:00",
                    "2023-06-04T00:00:00",
                    "2023-06-11T00:00:00",
                    "2023-06-18T00:00:00",
                    "2023-06-25T00:00:00",
                    "2023-07-02T00:00:00",
                    "2023-07-09T00:00:00",
                    "2023-07-16T00:00:00",
                    "2023-07-23T00:00:00",
                    "2023-07-30T00:00:00",
                    "2023-08-06T00:00:00",
                    "2023-08-13T00:00:00",
                    "2023-08-20T00:00:00",
                    "2023-08-27T00:00:00",
                    "2023-09-03T00:00:00",
                    "2023-09-10T00:00:00",
                    "2023-09-17T00:00:00",
                    "2023-09-24T00:00:00",
                    "2023-10-01T00:00:00",
                    "2023-10-08T00:00:00",
                    "2023-10-15T00:00:00",
                    "2023-10-22T00:00:00",
                    "2023-10-29T00:00:00",
                    "2023-11-05T00:00:00",
                    "2023-11-12T00:00:00",
                    "2023-11-19T00:00:00",
                    "2023-11-26T00:00:00",
                    "2023-12-03T00:00:00",
                    "2023-12-10T00:00:00",
                    "2023-12-17T00:00:00",
                    "2023-12-24T00:00:00"
                  ],
                  "xaxis": "x",
                  "y": [
                    0.47,
                    0.56,
                    0.55,
                    0.47,
                    0.48,
                    0.56,
                    0.54,
                    0.45,
                    0.34,
                    0.35,
                    0.32,
                    0.19,
                    0.08,
                    0.01,
                    0.09,
                    0.27,
                    0.24,
                    0.21,
                    0.31,
                    0.36,
                    0.36,
                    0.36,
                    0.36,
                    0.36,
                    0.41,
                    0.36,
                    0.41,
                    0.36,
                    0.41,
                    0.36,
                    0.36,
                    0.36,
                    0.41,
                    0.36,
                    0.44,
                    0.36,
                    0.36,
                    0.55,
                    0.55,
                    0.66,
                    0.45,
                    0.45,
                    0.55,
                    0.51,
                    0.59,
                    0.68,
                    0.83,
                    0.77,
                    0.71,
                    0.64,
                    0.59,
                    0.48,
                    0.46,
                    0.61,
                    0.48,
                    0.36,
                    0.31,
                    0.47,
                    0.45,
                    0.41,
                    0.16,
                    0.16,
                    0.25,
                    0.46,
                    0.56,
                    0.58,
                    0.49,
                    0.44,
                    0.38,
                    0.49,
                    0.54,
                    0.65,
                    0.65,
                    0.55,
                    0.55,
                    0.65,
                    0.65,
                    0.65,
                    0.65,
                    0.65,
                    0.65,
                    0.65,
                    0.66,
                    0.65,
                    0.65,
                    0.65,
                    0.65,
                    0.65,
                    0.55,
                    0.55,
                    0.55,
                    0.22,
                    0.22,
                    0.22,
                    0.22,
                    0.22,
                    0.22,
                    0.12,
                    0.18,
                    0.33,
                    0.33,
                    0.33,
                    0.33,
                    0.44,
                    0.55,
                    0.55,
                    0.43,
                    0.47,
                    0.11,
                    0.06,
                    0.06,
                    0.33,
                    0.37,
                    0.45,
                    0.23,
                    0.24,
                    0.22,
                    0.28,
                    0.46,
                    0.28,
                    0.33,
                    0.14,
                    0.27,
                    0.34,
                    0.38,
                    0.28,
                    0.09,
                    0.14,
                    0.05,
                    0.05,
                    0,
                    0.17,
                    0.09,
                    0.32,
                    0.21,
                    0.26,
                    0.19,
                    0.16,
                    0.21,
                    0.3,
                    0.32,
                    0.37,
                    0.28,
                    0.48,
                    0.36,
                    0.22,
                    0.29,
                    0.51,
                    0.74,
                    0.72,
                    0.69,
                    0.74,
                    0.78,
                    0.78,
                    0.78,
                    0.66,
                    0.48,
                    0.37,
                    0.26,
                    0.45,
                    0.52,
                    0.53,
                    0.55,
                    0.48,
                    0.63,
                    0.71,
                    0.65,
                    0.51,
                    0.27,
                    0.22,
                    0.27,
                    0.38,
                    0.48,
                    0.56,
                    0.53,
                    0.63,
                    0.54,
                    0.77,
                    0.7,
                    0.65,
                    0.32,
                    0.31,
                    0.36,
                    0.52,
                    0.52,
                    0.53,
                    0.39,
                    0.22,
                    0.18,
                    0.34,
                    0.48,
                    0.42,
                    0.36,
                    0.37,
                    0.41,
                    0.4,
                    0.37,
                    0.35,
                    0.46,
                    0.59,
                    0.87,
                    0.93,
                    0.82,
                    0.69,
                    0.69,
                    0.86,
                    0.85,
                    1,
                    0.86,
                    0.92,
                    0.66,
                    0.67,
                    0.55,
                    0.53,
                    0.41,
                    0.41,
                    0.3,
                    0.37,
                    0.6,
                    0.48,
                    0.53,
                    0.18,
                    0.31,
                    0.34,
                    0.49,
                    0.44,
                    0.28,
                    0.33,
                    0.36,
                    0.45,
                    0.39,
                    0.4,
                    0.57,
                    0.62,
                    0.5,
                    0.33,
                    0.21,
                    0.46,
                    0.38,
                    0.43,
                    0.39,
                    0.54,
                    0.45,
                    0.37,
                    0.26,
                    0.31,
                    0.49,
                    0.56,
                    0.51,
                    0.44,
                    0.67,
                    0.96,
                    0.84,
                    0.61,
                    0.68,
                    0.81,
                    0.94,
                    0.9,
                    0.88
                  ],
                  "yaxis": "y"
                },
                {
                  "alignmentgroup": "True",
                  "hovertemplate": "variable=congress<br>date=%{x}<br>value=%{y}<extra></extra>",
                  "legendgroup": "congress",
                  "marker": {
                    "color": "#00cc96",
                    "pattern": {
                      "shape": ""
                    }
                  },
                  "name": "congress",
                  "offsetgroup": "congress",
                  "orientation": "v",
                  "showlegend": true,
                  "textposition": "auto",
                  "type": "bar",
                  "x": [
                    "2019-01-13T00:00:00",
                    "2019-01-20T00:00:00",
                    "2019-01-27T00:00:00",
                    "2019-02-03T00:00:00",
                    "2019-02-10T00:00:00",
                    "2019-02-17T00:00:00",
                    "2019-02-24T00:00:00",
                    "2019-03-03T00:00:00",
                    "2019-03-10T00:00:00",
                    "2019-03-17T00:00:00",
                    "2019-03-24T00:00:00",
                    "2019-03-31T00:00:00",
                    "2019-04-07T00:00:00",
                    "2019-04-14T00:00:00",
                    "2019-04-21T00:00:00",
                    "2019-04-28T00:00:00",
                    "2019-05-05T00:00:00",
                    "2019-05-12T00:00:00",
                    "2019-05-19T00:00:00",
                    "2019-05-26T00:00:00",
                    "2019-06-02T00:00:00",
                    "2019-06-09T00:00:00",
                    "2019-06-16T00:00:00",
                    "2019-06-23T00:00:00",
                    "2019-06-30T00:00:00",
                    "2019-07-07T00:00:00",
                    "2019-07-14T00:00:00",
                    "2019-07-21T00:00:00",
                    "2019-07-28T00:00:00",
                    "2019-08-04T00:00:00",
                    "2019-08-11T00:00:00",
                    "2019-08-18T00:00:00",
                    "2019-08-25T00:00:00",
                    "2019-09-01T00:00:00",
                    "2019-09-08T00:00:00",
                    "2019-09-15T00:00:00",
                    "2019-09-22T00:00:00",
                    "2019-09-29T00:00:00",
                    "2019-10-06T00:00:00",
                    "2019-10-13T00:00:00",
                    "2019-10-20T00:00:00",
                    "2019-10-27T00:00:00",
                    "2019-11-03T00:00:00",
                    "2019-11-10T00:00:00",
                    "2019-11-17T00:00:00",
                    "2019-11-24T00:00:00",
                    "2019-12-01T00:00:00",
                    "2019-12-08T00:00:00",
                    "2019-12-15T00:00:00",
                    "2019-12-22T00:00:00",
                    "2019-12-29T00:00:00",
                    "2020-01-05T00:00:00",
                    "2020-01-12T00:00:00",
                    "2020-01-19T00:00:00",
                    "2020-01-26T00:00:00",
                    "2020-02-02T00:00:00",
                    "2020-02-09T00:00:00",
                    "2020-02-16T00:00:00",
                    "2020-02-23T00:00:00",
                    "2020-03-01T00:00:00",
                    "2020-03-08T00:00:00",
                    "2020-03-15T00:00:00",
                    "2020-03-22T00:00:00",
                    "2020-03-29T00:00:00",
                    "2020-04-05T00:00:00",
                    "2020-04-12T00:00:00",
                    "2020-04-19T00:00:00",
                    "2020-04-26T00:00:00",
                    "2020-05-03T00:00:00",
                    "2020-05-10T00:00:00",
                    "2020-05-17T00:00:00",
                    "2020-05-24T00:00:00",
                    "2020-05-31T00:00:00",
                    "2020-06-07T00:00:00",
                    "2020-06-14T00:00:00",
                    "2020-06-21T00:00:00",
                    "2020-06-28T00:00:00",
                    "2020-07-05T00:00:00",
                    "2020-07-12T00:00:00",
                    "2020-07-19T00:00:00",
                    "2020-07-26T00:00:00",
                    "2020-08-02T00:00:00",
                    "2020-08-09T00:00:00",
                    "2020-08-16T00:00:00",
                    "2020-08-23T00:00:00",
                    "2020-08-30T00:00:00",
                    "2020-09-06T00:00:00",
                    "2020-09-13T00:00:00",
                    "2020-09-20T00:00:00",
                    "2020-09-27T00:00:00",
                    "2020-10-04T00:00:00",
                    "2020-10-11T00:00:00",
                    "2020-10-18T00:00:00",
                    "2020-10-25T00:00:00",
                    "2020-11-01T00:00:00",
                    "2020-11-08T00:00:00",
                    "2020-11-15T00:00:00",
                    "2020-11-22T00:00:00",
                    "2020-11-29T00:00:00",
                    "2020-12-06T00:00:00",
                    "2020-12-13T00:00:00",
                    "2020-12-20T00:00:00",
                    "2020-12-27T00:00:00",
                    "2021-01-03T00:00:00",
                    "2021-01-10T00:00:00",
                    "2021-01-17T00:00:00",
                    "2021-01-24T00:00:00",
                    "2021-01-31T00:00:00",
                    "2021-02-07T00:00:00",
                    "2021-02-14T00:00:00",
                    "2021-02-21T00:00:00",
                    "2021-02-28T00:00:00",
                    "2021-03-07T00:00:00",
                    "2021-03-14T00:00:00",
                    "2021-03-21T00:00:00",
                    "2021-03-28T00:00:00",
                    "2021-04-04T00:00:00",
                    "2021-04-11T00:00:00",
                    "2021-04-18T00:00:00",
                    "2021-04-25T00:00:00",
                    "2021-05-02T00:00:00",
                    "2021-05-09T00:00:00",
                    "2021-05-16T00:00:00",
                    "2021-05-23T00:00:00",
                    "2021-05-30T00:00:00",
                    "2021-06-06T00:00:00",
                    "2021-06-13T00:00:00",
                    "2021-06-20T00:00:00",
                    "2021-06-27T00:00:00",
                    "2021-07-04T00:00:00",
                    "2021-07-11T00:00:00",
                    "2021-07-18T00:00:00",
                    "2021-07-25T00:00:00",
                    "2021-08-01T00:00:00",
                    "2021-08-08T00:00:00",
                    "2021-08-15T00:00:00",
                    "2021-08-22T00:00:00",
                    "2021-08-29T00:00:00",
                    "2021-09-05T00:00:00",
                    "2021-09-12T00:00:00",
                    "2021-09-19T00:00:00",
                    "2021-09-26T00:00:00",
                    "2021-10-03T00:00:00",
                    "2021-10-10T00:00:00",
                    "2021-10-17T00:00:00",
                    "2021-10-24T00:00:00",
                    "2021-10-31T00:00:00",
                    "2021-11-07T00:00:00",
                    "2021-11-14T00:00:00",
                    "2021-11-21T00:00:00",
                    "2021-11-28T00:00:00",
                    "2021-12-05T00:00:00",
                    "2021-12-12T00:00:00",
                    "2021-12-19T00:00:00",
                    "2021-12-26T00:00:00",
                    "2022-01-02T00:00:00",
                    "2022-01-09T00:00:00",
                    "2022-01-16T00:00:00",
                    "2022-01-23T00:00:00",
                    "2022-01-30T00:00:00",
                    "2022-02-06T00:00:00",
                    "2022-02-13T00:00:00",
                    "2022-02-20T00:00:00",
                    "2022-02-27T00:00:00",
                    "2022-03-06T00:00:00",
                    "2022-03-13T00:00:00",
                    "2022-03-20T00:00:00",
                    "2022-03-27T00:00:00",
                    "2022-04-03T00:00:00",
                    "2022-04-10T00:00:00",
                    "2022-04-17T00:00:00",
                    "2022-04-24T00:00:00",
                    "2022-05-01T00:00:00",
                    "2022-05-08T00:00:00",
                    "2022-05-15T00:00:00",
                    "2022-05-22T00:00:00",
                    "2022-05-29T00:00:00",
                    "2022-06-05T00:00:00",
                    "2022-06-12T00:00:00",
                    "2022-06-19T00:00:00",
                    "2022-06-26T00:00:00",
                    "2022-07-03T00:00:00",
                    "2022-07-10T00:00:00",
                    "2022-07-17T00:00:00",
                    "2022-07-24T00:00:00",
                    "2022-07-31T00:00:00",
                    "2022-08-07T00:00:00",
                    "2022-08-14T00:00:00",
                    "2022-08-21T00:00:00",
                    "2022-08-28T00:00:00",
                    "2022-09-04T00:00:00",
                    "2022-09-11T00:00:00",
                    "2022-09-18T00:00:00",
                    "2022-09-25T00:00:00",
                    "2022-10-02T00:00:00",
                    "2022-10-09T00:00:00",
                    "2022-10-16T00:00:00",
                    "2022-10-23T00:00:00",
                    "2022-10-30T00:00:00",
                    "2022-11-06T00:00:00",
                    "2022-11-13T00:00:00",
                    "2022-11-20T00:00:00",
                    "2022-11-27T00:00:00",
                    "2022-12-04T00:00:00",
                    "2022-12-11T00:00:00",
                    "2022-12-18T00:00:00",
                    "2022-12-25T00:00:00",
                    "2023-01-01T00:00:00",
                    "2023-01-08T00:00:00",
                    "2023-01-15T00:00:00",
                    "2023-01-22T00:00:00",
                    "2023-01-29T00:00:00",
                    "2023-02-05T00:00:00",
                    "2023-02-12T00:00:00",
                    "2023-02-19T00:00:00",
                    "2023-02-26T00:00:00",
                    "2023-03-05T00:00:00",
                    "2023-03-12T00:00:00",
                    "2023-03-19T00:00:00",
                    "2023-03-26T00:00:00",
                    "2023-04-02T00:00:00",
                    "2023-04-09T00:00:00",
                    "2023-04-16T00:00:00",
                    "2023-04-23T00:00:00",
                    "2023-04-30T00:00:00",
                    "2023-05-07T00:00:00",
                    "2023-05-14T00:00:00",
                    "2023-05-21T00:00:00",
                    "2023-05-28T00:00:00",
                    "2023-06-04T00:00:00",
                    "2023-06-11T00:00:00",
                    "2023-06-18T00:00:00",
                    "2023-06-25T00:00:00",
                    "2023-07-02T00:00:00",
                    "2023-07-09T00:00:00",
                    "2023-07-16T00:00:00",
                    "2023-07-23T00:00:00",
                    "2023-07-30T00:00:00",
                    "2023-08-06T00:00:00",
                    "2023-08-13T00:00:00",
                    "2023-08-20T00:00:00",
                    "2023-08-27T00:00:00",
                    "2023-09-03T00:00:00",
                    "2023-09-10T00:00:00",
                    "2023-09-17T00:00:00",
                    "2023-09-24T00:00:00",
                    "2023-10-01T00:00:00",
                    "2023-10-08T00:00:00",
                    "2023-10-15T00:00:00",
                    "2023-10-22T00:00:00",
                    "2023-10-29T00:00:00",
                    "2023-11-05T00:00:00",
                    "2023-11-12T00:00:00",
                    "2023-11-19T00:00:00",
                    "2023-11-26T00:00:00",
                    "2023-12-03T00:00:00",
                    "2023-12-10T00:00:00",
                    "2023-12-17T00:00:00",
                    "2023-12-24T00:00:00"
                  ],
                  "xaxis": "x",
                  "y": [
                    0,
                    0,
                    0,
                    0,
                    0,
                    0,
                    0,
                    0,
                    0,
                    0,
                    0,
                    0,
                    0,
                    0,
                    0,
                    0,
                    0,
                    0,
                    0,
                    0,
                    0,
                    0,
                    0,
                    0,
                    0,
                    0,
                    0,
                    0,
                    0,
                    0,
                    0,
                    0,
                    0,
                    0,
                    0,
                    0,
                    0,
                    0,
                    0,
                    0,
                    0,
                    0,
                    0,
                    0,
                    0,
                    0.21,
                    0.42,
                    0.62,
                    0.62,
                    0.62,
                    0.42,
                    0.21,
                    0,
                    0,
                    0,
                    0,
                    0,
                    0,
                    0,
                    0,
                    0,
                    0,
                    0,
                    0,
                    0,
                    0,
                    0,
                    0,
                    0,
                    0,
                    0,
                    0,
                    0,
                    0,
                    0,
                    0,
                    0,
                    0,
                    0,
                    0,
                    0,
                    0,
                    0,
                    0,
                    0,
                    0,
                    0,
                    0,
                    0,
                    0,
                    0,
                    0,
                    0,
                    0,
                    0,
                    0,
                    0,
                    0,
                    0,
                    0,
                    0,
                    0,
                    0,
                    0,
                    0,
                    0,
                    0,
                    0,
                    0,
                    0,
                    0,
                    0,
                    0,
                    0,
                    0,
                    0,
                    0,
                    0,
                    0,
                    0,
                    0,
                    0,
                    0,
                    0,
                    0,
                    0,
                    0,
                    0,
                    0,
                    0,
                    0,
                    0,
                    0,
                    0,
                    0,
                    0,
                    0,
                    0,
                    0,
                    0,
                    0,
                    0,
                    0,
                    0,
                    0,
                    0,
                    0,
                    0,
                    0,
                    0,
                    0.21,
                    0.42,
                    0.62,
                    0.62,
                    0.42,
                    0.21,
                    0,
                    0,
                    0,
                    0,
                    0,
                    0,
                    0,
                    0,
                    0,
                    0,
                    0,
                    0,
                    0,
                    0,
                    0,
                    0,
                    0,
                    0,
                    0,
                    0,
                    0,
                    0,
                    0,
                    0,
                    0,
                    0,
                    0,
                    0,
                    0,
                    0.31,
                    0.62,
                    0.96,
                    0.98,
                    0.69,
                    0.38,
                    0.06,
                    0.06,
                    0.06,
                    0.06,
                    0.06,
                    0.06,
                    0.06,
                    0.06,
                    0.06,
                    0.06,
                    0.06,
                    0.27,
                    0.48,
                    0.69,
                    0.69,
                    0.48,
                    0.28,
                    0.06,
                    0.07,
                    0.06,
                    0.06,
                    0.06,
                    0.06,
                    0.06,
                    0.06,
                    0.06,
                    0.06,
                    0.06,
                    0.06,
                    0.06,
                    0.06,
                    0.06,
                    0.06,
                    0.06,
                    0.06,
                    0.06,
                    0.06,
                    0.06,
                    0.06,
                    0.06,
                    0.06,
                    0.06,
                    0.06,
                    0.06,
                    0.06,
                    0.06,
                    0.38,
                    0.69,
                    1,
                    1,
                    0.69,
                    0.38,
                    0.06,
                    0.06,
                    0.06,
                    0.06,
                    0.06,
                    0.06,
                    0.06,
                    0.06,
                    0.06,
                    0.06,
                    0.06,
                    0.27,
                    0.48,
                    0.69,
                    0.69,
                    0.69
                  ],
                  "yaxis": "y"
                },
                {
                  "alignmentgroup": "True",
                  "hovertemplate": "variable=trade<br>date=%{x}<br>value=%{y}<extra></extra>",
                  "legendgroup": "trade",
                  "marker": {
                    "color": "#ab63fa",
                    "pattern": {
                      "shape": ""
                    }
                  },
                  "name": "trade",
                  "offsetgroup": "trade",
                  "orientation": "v",
                  "showlegend": true,
                  "textposition": "auto",
                  "type": "bar",
                  "x": [
                    "2019-01-13T00:00:00",
                    "2019-01-20T00:00:00",
                    "2019-01-27T00:00:00",
                    "2019-02-03T00:00:00",
                    "2019-02-10T00:00:00",
                    "2019-02-17T00:00:00",
                    "2019-02-24T00:00:00",
                    "2019-03-03T00:00:00",
                    "2019-03-10T00:00:00",
                    "2019-03-17T00:00:00",
                    "2019-03-24T00:00:00",
                    "2019-03-31T00:00:00",
                    "2019-04-07T00:00:00",
                    "2019-04-14T00:00:00",
                    "2019-04-21T00:00:00",
                    "2019-04-28T00:00:00",
                    "2019-05-05T00:00:00",
                    "2019-05-12T00:00:00",
                    "2019-05-19T00:00:00",
                    "2019-05-26T00:00:00",
                    "2019-06-02T00:00:00",
                    "2019-06-09T00:00:00",
                    "2019-06-16T00:00:00",
                    "2019-06-23T00:00:00",
                    "2019-06-30T00:00:00",
                    "2019-07-07T00:00:00",
                    "2019-07-14T00:00:00",
                    "2019-07-21T00:00:00",
                    "2019-07-28T00:00:00",
                    "2019-08-04T00:00:00",
                    "2019-08-11T00:00:00",
                    "2019-08-18T00:00:00",
                    "2019-08-25T00:00:00",
                    "2019-09-01T00:00:00",
                    "2019-09-08T00:00:00",
                    "2019-09-15T00:00:00",
                    "2019-09-22T00:00:00",
                    "2019-09-29T00:00:00",
                    "2019-10-06T00:00:00",
                    "2019-10-13T00:00:00",
                    "2019-10-20T00:00:00",
                    "2019-10-27T00:00:00",
                    "2019-11-03T00:00:00",
                    "2019-11-10T00:00:00",
                    "2019-11-17T00:00:00",
                    "2019-11-24T00:00:00",
                    "2019-12-01T00:00:00",
                    "2019-12-08T00:00:00",
                    "2019-12-15T00:00:00",
                    "2019-12-22T00:00:00",
                    "2019-12-29T00:00:00",
                    "2020-01-05T00:00:00",
                    "2020-01-12T00:00:00",
                    "2020-01-19T00:00:00",
                    "2020-01-26T00:00:00",
                    "2020-02-02T00:00:00",
                    "2020-02-09T00:00:00",
                    "2020-02-16T00:00:00",
                    "2020-02-23T00:00:00",
                    "2020-03-01T00:00:00",
                    "2020-03-08T00:00:00",
                    "2020-03-15T00:00:00",
                    "2020-03-22T00:00:00",
                    "2020-03-29T00:00:00",
                    "2020-04-05T00:00:00",
                    "2020-04-12T00:00:00",
                    "2020-04-19T00:00:00",
                    "2020-04-26T00:00:00",
                    "2020-05-03T00:00:00",
                    "2020-05-10T00:00:00",
                    "2020-05-17T00:00:00",
                    "2020-05-24T00:00:00",
                    "2020-05-31T00:00:00",
                    "2020-06-07T00:00:00",
                    "2020-06-14T00:00:00",
                    "2020-06-21T00:00:00",
                    "2020-06-28T00:00:00",
                    "2020-07-05T00:00:00",
                    "2020-07-12T00:00:00",
                    "2020-07-19T00:00:00",
                    "2020-07-26T00:00:00",
                    "2020-08-02T00:00:00",
                    "2020-08-09T00:00:00",
                    "2020-08-16T00:00:00",
                    "2020-08-23T00:00:00",
                    "2020-08-30T00:00:00",
                    "2020-09-06T00:00:00",
                    "2020-09-13T00:00:00",
                    "2020-09-20T00:00:00",
                    "2020-09-27T00:00:00",
                    "2020-10-04T00:00:00",
                    "2020-10-11T00:00:00",
                    "2020-10-18T00:00:00",
                    "2020-10-25T00:00:00",
                    "2020-11-01T00:00:00",
                    "2020-11-08T00:00:00",
                    "2020-11-15T00:00:00",
                    "2020-11-22T00:00:00",
                    "2020-11-29T00:00:00",
                    "2020-12-06T00:00:00",
                    "2020-12-13T00:00:00",
                    "2020-12-20T00:00:00",
                    "2020-12-27T00:00:00",
                    "2021-01-03T00:00:00",
                    "2021-01-10T00:00:00",
                    "2021-01-17T00:00:00",
                    "2021-01-24T00:00:00",
                    "2021-01-31T00:00:00",
                    "2021-02-07T00:00:00",
                    "2021-02-14T00:00:00",
                    "2021-02-21T00:00:00",
                    "2021-02-28T00:00:00",
                    "2021-03-07T00:00:00",
                    "2021-03-14T00:00:00",
                    "2021-03-21T00:00:00",
                    "2021-03-28T00:00:00",
                    "2021-04-04T00:00:00",
                    "2021-04-11T00:00:00",
                    "2021-04-18T00:00:00",
                    "2021-04-25T00:00:00",
                    "2021-05-02T00:00:00",
                    "2021-05-09T00:00:00",
                    "2021-05-16T00:00:00",
                    "2021-05-23T00:00:00",
                    "2021-05-30T00:00:00",
                    "2021-06-06T00:00:00",
                    "2021-06-13T00:00:00",
                    "2021-06-20T00:00:00",
                    "2021-06-27T00:00:00",
                    "2021-07-04T00:00:00",
                    "2021-07-11T00:00:00",
                    "2021-07-18T00:00:00",
                    "2021-07-25T00:00:00",
                    "2021-08-01T00:00:00",
                    "2021-08-08T00:00:00",
                    "2021-08-15T00:00:00",
                    "2021-08-22T00:00:00",
                    "2021-08-29T00:00:00",
                    "2021-09-05T00:00:00",
                    "2021-09-12T00:00:00",
                    "2021-09-19T00:00:00",
                    "2021-09-26T00:00:00",
                    "2021-10-03T00:00:00",
                    "2021-10-10T00:00:00",
                    "2021-10-17T00:00:00",
                    "2021-10-24T00:00:00",
                    "2021-10-31T00:00:00",
                    "2021-11-07T00:00:00",
                    "2021-11-14T00:00:00",
                    "2021-11-21T00:00:00",
                    "2021-11-28T00:00:00",
                    "2021-12-05T00:00:00",
                    "2021-12-12T00:00:00",
                    "2021-12-19T00:00:00",
                    "2021-12-26T00:00:00",
                    "2022-01-02T00:00:00",
                    "2022-01-09T00:00:00",
                    "2022-01-16T00:00:00",
                    "2022-01-23T00:00:00",
                    "2022-01-30T00:00:00",
                    "2022-02-06T00:00:00",
                    "2022-02-13T00:00:00",
                    "2022-02-20T00:00:00",
                    "2022-02-27T00:00:00",
                    "2022-03-06T00:00:00",
                    "2022-03-13T00:00:00",
                    "2022-03-20T00:00:00",
                    "2022-03-27T00:00:00",
                    "2022-04-03T00:00:00",
                    "2022-04-10T00:00:00",
                    "2022-04-17T00:00:00",
                    "2022-04-24T00:00:00",
                    "2022-05-01T00:00:00",
                    "2022-05-08T00:00:00",
                    "2022-05-15T00:00:00",
                    "2022-05-22T00:00:00",
                    "2022-05-29T00:00:00",
                    "2022-06-05T00:00:00",
                    "2022-06-12T00:00:00",
                    "2022-06-19T00:00:00",
                    "2022-06-26T00:00:00",
                    "2022-07-03T00:00:00",
                    "2022-07-10T00:00:00",
                    "2022-07-17T00:00:00",
                    "2022-07-24T00:00:00",
                    "2022-07-31T00:00:00",
                    "2022-08-07T00:00:00",
                    "2022-08-14T00:00:00",
                    "2022-08-21T00:00:00",
                    "2022-08-28T00:00:00",
                    "2022-09-04T00:00:00",
                    "2022-09-11T00:00:00",
                    "2022-09-18T00:00:00",
                    "2022-09-25T00:00:00",
                    "2022-10-02T00:00:00",
                    "2022-10-09T00:00:00",
                    "2022-10-16T00:00:00",
                    "2022-10-23T00:00:00",
                    "2022-10-30T00:00:00",
                    "2022-11-06T00:00:00",
                    "2022-11-13T00:00:00",
                    "2022-11-20T00:00:00",
                    "2022-11-27T00:00:00",
                    "2022-12-04T00:00:00",
                    "2022-12-11T00:00:00",
                    "2022-12-18T00:00:00",
                    "2022-12-25T00:00:00",
                    "2023-01-01T00:00:00",
                    "2023-01-08T00:00:00",
                    "2023-01-15T00:00:00",
                    "2023-01-22T00:00:00",
                    "2023-01-29T00:00:00",
                    "2023-02-05T00:00:00",
                    "2023-02-12T00:00:00",
                    "2023-02-19T00:00:00",
                    "2023-02-26T00:00:00",
                    "2023-03-05T00:00:00",
                    "2023-03-12T00:00:00",
                    "2023-03-19T00:00:00",
                    "2023-03-26T00:00:00",
                    "2023-04-02T00:00:00",
                    "2023-04-09T00:00:00",
                    "2023-04-16T00:00:00",
                    "2023-04-23T00:00:00",
                    "2023-04-30T00:00:00",
                    "2023-05-07T00:00:00",
                    "2023-05-14T00:00:00",
                    "2023-05-21T00:00:00",
                    "2023-05-28T00:00:00",
                    "2023-06-04T00:00:00",
                    "2023-06-11T00:00:00",
                    "2023-06-18T00:00:00",
                    "2023-06-25T00:00:00",
                    "2023-07-02T00:00:00",
                    "2023-07-09T00:00:00",
                    "2023-07-16T00:00:00",
                    "2023-07-23T00:00:00",
                    "2023-07-30T00:00:00",
                    "2023-08-06T00:00:00",
                    "2023-08-13T00:00:00",
                    "2023-08-20T00:00:00",
                    "2023-08-27T00:00:00",
                    "2023-09-03T00:00:00",
                    "2023-09-10T00:00:00",
                    "2023-09-17T00:00:00",
                    "2023-09-24T00:00:00",
                    "2023-10-01T00:00:00",
                    "2023-10-08T00:00:00",
                    "2023-10-15T00:00:00",
                    "2023-10-22T00:00:00",
                    "2023-10-29T00:00:00",
                    "2023-11-05T00:00:00",
                    "2023-11-12T00:00:00",
                    "2023-11-19T00:00:00",
                    "2023-11-26T00:00:00",
                    "2023-12-03T00:00:00",
                    "2023-12-10T00:00:00",
                    "2023-12-17T00:00:00",
                    "2023-12-24T00:00:00"
                  ],
                  "xaxis": "x",
                  "y": [
                    0.88,
                    0.8,
                    0.88,
                    0.84,
                    0.83,
                    0.89,
                    0.95,
                    0.71,
                    0.97,
                    0.97,
                    0.99,
                    0.88,
                    0.99,
                    0.88,
                    0.7,
                    0.77,
                    0.71,
                    0.77,
                    0.6,
                    0.61,
                    0.61,
                    0.61,
                    0.61,
                    0.61,
                    0.61,
                    0.61,
                    0.61,
                    0.61,
                    0.61,
                    0.61,
                    0.61,
                    0.61,
                    0.61,
                    0.61,
                    0.61,
                    0.61,
                    0.61,
                    0.61,
                    0.61,
                    0.61,
                    0.6,
                    0.75,
                    0.86,
                    0.84,
                    0.86,
                    0.99,
                    0.99,
                    0.95,
                    0.88,
                    0.85,
                    0.81,
                    0.81,
                    0.82,
                    0.77,
                    0.66,
                    0.76,
                    0.79,
                    0.61,
                    0.68,
                    0.55,
                    0.55,
                    0.55,
                    0.55,
                    0.55,
                    0.55,
                    0.45,
                    0.47,
                    0.46,
                    0.47,
                    0.47,
                    0.48,
                    0.42,
                    0.42,
                    0.42,
                    0.32,
                    0.42,
                    0.42,
                    0.42,
                    0.42,
                    0.42,
                    0.42,
                    0.42,
                    0.32,
                    0.42,
                    0.33,
                    0.55,
                    0.42,
                    0.57,
                    0.44,
                    0.47,
                    0.47,
                    0.44,
                    0.31,
                    0.31,
                    0.29,
                    0.29,
                    0.22,
                    0.21,
                    0.11,
                    0.23,
                    0.2,
                    0.2,
                    0.2,
                    0.2,
                    0.2,
                    0.2,
                    0.2,
                    0.19,
                    0.18,
                    0.15,
                    0.15,
                    0.15,
                    0.15,
                    0.15,
                    0.15,
                    0.15,
                    0.15,
                    0.15,
                    0.15,
                    0.1,
                    0.1,
                    0.1,
                    0.18,
                    0.29,
                    0.21,
                    0.22,
                    0.23,
                    0.22,
                    0.22,
                    0.22,
                    0.28,
                    0.22,
                    0.22,
                    0.22,
                    0.22,
                    0.22,
                    0.22,
                    0.22,
                    0.35,
                    0.51,
                    0.51,
                    0.51,
                    0.72,
                    0.79,
                    0.74,
                    0.88,
                    0.88,
                    0.88,
                    0.97,
                    0.98,
                    0.81,
                    0.76,
                    0.81,
                    0.82,
                    0.82,
                    0.83,
                    0.81,
                    0.76,
                    0.76,
                    0.75,
                    0.72,
                    0.76,
                    0.64,
                    0.65,
                    0.86,
                    0.91,
                    0.9,
                    0.84,
                    0.82,
                    0.82,
                    0.82,
                    0.82,
                    0.82,
                    0.82,
                    0.82,
                    0.82,
                    0.82,
                    0.82,
                    0.75,
                    0.75,
                    0.75,
                    0.75,
                    0.55,
                    0.55,
                    0.55,
                    0.88,
                    0.88,
                    0.88,
                    0.88,
                    0.88,
                    0.75,
                    0.77,
                    0.72,
                    0.77,
                    0.89,
                    0.88,
                    0.89,
                    0.89,
                    0.89,
                    0.93,
                    0.84,
                    0.82,
                    0.82,
                    0.83,
                    0.92,
                    0.89,
                    0.91,
                    0.92,
                    0.93,
                    0.91,
                    0.88,
                    0.77,
                    0.71,
                    0.69,
                    0.69,
                    0.69,
                    0.69,
                    0.69,
                    0.69,
                    0.69,
                    0.62,
                    0.62,
                    0.63,
                    0.59,
                    0.61,
                    0.48,
                    0.42,
                    0.42,
                    0.6,
                    0.6,
                    0.61,
                    0.66,
                    0.66,
                    0.64,
                    0.64,
                    0.63,
                    0.7,
                    0.69,
                    0.72,
                    0.82,
                    0.87,
                    0.91,
                    0.89,
                    0.89,
                    0.89,
                    0.91,
                    0.9,
                    0.9,
                    0.92,
                    0.97,
                    1,
                    0.94,
                    0.86,
                    0.88,
                    0.88,
                    0.81,
                    0.9,
                    0.92,
                    0.91
                  ],
                  "yaxis": "y"
                }
              ],
              "layout": {
                "barmode": "relative",
                "legend": {
                  "title": {
                    "text": "variable"
                  },
                  "tracegroupgap": 0
                },
                "template": {
                  "data": {
                    "bar": [
                      {
                        "error_x": {
                          "color": "#2a3f5f"
                        },
                        "error_y": {
                          "color": "#2a3f5f"
                        },
                        "marker": {
                          "line": {
                            "color": "#E5ECF6",
                            "width": 0.5
                          },
                          "pattern": {
                            "fillmode": "overlay",
                            "size": 10,
                            "solidity": 0.2
                          }
                        },
                        "type": "bar"
                      }
                    ],
                    "barpolar": [
                      {
                        "marker": {
                          "line": {
                            "color": "#E5ECF6",
                            "width": 0.5
                          },
                          "pattern": {
                            "fillmode": "overlay",
                            "size": 10,
                            "solidity": 0.2
                          }
                        },
                        "type": "barpolar"
                      }
                    ],
                    "carpet": [
                      {
                        "aaxis": {
                          "endlinecolor": "#2a3f5f",
                          "gridcolor": "white",
                          "linecolor": "white",
                          "minorgridcolor": "white",
                          "startlinecolor": "#2a3f5f"
                        },
                        "baxis": {
                          "endlinecolor": "#2a3f5f",
                          "gridcolor": "white",
                          "linecolor": "white",
                          "minorgridcolor": "white",
                          "startlinecolor": "#2a3f5f"
                        },
                        "type": "carpet"
                      }
                    ],
                    "choropleth": [
                      {
                        "colorbar": {
                          "outlinewidth": 0,
                          "ticks": ""
                        },
                        "type": "choropleth"
                      }
                    ],
                    "contour": [
                      {
                        "colorbar": {
                          "outlinewidth": 0,
                          "ticks": ""
                        },
                        "colorscale": [
                          [
                            0,
                            "#0d0887"
                          ],
                          [
                            0.1111111111111111,
                            "#46039f"
                          ],
                          [
                            0.2222222222222222,
                            "#7201a8"
                          ],
                          [
                            0.3333333333333333,
                            "#9c179e"
                          ],
                          [
                            0.4444444444444444,
                            "#bd3786"
                          ],
                          [
                            0.5555555555555556,
                            "#d8576b"
                          ],
                          [
                            0.6666666666666666,
                            "#ed7953"
                          ],
                          [
                            0.7777777777777778,
                            "#fb9f3a"
                          ],
                          [
                            0.8888888888888888,
                            "#fdca26"
                          ],
                          [
                            1,
                            "#f0f921"
                          ]
                        ],
                        "type": "contour"
                      }
                    ],
                    "contourcarpet": [
                      {
                        "colorbar": {
                          "outlinewidth": 0,
                          "ticks": ""
                        },
                        "type": "contourcarpet"
                      }
                    ],
                    "heatmap": [
                      {
                        "colorbar": {
                          "outlinewidth": 0,
                          "ticks": ""
                        },
                        "colorscale": [
                          [
                            0,
                            "#0d0887"
                          ],
                          [
                            0.1111111111111111,
                            "#46039f"
                          ],
                          [
                            0.2222222222222222,
                            "#7201a8"
                          ],
                          [
                            0.3333333333333333,
                            "#9c179e"
                          ],
                          [
                            0.4444444444444444,
                            "#bd3786"
                          ],
                          [
                            0.5555555555555556,
                            "#d8576b"
                          ],
                          [
                            0.6666666666666666,
                            "#ed7953"
                          ],
                          [
                            0.7777777777777778,
                            "#fb9f3a"
                          ],
                          [
                            0.8888888888888888,
                            "#fdca26"
                          ],
                          [
                            1,
                            "#f0f921"
                          ]
                        ],
                        "type": "heatmap"
                      }
                    ],
                    "heatmapgl": [
                      {
                        "colorbar": {
                          "outlinewidth": 0,
                          "ticks": ""
                        },
                        "colorscale": [
                          [
                            0,
                            "#0d0887"
                          ],
                          [
                            0.1111111111111111,
                            "#46039f"
                          ],
                          [
                            0.2222222222222222,
                            "#7201a8"
                          ],
                          [
                            0.3333333333333333,
                            "#9c179e"
                          ],
                          [
                            0.4444444444444444,
                            "#bd3786"
                          ],
                          [
                            0.5555555555555556,
                            "#d8576b"
                          ],
                          [
                            0.6666666666666666,
                            "#ed7953"
                          ],
                          [
                            0.7777777777777778,
                            "#fb9f3a"
                          ],
                          [
                            0.8888888888888888,
                            "#fdca26"
                          ],
                          [
                            1,
                            "#f0f921"
                          ]
                        ],
                        "type": "heatmapgl"
                      }
                    ],
                    "histogram": [
                      {
                        "marker": {
                          "pattern": {
                            "fillmode": "overlay",
                            "size": 10,
                            "solidity": 0.2
                          }
                        },
                        "type": "histogram"
                      }
                    ],
                    "histogram2d": [
                      {
                        "colorbar": {
                          "outlinewidth": 0,
                          "ticks": ""
                        },
                        "colorscale": [
                          [
                            0,
                            "#0d0887"
                          ],
                          [
                            0.1111111111111111,
                            "#46039f"
                          ],
                          [
                            0.2222222222222222,
                            "#7201a8"
                          ],
                          [
                            0.3333333333333333,
                            "#9c179e"
                          ],
                          [
                            0.4444444444444444,
                            "#bd3786"
                          ],
                          [
                            0.5555555555555556,
                            "#d8576b"
                          ],
                          [
                            0.6666666666666666,
                            "#ed7953"
                          ],
                          [
                            0.7777777777777778,
                            "#fb9f3a"
                          ],
                          [
                            0.8888888888888888,
                            "#fdca26"
                          ],
                          [
                            1,
                            "#f0f921"
                          ]
                        ],
                        "type": "histogram2d"
                      }
                    ],
                    "histogram2dcontour": [
                      {
                        "colorbar": {
                          "outlinewidth": 0,
                          "ticks": ""
                        },
                        "colorscale": [
                          [
                            0,
                            "#0d0887"
                          ],
                          [
                            0.1111111111111111,
                            "#46039f"
                          ],
                          [
                            0.2222222222222222,
                            "#7201a8"
                          ],
                          [
                            0.3333333333333333,
                            "#9c179e"
                          ],
                          [
                            0.4444444444444444,
                            "#bd3786"
                          ],
                          [
                            0.5555555555555556,
                            "#d8576b"
                          ],
                          [
                            0.6666666666666666,
                            "#ed7953"
                          ],
                          [
                            0.7777777777777778,
                            "#fb9f3a"
                          ],
                          [
                            0.8888888888888888,
                            "#fdca26"
                          ],
                          [
                            1,
                            "#f0f921"
                          ]
                        ],
                        "type": "histogram2dcontour"
                      }
                    ],
                    "mesh3d": [
                      {
                        "colorbar": {
                          "outlinewidth": 0,
                          "ticks": ""
                        },
                        "type": "mesh3d"
                      }
                    ],
                    "parcoords": [
                      {
                        "line": {
                          "colorbar": {
                            "outlinewidth": 0,
                            "ticks": ""
                          }
                        },
                        "type": "parcoords"
                      }
                    ],
                    "pie": [
                      {
                        "automargin": true,
                        "type": "pie"
                      }
                    ],
                    "scatter": [
                      {
                        "fillpattern": {
                          "fillmode": "overlay",
                          "size": 10,
                          "solidity": 0.2
                        },
                        "type": "scatter"
                      }
                    ],
                    "scatter3d": [
                      {
                        "line": {
                          "colorbar": {
                            "outlinewidth": 0,
                            "ticks": ""
                          }
                        },
                        "marker": {
                          "colorbar": {
                            "outlinewidth": 0,
                            "ticks": ""
                          }
                        },
                        "type": "scatter3d"
                      }
                    ],
                    "scattercarpet": [
                      {
                        "marker": {
                          "colorbar": {
                            "outlinewidth": 0,
                            "ticks": ""
                          }
                        },
                        "type": "scattercarpet"
                      }
                    ],
                    "scattergeo": [
                      {
                        "marker": {
                          "colorbar": {
                            "outlinewidth": 0,
                            "ticks": ""
                          }
                        },
                        "type": "scattergeo"
                      }
                    ],
                    "scattergl": [
                      {
                        "marker": {
                          "colorbar": {
                            "outlinewidth": 0,
                            "ticks": ""
                          }
                        },
                        "type": "scattergl"
                      }
                    ],
                    "scattermapbox": [
                      {
                        "marker": {
                          "colorbar": {
                            "outlinewidth": 0,
                            "ticks": ""
                          }
                        },
                        "type": "scattermapbox"
                      }
                    ],
                    "scatterpolar": [
                      {
                        "marker": {
                          "colorbar": {
                            "outlinewidth": 0,
                            "ticks": ""
                          }
                        },
                        "type": "scatterpolar"
                      }
                    ],
                    "scatterpolargl": [
                      {
                        "marker": {
                          "colorbar": {
                            "outlinewidth": 0,
                            "ticks": ""
                          }
                        },
                        "type": "scatterpolargl"
                      }
                    ],
                    "scatterternary": [
                      {
                        "marker": {
                          "colorbar": {
                            "outlinewidth": 0,
                            "ticks": ""
                          }
                        },
                        "type": "scatterternary"
                      }
                    ],
                    "surface": [
                      {
                        "colorbar": {
                          "outlinewidth": 0,
                          "ticks": ""
                        },
                        "colorscale": [
                          [
                            0,
                            "#0d0887"
                          ],
                          [
                            0.1111111111111111,
                            "#46039f"
                          ],
                          [
                            0.2222222222222222,
                            "#7201a8"
                          ],
                          [
                            0.3333333333333333,
                            "#9c179e"
                          ],
                          [
                            0.4444444444444444,
                            "#bd3786"
                          ],
                          [
                            0.5555555555555556,
                            "#d8576b"
                          ],
                          [
                            0.6666666666666666,
                            "#ed7953"
                          ],
                          [
                            0.7777777777777778,
                            "#fb9f3a"
                          ],
                          [
                            0.8888888888888888,
                            "#fdca26"
                          ],
                          [
                            1,
                            "#f0f921"
                          ]
                        ],
                        "type": "surface"
                      }
                    ],
                    "table": [
                      {
                        "cells": {
                          "fill": {
                            "color": "#EBF0F8"
                          },
                          "line": {
                            "color": "white"
                          }
                        },
                        "header": {
                          "fill": {
                            "color": "#C8D4E3"
                          },
                          "line": {
                            "color": "white"
                          }
                        },
                        "type": "table"
                      }
                    ]
                  },
                  "layout": {
                    "annotationdefaults": {
                      "arrowcolor": "#2a3f5f",
                      "arrowhead": 0,
                      "arrowwidth": 1
                    },
                    "autotypenumbers": "strict",
                    "coloraxis": {
                      "colorbar": {
                        "outlinewidth": 0,
                        "ticks": ""
                      }
                    },
                    "colorscale": {
                      "diverging": [
                        [
                          0,
                          "#8e0152"
                        ],
                        [
                          0.1,
                          "#c51b7d"
                        ],
                        [
                          0.2,
                          "#de77ae"
                        ],
                        [
                          0.3,
                          "#f1b6da"
                        ],
                        [
                          0.4,
                          "#fde0ef"
                        ],
                        [
                          0.5,
                          "#f7f7f7"
                        ],
                        [
                          0.6,
                          "#e6f5d0"
                        ],
                        [
                          0.7,
                          "#b8e186"
                        ],
                        [
                          0.8,
                          "#7fbc41"
                        ],
                        [
                          0.9,
                          "#4d9221"
                        ],
                        [
                          1,
                          "#276419"
                        ]
                      ],
                      "sequential": [
                        [
                          0,
                          "#0d0887"
                        ],
                        [
                          0.1111111111111111,
                          "#46039f"
                        ],
                        [
                          0.2222222222222222,
                          "#7201a8"
                        ],
                        [
                          0.3333333333333333,
                          "#9c179e"
                        ],
                        [
                          0.4444444444444444,
                          "#bd3786"
                        ],
                        [
                          0.5555555555555556,
                          "#d8576b"
                        ],
                        [
                          0.6666666666666666,
                          "#ed7953"
                        ],
                        [
                          0.7777777777777778,
                          "#fb9f3a"
                        ],
                        [
                          0.8888888888888888,
                          "#fdca26"
                        ],
                        [
                          1,
                          "#f0f921"
                        ]
                      ],
                      "sequentialminus": [
                        [
                          0,
                          "#0d0887"
                        ],
                        [
                          0.1111111111111111,
                          "#46039f"
                        ],
                        [
                          0.2222222222222222,
                          "#7201a8"
                        ],
                        [
                          0.3333333333333333,
                          "#9c179e"
                        ],
                        [
                          0.4444444444444444,
                          "#bd3786"
                        ],
                        [
                          0.5555555555555556,
                          "#d8576b"
                        ],
                        [
                          0.6666666666666666,
                          "#ed7953"
                        ],
                        [
                          0.7777777777777778,
                          "#fb9f3a"
                        ],
                        [
                          0.8888888888888888,
                          "#fdca26"
                        ],
                        [
                          1,
                          "#f0f921"
                        ]
                      ]
                    },
                    "colorway": [
                      "#636efa",
                      "#EF553B",
                      "#00cc96",
                      "#ab63fa",
                      "#FFA15A",
                      "#19d3f3",
                      "#FF6692",
                      "#B6E880",
                      "#FF97FF",
                      "#FECB52"
                    ],
                    "font": {
                      "color": "#2a3f5f"
                    },
                    "geo": {
                      "bgcolor": "white",
                      "lakecolor": "white",
                      "landcolor": "#E5ECF6",
                      "showlakes": true,
                      "showland": true,
                      "subunitcolor": "white"
                    },
                    "hoverlabel": {
                      "align": "left"
                    },
                    "hovermode": "closest",
                    "mapbox": {
                      "style": "light"
                    },
                    "paper_bgcolor": "white",
                    "plot_bgcolor": "#E5ECF6",
                    "polar": {
                      "angularaxis": {
                        "gridcolor": "white",
                        "linecolor": "white",
                        "ticks": ""
                      },
                      "bgcolor": "#E5ECF6",
                      "radialaxis": {
                        "gridcolor": "white",
                        "linecolor": "white",
                        "ticks": ""
                      }
                    },
                    "scene": {
                      "xaxis": {
                        "backgroundcolor": "#E5ECF6",
                        "gridcolor": "white",
                        "gridwidth": 2,
                        "linecolor": "white",
                        "showbackground": true,
                        "ticks": "",
                        "zerolinecolor": "white"
                      },
                      "yaxis": {
                        "backgroundcolor": "#E5ECF6",
                        "gridcolor": "white",
                        "gridwidth": 2,
                        "linecolor": "white",
                        "showbackground": true,
                        "ticks": "",
                        "zerolinecolor": "white"
                      },
                      "zaxis": {
                        "backgroundcolor": "#E5ECF6",
                        "gridcolor": "white",
                        "gridwidth": 2,
                        "linecolor": "white",
                        "showbackground": true,
                        "ticks": "",
                        "zerolinecolor": "white"
                      }
                    },
                    "shapedefaults": {
                      "line": {
                        "color": "#2a3f5f"
                      }
                    },
                    "ternary": {
                      "aaxis": {
                        "gridcolor": "white",
                        "linecolor": "white",
                        "ticks": ""
                      },
                      "baxis": {
                        "gridcolor": "white",
                        "linecolor": "white",
                        "ticks": ""
                      },
                      "bgcolor": "#E5ECF6",
                      "caxis": {
                        "gridcolor": "white",
                        "linecolor": "white",
                        "ticks": ""
                      }
                    },
                    "title": {
                      "x": 0.05
                    },
                    "xaxis": {
                      "automargin": true,
                      "gridcolor": "white",
                      "linecolor": "white",
                      "ticks": "",
                      "title": {
                        "standoff": 15
                      },
                      "zerolinecolor": "white",
                      "zerolinewidth": 2
                    },
                    "yaxis": {
                      "automargin": true,
                      "gridcolor": "white",
                      "linecolor": "white",
                      "ticks": "",
                      "title": {
                        "standoff": 15
                      },
                      "zerolinecolor": "white",
                      "zerolinewidth": 2
                    }
                  }
                },
                "title": {
                  "text": "Channel Spend per Date"
                },
                "xaxis": {
                  "anchor": "y",
                  "domain": [
                    0,
                    1
                  ],
                  "title": {
                    "text": "date"
                  }
                },
                "yaxis": {
                  "anchor": "x",
                  "domain": [
                    0,
                    1
                  ],
                  "title": {
                    "text": "value"
                  }
                }
              }
            }
          },
          "metadata": {},
          "output_type": "display_data"
        }
      ],
      "source": [
        "# PLot channel spend for month\n",
        "fig = px.bar(\n",
        "    df, \n",
        "    x=df.index, \n",
        "    y=CHANNELS, \n",
        "    title=\"Channel Spend per Date\"\n",
        ")\n",
        "fig.show()"
      ]
    },
    {
      "cell_type": "markdown",
      "metadata": {
        "id": "HSo-JtkFp-Ue"
      },
      "source": [
        "## 3. Adstock modeling."
      ]
    },
    {
      "cell_type": "markdown",
      "metadata": {
        "id": "9GqTdpENqaXI"
      },
      "source": [
        "In this section we add (i) carry over and (ii) saturation effects.\n",
        "\n",
        "We want to model the relationship of the different investment channels using a linear regression, however we want to take into account the [decay effect](https://en.wikipedia.org/wiki/Advertising_adstock#Advertising_lag:_decay_effect) and the [law of diminishing returns](https://en.wikipedia.org/wiki/Advertising_adstock#Campaign_carry-over).\n",
        "\n",
        "---\n",
        "For this, instead of working directly with spend per channel, we apply different transformations to them\n",
        "\n",
        "> 1. For carry over $c_{t}$, we apply the following transformation.\n",
        "$$c_{t} = x_{t} + \\sum_{j=1}^{n} \\lambda^{t}  x_{t-j}$$\n",
        ">\n",
        "> Where $x_{t}$ is the investment in the channel for the $t$ period, $n$ represents the amount of periods to look back and $\\lambda$ represents the strength of the decay factor. This means that investments made in time $t$ will have still an impact of the following weeks, and this effect will decay over time. Both $n$ and $\\lambda$ will be parameters of the function.\n",
        "><br/>\n",
        "><br/>\n",
        ">2. For the saturation effect $s_{t}$, the following transformation is applied.\n",
        ">\n",
        ">$$s_{t} =1 -  e^{-\\alpha x_{t}} $$\n",
        ">\n",
        "> In this case, $\\alpha$ will be a parameter to input.\n",
        "\n",
        "<br/>\n",
        "\n",
        "In consequence, instead of modeling sales as a function of investment per channel, we fit a regression to the transformations described previously. The question now is which values should we use for **$n$, $\\lambda$ and $\\alpha$**? We can think of them as *hyperparameters of our model*. And then perform a *numerical optimization* to find values that minimize the mean squared error (or any metric of our interest) of the model.\n",
        "<br/>\n",
        "\n",
        "\n",
        "Lastly, data presents a heavy seasonality, one hot encoded variables were added for every month in the year.\n",
        "\n",
        "---\n",
        "\n",
        "For a complete explanation of the methods used in here, we refer the reader to page *154/510* of [Introduction to Algorithmic Marketing](https://algorithmicweb.files.wordpress.com/2018/07/algorithmic-marketing-ai-for-marketing-operations-r1-7g.pdf).\n"
      ]
    },
    {
      "cell_type": "markdown",
      "metadata": {
        "id": "sgp2qYycKSbL"
      },
      "source": [
        "## 4. Fit the model."
      ]
    },
    {
      "cell_type": "markdown",
      "metadata": {
        "id": "MKjQa9oo9jqO"
      },
      "source": [
        "### Tune hyperparameters\n",
        "\n",
        "- We use optuna for hyperparameter tuning, but other libraries like `scipy.minimize` or `sklearn` should work as well.\n",
        "- For every channel, we have three ($\\alpha$, $n$ and $\\lambda$) hyperparameters to tune.\n",
        "- We work with a traditional linear regression. -> prone to overfitting!!\n",
        "- We aim to minimize *MSE*.\n",
        "- We repeat 1 000 trials for the optimization, caution! can take some time. Feel free to change `n_trials=100` to speed things up.\n",
        "- We split the dataset in train and test. Since we are working with time series we work with consecutives chunks of data.\n",
        "- To do the optimization we use the `AdstockHyperTuning` class defined under `mmx.linear`. This class will optimize on alpha, decay and lag per each of the media channels. The best combination of them will be selected based on the lower *MSE*. \n",
        "- For the optimization, we need to pass a hyperparamater space, we do this with the `PARAMS_DICT` dictionary defined below. Here we pass the name of the parameter, a lower bound, an upper bound and whether we are expecting a float or an integer. For alpha and decay, we expect a float value, whilst lag should be an int."
      ]
    },
    {
      "cell_type": "code",
      "execution_count": 11,
      "metadata": {},
      "outputs": [],
      "source": [
        "# see description above.\n",
        "PARAMS_DICT: dict = {  # channel: (lower_bound, upper_bound, type)\n",
        "        \"alpha_tv\": (0, 0.1, \"float\"),  # floats\n",
        "        'decay_tv': (0, 0.5, \"float\"),  # floats\n",
        "        'lag_tv': (0, 6, \"int\"),  # int\n",
        "        'alpha_social_media': (0, 0.1, \"float\"),\n",
        "        'decay_social_media': (0, 0.5, \"float\"),\n",
        "        'lag_social_media': (0, 6, \"int\"),\n",
        "        'alpha_congress': (0, 0.1, \"float\"),\n",
        "        'decay_congress': (0, 0.5, \"float\"),\n",
        "        'lag_congress':  (0, 6, \"int\"),\n",
        "        'alpha_trade': (0, 0.1, \"float\"),\n",
        "        'decay_trade': (0, 0.5, \"float\"),\n",
        "        'lag_trade': (0, 6, \"int\")\n",
        "    }"
      ]
    },
    {
      "cell_type": "code",
      "execution_count": 12,
      "metadata": {},
      "outputs": [],
      "source": [
        "# Split data for train test.\n",
        "df_train = df.iloc[: -TEST_SIZE, :]\n",
        "df_test = df.iloc[-TEST_SIZE:, :]\n",
        "\n",
        "# Define features and target variable.\n",
        "features = [\n",
        "    c for c in list(df.columns) if 'flag' in c or 'index' in c\n",
        "] + [f'adstock_{c}' for c in CHANNELS]\n",
        "\n"
      ]
    },
    {
      "cell_type": "code",
      "execution_count": 13,
      "metadata": {},
      "outputs": [
        {
          "name": "stdout",
          "output_type": "stream",
          "text": [
            "Optimization under way with 1000\n"
          ]
        }
      ],
      "source": [
        "adstock_hypertuning = AdstockHyperTuning(\n",
        "    df=df_train,\n",
        "    hyperparameters=PARAMS_DICT,\n",
        "    features=features,\n",
        "    media_channels=CHANNELS,\n",
        "    target=TARGET,\n",
        "    n_trials=1_000,\n",
        ")\n",
        "\n",
        "tuned_params = adstock_hypertuning.hyperparam_tuning()"
      ]
    },
    {
      "cell_type": "markdown",
      "metadata": {
        "id": "iXZljqlCLnAO"
      },
      "source": [
        "### Run final model.\n",
        "With tuned hyperparameters, we train the final model."
      ]
    },
    {
      "cell_type": "code",
      "execution_count": 14,
      "metadata": {},
      "outputs": [
        {
          "data": {
            "text/plain": [
              "{'alpha_tv': 0.007325410710173186,\n",
              " 'decay_tv': 0.4721008148289741,\n",
              " 'lag_tv': 6,\n",
              " 'alpha_social_media': 0.035041019930881726,\n",
              " 'decay_social_media': 0.2735965952834483,\n",
              " 'lag_social_media': 0,\n",
              " 'alpha_congress': 0.03134511920860169,\n",
              " 'decay_congress': 0.4993626140928981,\n",
              " 'lag_congress': 5,\n",
              " 'alpha_trade': 0.0444600285642957,\n",
              " 'decay_trade': 0.10685168164679842,\n",
              " 'lag_trade': 5}"
            ]
          },
          "execution_count": 14,
          "metadata": {},
          "output_type": "execute_result"
        }
      ],
      "source": [
        "# Check optimized params.\n",
        "tuned_params.best_params"
      ]
    },
    {
      "cell_type": "code",
      "execution_count": 15,
      "metadata": {
        "colab": {
          "base_uri": "https://localhost:8080/"
        },
        "id": "I0_J5daSq5BM",
        "outputId": "b9f7560c-e10d-41eb-f579-deb65efb9fa9"
      },
      "outputs": [
        {
          "data": {
            "text/html": [
              "<style>#sk-container-id-1 {\n",
              "  /* Definition of color scheme common for light and dark mode */\n",
              "  --sklearn-color-text: black;\n",
              "  --sklearn-color-line: gray;\n",
              "  /* Definition of color scheme for unfitted estimators */\n",
              "  --sklearn-color-unfitted-level-0: #fff5e6;\n",
              "  --sklearn-color-unfitted-level-1: #f6e4d2;\n",
              "  --sklearn-color-unfitted-level-2: #ffe0b3;\n",
              "  --sklearn-color-unfitted-level-3: chocolate;\n",
              "  /* Definition of color scheme for fitted estimators */\n",
              "  --sklearn-color-fitted-level-0: #f0f8ff;\n",
              "  --sklearn-color-fitted-level-1: #d4ebff;\n",
              "  --sklearn-color-fitted-level-2: #b3dbfd;\n",
              "  --sklearn-color-fitted-level-3: cornflowerblue;\n",
              "\n",
              "  /* Specific color for light theme */\n",
              "  --sklearn-color-text-on-default-background: var(--sg-text-color, var(--theme-code-foreground, var(--jp-content-font-color1, black)));\n",
              "  --sklearn-color-background: var(--sg-background-color, var(--theme-background, var(--jp-layout-color0, white)));\n",
              "  --sklearn-color-border-box: var(--sg-text-color, var(--theme-code-foreground, var(--jp-content-font-color1, black)));\n",
              "  --sklearn-color-icon: #696969;\n",
              "\n",
              "  @media (prefers-color-scheme: dark) {\n",
              "    /* Redefinition of color scheme for dark theme */\n",
              "    --sklearn-color-text-on-default-background: var(--sg-text-color, var(--theme-code-foreground, var(--jp-content-font-color1, white)));\n",
              "    --sklearn-color-background: var(--sg-background-color, var(--theme-background, var(--jp-layout-color0, #111)));\n",
              "    --sklearn-color-border-box: var(--sg-text-color, var(--theme-code-foreground, var(--jp-content-font-color1, white)));\n",
              "    --sklearn-color-icon: #878787;\n",
              "  }\n",
              "}\n",
              "\n",
              "#sk-container-id-1 {\n",
              "  color: var(--sklearn-color-text);\n",
              "}\n",
              "\n",
              "#sk-container-id-1 pre {\n",
              "  padding: 0;\n",
              "}\n",
              "\n",
              "#sk-container-id-1 input.sk-hidden--visually {\n",
              "  border: 0;\n",
              "  clip: rect(1px 1px 1px 1px);\n",
              "  clip: rect(1px, 1px, 1px, 1px);\n",
              "  height: 1px;\n",
              "  margin: -1px;\n",
              "  overflow: hidden;\n",
              "  padding: 0;\n",
              "  position: absolute;\n",
              "  width: 1px;\n",
              "}\n",
              "\n",
              "#sk-container-id-1 div.sk-dashed-wrapped {\n",
              "  border: 1px dashed var(--sklearn-color-line);\n",
              "  margin: 0 0.4em 0.5em 0.4em;\n",
              "  box-sizing: border-box;\n",
              "  padding-bottom: 0.4em;\n",
              "  background-color: var(--sklearn-color-background);\n",
              "}\n",
              "\n",
              "#sk-container-id-1 div.sk-container {\n",
              "  /* jupyter's `normalize.less` sets `[hidden] { display: none; }`\n",
              "     but bootstrap.min.css set `[hidden] { display: none !important; }`\n",
              "     so we also need the `!important` here to be able to override the\n",
              "     default hidden behavior on the sphinx rendered scikit-learn.org.\n",
              "     See: https://github.com/scikit-learn/scikit-learn/issues/21755 */\n",
              "  display: inline-block !important;\n",
              "  position: relative;\n",
              "}\n",
              "\n",
              "#sk-container-id-1 div.sk-text-repr-fallback {\n",
              "  display: none;\n",
              "}\n",
              "\n",
              "div.sk-parallel-item,\n",
              "div.sk-serial,\n",
              "div.sk-item {\n",
              "  /* draw centered vertical line to link estimators */\n",
              "  background-image: linear-gradient(var(--sklearn-color-text-on-default-background), var(--sklearn-color-text-on-default-background));\n",
              "  background-size: 2px 100%;\n",
              "  background-repeat: no-repeat;\n",
              "  background-position: center center;\n",
              "}\n",
              "\n",
              "/* Parallel-specific style estimator block */\n",
              "\n",
              "#sk-container-id-1 div.sk-parallel-item::after {\n",
              "  content: \"\";\n",
              "  width: 100%;\n",
              "  border-bottom: 2px solid var(--sklearn-color-text-on-default-background);\n",
              "  flex-grow: 1;\n",
              "}\n",
              "\n",
              "#sk-container-id-1 div.sk-parallel {\n",
              "  display: flex;\n",
              "  align-items: stretch;\n",
              "  justify-content: center;\n",
              "  background-color: var(--sklearn-color-background);\n",
              "  position: relative;\n",
              "}\n",
              "\n",
              "#sk-container-id-1 div.sk-parallel-item {\n",
              "  display: flex;\n",
              "  flex-direction: column;\n",
              "}\n",
              "\n",
              "#sk-container-id-1 div.sk-parallel-item:first-child::after {\n",
              "  align-self: flex-end;\n",
              "  width: 50%;\n",
              "}\n",
              "\n",
              "#sk-container-id-1 div.sk-parallel-item:last-child::after {\n",
              "  align-self: flex-start;\n",
              "  width: 50%;\n",
              "}\n",
              "\n",
              "#sk-container-id-1 div.sk-parallel-item:only-child::after {\n",
              "  width: 0;\n",
              "}\n",
              "\n",
              "/* Serial-specific style estimator block */\n",
              "\n",
              "#sk-container-id-1 div.sk-serial {\n",
              "  display: flex;\n",
              "  flex-direction: column;\n",
              "  align-items: center;\n",
              "  background-color: var(--sklearn-color-background);\n",
              "  padding-right: 1em;\n",
              "  padding-left: 1em;\n",
              "}\n",
              "\n",
              "\n",
              "/* Toggleable style: style used for estimator/Pipeline/ColumnTransformer box that is\n",
              "clickable and can be expanded/collapsed.\n",
              "- Pipeline and ColumnTransformer use this feature and define the default style\n",
              "- Estimators will overwrite some part of the style using the `sk-estimator` class\n",
              "*/\n",
              "\n",
              "/* Pipeline and ColumnTransformer style (default) */\n",
              "\n",
              "#sk-container-id-1 div.sk-toggleable {\n",
              "  /* Default theme specific background. It is overwritten whether we have a\n",
              "  specific estimator or a Pipeline/ColumnTransformer */\n",
              "  background-color: var(--sklearn-color-background);\n",
              "}\n",
              "\n",
              "/* Toggleable label */\n",
              "#sk-container-id-1 label.sk-toggleable__label {\n",
              "  cursor: pointer;\n",
              "  display: block;\n",
              "  width: 100%;\n",
              "  margin-bottom: 0;\n",
              "  padding: 0.5em;\n",
              "  box-sizing: border-box;\n",
              "  text-align: center;\n",
              "}\n",
              "\n",
              "#sk-container-id-1 label.sk-toggleable__label-arrow:before {\n",
              "  /* Arrow on the left of the label */\n",
              "  content: \"▸\";\n",
              "  float: left;\n",
              "  margin-right: 0.25em;\n",
              "  color: var(--sklearn-color-icon);\n",
              "}\n",
              "\n",
              "#sk-container-id-1 label.sk-toggleable__label-arrow:hover:before {\n",
              "  color: var(--sklearn-color-text);\n",
              "}\n",
              "\n",
              "/* Toggleable content - dropdown */\n",
              "\n",
              "#sk-container-id-1 div.sk-toggleable__content {\n",
              "  max-height: 0;\n",
              "  max-width: 0;\n",
              "  overflow: hidden;\n",
              "  text-align: left;\n",
              "  /* unfitted */\n",
              "  background-color: var(--sklearn-color-unfitted-level-0);\n",
              "}\n",
              "\n",
              "#sk-container-id-1 div.sk-toggleable__content.fitted {\n",
              "  /* fitted */\n",
              "  background-color: var(--sklearn-color-fitted-level-0);\n",
              "}\n",
              "\n",
              "#sk-container-id-1 div.sk-toggleable__content pre {\n",
              "  margin: 0.2em;\n",
              "  border-radius: 0.25em;\n",
              "  color: var(--sklearn-color-text);\n",
              "  /* unfitted */\n",
              "  background-color: var(--sklearn-color-unfitted-level-0);\n",
              "}\n",
              "\n",
              "#sk-container-id-1 div.sk-toggleable__content.fitted pre {\n",
              "  /* unfitted */\n",
              "  background-color: var(--sklearn-color-fitted-level-0);\n",
              "}\n",
              "\n",
              "#sk-container-id-1 input.sk-toggleable__control:checked~div.sk-toggleable__content {\n",
              "  /* Expand drop-down */\n",
              "  max-height: 200px;\n",
              "  max-width: 100%;\n",
              "  overflow: auto;\n",
              "}\n",
              "\n",
              "#sk-container-id-1 input.sk-toggleable__control:checked~label.sk-toggleable__label-arrow:before {\n",
              "  content: \"▾\";\n",
              "}\n",
              "\n",
              "/* Pipeline/ColumnTransformer-specific style */\n",
              "\n",
              "#sk-container-id-1 div.sk-label input.sk-toggleable__control:checked~label.sk-toggleable__label {\n",
              "  color: var(--sklearn-color-text);\n",
              "  background-color: var(--sklearn-color-unfitted-level-2);\n",
              "}\n",
              "\n",
              "#sk-container-id-1 div.sk-label.fitted input.sk-toggleable__control:checked~label.sk-toggleable__label {\n",
              "  background-color: var(--sklearn-color-fitted-level-2);\n",
              "}\n",
              "\n",
              "/* Estimator-specific style */\n",
              "\n",
              "/* Colorize estimator box */\n",
              "#sk-container-id-1 div.sk-estimator input.sk-toggleable__control:checked~label.sk-toggleable__label {\n",
              "  /* unfitted */\n",
              "  background-color: var(--sklearn-color-unfitted-level-2);\n",
              "}\n",
              "\n",
              "#sk-container-id-1 div.sk-estimator.fitted input.sk-toggleable__control:checked~label.sk-toggleable__label {\n",
              "  /* fitted */\n",
              "  background-color: var(--sklearn-color-fitted-level-2);\n",
              "}\n",
              "\n",
              "#sk-container-id-1 div.sk-label label.sk-toggleable__label,\n",
              "#sk-container-id-1 div.sk-label label {\n",
              "  /* The background is the default theme color */\n",
              "  color: var(--sklearn-color-text-on-default-background);\n",
              "}\n",
              "\n",
              "/* On hover, darken the color of the background */\n",
              "#sk-container-id-1 div.sk-label:hover label.sk-toggleable__label {\n",
              "  color: var(--sklearn-color-text);\n",
              "  background-color: var(--sklearn-color-unfitted-level-2);\n",
              "}\n",
              "\n",
              "/* Label box, darken color on hover, fitted */\n",
              "#sk-container-id-1 div.sk-label.fitted:hover label.sk-toggleable__label.fitted {\n",
              "  color: var(--sklearn-color-text);\n",
              "  background-color: var(--sklearn-color-fitted-level-2);\n",
              "}\n",
              "\n",
              "/* Estimator label */\n",
              "\n",
              "#sk-container-id-1 div.sk-label label {\n",
              "  font-family: monospace;\n",
              "  font-weight: bold;\n",
              "  display: inline-block;\n",
              "  line-height: 1.2em;\n",
              "}\n",
              "\n",
              "#sk-container-id-1 div.sk-label-container {\n",
              "  text-align: center;\n",
              "}\n",
              "\n",
              "/* Estimator-specific */\n",
              "#sk-container-id-1 div.sk-estimator {\n",
              "  font-family: monospace;\n",
              "  border: 1px dotted var(--sklearn-color-border-box);\n",
              "  border-radius: 0.25em;\n",
              "  box-sizing: border-box;\n",
              "  margin-bottom: 0.5em;\n",
              "  /* unfitted */\n",
              "  background-color: var(--sklearn-color-unfitted-level-0);\n",
              "}\n",
              "\n",
              "#sk-container-id-1 div.sk-estimator.fitted {\n",
              "  /* fitted */\n",
              "  background-color: var(--sklearn-color-fitted-level-0);\n",
              "}\n",
              "\n",
              "/* on hover */\n",
              "#sk-container-id-1 div.sk-estimator:hover {\n",
              "  /* unfitted */\n",
              "  background-color: var(--sklearn-color-unfitted-level-2);\n",
              "}\n",
              "\n",
              "#sk-container-id-1 div.sk-estimator.fitted:hover {\n",
              "  /* fitted */\n",
              "  background-color: var(--sklearn-color-fitted-level-2);\n",
              "}\n",
              "\n",
              "/* Specification for estimator info (e.g. \"i\" and \"?\") */\n",
              "\n",
              "/* Common style for \"i\" and \"?\" */\n",
              "\n",
              ".sk-estimator-doc-link,\n",
              "a:link.sk-estimator-doc-link,\n",
              "a:visited.sk-estimator-doc-link {\n",
              "  float: right;\n",
              "  font-size: smaller;\n",
              "  line-height: 1em;\n",
              "  font-family: monospace;\n",
              "  background-color: var(--sklearn-color-background);\n",
              "  border-radius: 1em;\n",
              "  height: 1em;\n",
              "  width: 1em;\n",
              "  text-decoration: none !important;\n",
              "  margin-left: 1ex;\n",
              "  /* unfitted */\n",
              "  border: var(--sklearn-color-unfitted-level-1) 1pt solid;\n",
              "  color: var(--sklearn-color-unfitted-level-1);\n",
              "}\n",
              "\n",
              ".sk-estimator-doc-link.fitted,\n",
              "a:link.sk-estimator-doc-link.fitted,\n",
              "a:visited.sk-estimator-doc-link.fitted {\n",
              "  /* fitted */\n",
              "  border: var(--sklearn-color-fitted-level-1) 1pt solid;\n",
              "  color: var(--sklearn-color-fitted-level-1);\n",
              "}\n",
              "\n",
              "/* On hover */\n",
              "div.sk-estimator:hover .sk-estimator-doc-link:hover,\n",
              ".sk-estimator-doc-link:hover,\n",
              "div.sk-label-container:hover .sk-estimator-doc-link:hover,\n",
              ".sk-estimator-doc-link:hover {\n",
              "  /* unfitted */\n",
              "  background-color: var(--sklearn-color-unfitted-level-3);\n",
              "  color: var(--sklearn-color-background);\n",
              "  text-decoration: none;\n",
              "}\n",
              "\n",
              "div.sk-estimator.fitted:hover .sk-estimator-doc-link.fitted:hover,\n",
              ".sk-estimator-doc-link.fitted:hover,\n",
              "div.sk-label-container:hover .sk-estimator-doc-link.fitted:hover,\n",
              ".sk-estimator-doc-link.fitted:hover {\n",
              "  /* fitted */\n",
              "  background-color: var(--sklearn-color-fitted-level-3);\n",
              "  color: var(--sklearn-color-background);\n",
              "  text-decoration: none;\n",
              "}\n",
              "\n",
              "/* Span, style for the box shown on hovering the info icon */\n",
              ".sk-estimator-doc-link span {\n",
              "  display: none;\n",
              "  z-index: 9999;\n",
              "  position: relative;\n",
              "  font-weight: normal;\n",
              "  right: .2ex;\n",
              "  padding: .5ex;\n",
              "  margin: .5ex;\n",
              "  width: min-content;\n",
              "  min-width: 20ex;\n",
              "  max-width: 50ex;\n",
              "  color: var(--sklearn-color-text);\n",
              "  box-shadow: 2pt 2pt 4pt #999;\n",
              "  /* unfitted */\n",
              "  background: var(--sklearn-color-unfitted-level-0);\n",
              "  border: .5pt solid var(--sklearn-color-unfitted-level-3);\n",
              "}\n",
              "\n",
              ".sk-estimator-doc-link.fitted span {\n",
              "  /* fitted */\n",
              "  background: var(--sklearn-color-fitted-level-0);\n",
              "  border: var(--sklearn-color-fitted-level-3);\n",
              "}\n",
              "\n",
              ".sk-estimator-doc-link:hover span {\n",
              "  display: block;\n",
              "}\n",
              "\n",
              "/* \"?\"-specific style due to the `<a>` HTML tag */\n",
              "\n",
              "#sk-container-id-1 a.estimator_doc_link {\n",
              "  float: right;\n",
              "  font-size: 1rem;\n",
              "  line-height: 1em;\n",
              "  font-family: monospace;\n",
              "  background-color: var(--sklearn-color-background);\n",
              "  border-radius: 1rem;\n",
              "  height: 1rem;\n",
              "  width: 1rem;\n",
              "  text-decoration: none;\n",
              "  /* unfitted */\n",
              "  color: var(--sklearn-color-unfitted-level-1);\n",
              "  border: var(--sklearn-color-unfitted-level-1) 1pt solid;\n",
              "}\n",
              "\n",
              "#sk-container-id-1 a.estimator_doc_link.fitted {\n",
              "  /* fitted */\n",
              "  border: var(--sklearn-color-fitted-level-1) 1pt solid;\n",
              "  color: var(--sklearn-color-fitted-level-1);\n",
              "}\n",
              "\n",
              "/* On hover */\n",
              "#sk-container-id-1 a.estimator_doc_link:hover {\n",
              "  /* unfitted */\n",
              "  background-color: var(--sklearn-color-unfitted-level-3);\n",
              "  color: var(--sklearn-color-background);\n",
              "  text-decoration: none;\n",
              "}\n",
              "\n",
              "#sk-container-id-1 a.estimator_doc_link.fitted:hover {\n",
              "  /* fitted */\n",
              "  background-color: var(--sklearn-color-fitted-level-3);\n",
              "}\n",
              "</style><div id=\"sk-container-id-1\" class=\"sk-top-container\"><div class=\"sk-text-repr-fallback\"><pre>LinearRegression()</pre><b>In a Jupyter environment, please rerun this cell to show the HTML representation or trust the notebook. <br />On GitHub, the HTML representation is unable to render, please try loading this page with nbviewer.org.</b></div><div class=\"sk-container\" hidden><div class=\"sk-item\"><div class=\"sk-estimator fitted sk-toggleable\"><input class=\"sk-toggleable__control sk-hidden--visually\" id=\"sk-estimator-id-1\" type=\"checkbox\" checked><label for=\"sk-estimator-id-1\" class=\"sk-toggleable__label fitted sk-toggleable__label-arrow fitted\">&nbsp;&nbsp;LinearRegression<a class=\"sk-estimator-doc-link fitted\" rel=\"noreferrer\" target=\"_blank\" href=\"https://scikit-learn.org/1.5/modules/generated/sklearn.linear_model.LinearRegression.html\">?<span>Documentation for LinearRegression</span></a><span class=\"sk-estimator-doc-link fitted\">i<span>Fitted</span></span></label><div class=\"sk-toggleable__content fitted\"><pre>LinearRegression()</pre></div> </div></div></div></div>"
            ],
            "text/plain": [
              "LinearRegression()"
            ]
          },
          "execution_count": 15,
          "metadata": {},
          "output_type": "execute_result"
        }
      ],
      "source": [
        "# Best set of hyperparameters.\n",
        "hyperparameters = tuned_params.best_params\n",
        "\n",
        "# We replicate adstock transformation, train test splitting and model fitting. \n",
        "# Add adstock columns. \n",
        "df_adstock_train  = add_adstock_to_pdf(df_train, hyperparameters, CHANNELS) \n",
        "df_adstock_test = add_adstock_to_pdf(df_test, hyperparameters, CHANNELS)\n",
        "\n",
        "# Define train and test data.\n",
        "X_train, y_train = df_adstock_train[features], df_adstock_train[TARGET]\n",
        "X_test, y_test = df_adstock_test[features], df_adstock_test[TARGET]\n",
        "\n",
        "\n",
        "adstock_hypertuning.model.fit(X_train, y_train)"
      ]
    },
    {
      "cell_type": "markdown",
      "metadata": {
        "id": "1hSppHJmM62O"
      },
      "source": [
        "## 5. Model performance."
      ]
    },
    {
      "cell_type": "code",
      "execution_count": 16,
      "metadata": {
        "colab": {
          "base_uri": "https://localhost:8080/",
          "height": 264
        },
        "id": "bKt9OphHrK19",
        "outputId": "e627137b-2dbc-4db5-a25e-4377f87a13f8"
      },
      "outputs": [
        {
          "data": {
            "image/png": "[encoded data removed]",
            "text/plain": [
              "<Figure size 2000x800 with 1 Axes>"
            ]
          },
          "metadata": {},
          "output_type": "display_data"
        },
        {
          "name": "stdout",
          "output_type": "stream",
          "text": [
            "Training Performance\n",
            "Performance Metrics:\n",
            "\n",
            "MSE:0.017\n",
            "R2: 0.763\n",
            "\n",
            "Test Performance\n",
            "Performance Metrics:\n",
            "\n",
            "MSE:0.002\n",
            "R2: -0.249\n",
            "\n"
          ]
        }
      ],
      "source": [
        "# Line chart for performance.\n",
        "\n",
        "y_train.index = df_train.index  # adding index back for convenience\n",
        "\n",
        "# Plot it\n",
        "actual_vs_pred = pd.DataFrame(\n",
        "    {\n",
        "        \"actual\": y_train,\n",
        "        \"pred\": adstock_hypertuning.model.predict(X_train),\n",
        "       \n",
        "    },\n",
        "    index=df_train.index\n",
        ")\n",
        "actual_vs_pred.plot(title=\"Actual vs prediction\")\n",
        "\n",
        "plt.show()\n",
        "\n",
        "\n",
        "print(\"Training Performance\")\n",
        "utils.performance_metrics(y_train, adstock_hypertuning.model.predict(X_train))\n",
        "\n",
        "print(\"Test Performance\")\n",
        "utils.performance_metrics(y_test, adstock_hypertuning.model.predict(X_test))\n",
        "\n"
      ]
    },
    {
      "cell_type": "markdown",
      "metadata": {
        "id": "9WDHCLldNktY"
      },
      "source": [
        "## 6. Channel contribution.\n",
        "\n",
        "Now with a fitted model, we can estimate the contribution of each channel. This tipically answers to the question: How much of a sales uplift (incremental sales) are attributed to the investments in a given channel. \n",
        "\n",
        "With this information, if we know how incremental sales we are getting, and how much a channel cost, we can then calculate the channel's ROI (return of investment)."
      ]
    },
    {
      "cell_type": "markdown",
      "metadata": {
        "id": "btC6qdJdPeiw"
      },
      "source": [
        "We observe the marginal channel contribution and the return on investment per channel.\n",
        "\n"
      ]
    },
    {
      "cell_type": "code",
      "execution_count": 17,
      "metadata": {
        "colab": {
          "base_uri": "https://localhost:8080/"
        },
        "id": "oFqLZGV1hmLe",
        "outputId": "3bb917ac-bdcb-4e34-f162-7dd7c3798127"
      },
      "outputs": [],
      "source": [
        "\n",
        "# base sales takes into account the intercept plus monthly effects.\n",
        "base = (\n",
        "    sum(\n",
        "        [\n",
        "            adstock_hypertuning.model.coef_[\n",
        "                features.index(c)\n",
        "            ] * X_train.iloc[:, features.index(c)]\n",
        "            for c in features if 'adstock' not in c\n",
        "        ]\n",
        "    )\n",
        "      + [adstock_hypertuning.model.intercept_] * len(df_train.index))\n",
        "\n",
        "# Computation of contribution S = B + b1*C1 + b2*C2 \n",
        "# Cnt_2 = (B+B1*C1+B2*C2) - (B+B1*C1) = B2*C2 \n"
      ]
    },
    {
      "cell_type": "code",
      "execution_count": 18,
      "metadata": {},
      "outputs": [],
      "source": [
        "# create contribution plot\n",
        "plot_df = create_stack_df(X_train, features, adstock_hypertuning.model)\n",
        "# re adding base. \n",
        "base.name = \"base\"\n",
        "plot_df = pd.concat([base, plot_df], axis=1)"
      ]
    },
    {
      "cell_type": "code",
      "execution_count": 19,
      "metadata": {},
      "outputs": [
        {
          "data": {
            "application/vnd.plotly.v1+json": {
              "config": {
                "plotlyServerURL": "https://plot.ly"
              },
              "data": [
                {
                  "fillpattern": {
                    "shape": ""
                  },
                  "hovertemplate": "variable=base<br>index=%{x}<br>value=%{y}<extra></extra>",
                  "legendgroup": "base",
                  "line": {
                    "color": "#636efa"
                  },
                  "marker": {
                    "symbol": "circle"
                  },
                  "mode": "lines",
                  "name": "base",
                  "orientation": "v",
                  "showlegend": true,
                  "stackgroup": "1",
                  "type": "scatter",
                  "x": [
                    0,
                    1,
                    2,
                    3,
                    4,
                    5,
                    6,
                    7,
                    8,
                    9,
                    10,
                    11,
                    12,
                    13,
                    14,
                    15,
                    16,
                    17,
                    18,
                    19,
                    20,
                    21,
                    22,
                    23,
                    24,
                    25,
                    26,
                    27,
                    28,
                    29,
                    30,
                    31,
                    32,
                    33,
                    34,
                    35,
                    36,
                    37,
                    38,
                    39,
                    40,
                    41,
                    42,
                    43,
                    44,
                    45,
                    46,
                    47,
                    48,
                    49,
                    50,
                    51,
                    52,
                    53,
                    54,
                    55,
                    56,
                    57,
                    58,
                    59,
                    60,
                    61,
                    62,
                    63,
                    64,
                    65,
                    66,
                    67,
                    68,
                    69,
                    70,
                    71,
                    72,
                    73,
                    74,
                    75,
                    76,
                    77,
                    78,
                    79,
                    80,
                    81,
                    82,
                    83,
                    84,
                    85,
                    86,
                    87,
                    88,
                    89,
                    90,
                    91,
                    92,
                    93,
                    94,
                    95,
                    96,
                    97,
                    98,
                    99,
                    100,
                    101,
                    102,
                    103,
                    104,
                    105,
                    106,
                    107,
                    108,
                    109,
                    110,
                    111,
                    112,
                    113,
                    114,
                    115,
                    116,
                    117,
                    118,
                    119,
                    120,
                    121,
                    122,
                    123,
                    124,
                    125,
                    126,
                    127,
                    128,
                    129,
                    130,
                    131,
                    132,
                    133,
                    134,
                    135,
                    136,
                    137,
                    138,
                    139,
                    140,
                    141,
                    142,
                    143,
                    144,
                    145,
                    146,
                    147,
                    148,
                    149,
                    150,
                    151,
                    152,
                    153,
                    154,
                    155,
                    156,
                    157,
                    158,
                    159,
                    160,
                    161,
                    162,
                    163,
                    164,
                    165,
                    166,
                    167,
                    168,
                    169,
                    170,
                    171,
                    172,
                    173,
                    174,
                    175,
                    176,
                    177,
                    178,
                    179,
                    180,
                    181,
                    182,
                    183,
                    184,
                    185,
                    186,
                    187,
                    188,
                    189,
                    190,
                    191,
                    192,
                    193,
                    194,
                    195,
                    196,
                    197,
                    198,
                    199,
                    200,
                    201,
                    202,
                    203,
                    204,
                    205,
                    206,
                    207,
                    208,
                    209,
                    210,
                    211,
                    212,
                    213,
                    214,
                    215,
                    216,
                    217,
                    218,
                    219,
                    220,
                    221,
                    222,
                    223,
                    224,
                    225,
                    226,
                    227,
                    228,
                    229,
                    230,
                    231,
                    232,
                    233,
                    234,
                    235,
                    236,
                    237,
                    238,
                    239,
                    240,
                    241,
                    242,
                    243,
                    244,
                    245,
                    246,
                    247,
                    248,
                    249,
                    250
                  ],
                  "xaxis": "x",
                  "y": [
                    0.41879262566958564,
                    0.41879262566958564,
                    0.41879262566958564,
                    0.41879262566958564,
                    0.41879262566958564,
                    0.41879262566958564,
                    0.41879262566958564,
                    0.41879262566958564,
                    0.41879262566958564,
                    0.41879262566958564,
                    0.41879262566958564,
                    0.41879262566958564,
                    0.41879262566958564,
                    0.41879262566958564,
                    0.41879262566958564,
                    0.41879262566958564,
                    0.41879262566958564,
                    0.41879262566958564,
                    0.41879262566958564,
                    0.41879262566958564,
                    0.41879262566958564,
                    0.41879262566958564,
                    0.41879262566958564,
                    0.41879262566958564,
                    0.41879262566958564,
                    0.41879262566958564,
                    0.41879262566958564,
                    0.41879262566958564,
                    0.41879262566958564,
                    0.41879262566958564,
                    0.41879262566958564,
                    0.41879262566958564,
                    0.41879262566958564,
                    0.41879262566958564,
                    0.41879262566958564,
                    0.41879262566958564,
                    0.41879262566958564,
                    0.41879262566958564,
                    0.41879262566958564,
                    0.41879262566958564,
                    0.41879262566958564,
                    0.41879262566958564,
                    0.41879262566958564,
                    0.41879262566958564,
                    0.41879262566958564,
                    0.41879262566958564,
                    0.41879262566958564,
                    0.41879262566958564,
                    0.41879262566958564,
                    0.41879262566958564,
                    0.41879262566958564,
                    0.41879262566958564,
                    0.41879262566958564,
                    0.41879262566958564,
                    0.4200312039103274,
                    0.42498551687329433,
                    0.42746267335477783,
                    0.4348941427992282,
                    0.43613272103997,
                    0.4386098775214534,
                    0.4423256122436786,
                    0.4410870340029369,
                    0.5079702590029906,
                    0.055454211747492044,
                    0.06536283767342593,
                    0.06907857239565113,
                    0.06907857239565113,
                    0.06783999415490938,
                    0.06536283767342593,
                    0.06164710295120068,
                    0.05916994646971724,
                    0.056692789988233794,
                    0.056692789988233794,
                    0.056692789988233794,
                    0.0470978991205539,
                    0.0470978991205539,
                    0.0470978991205539,
                    0.0470978991205539,
                    0.037503008252874004,
                    0.03830258249184737,
                    0.03910215673082068,
                    0.03670343401390069,
                    0.03590385977492738,
                    0.03670343401390069,
                    0.03910215673082068,
                    0.03910215673082068,
                    0.03910215673082068,
                    0.03670343401390069,
                    0.03590385977492738,
                    0.03218812505270219,
                    0.025995233848993493,
                    0.016682479453955013,
                    0.004296697046537679,
                    0.004296697046537679,
                    0.004296697046537679,
                    0.005535275287279373,
                    0.005535275287279373,
                    0.008012431768762873,
                    0.009251010009504568,
                    0.009251010009504568,
                    0.010489588250246318,
                    0.011728166490988068,
                    0.011728166490988068,
                    0.010489588250246318,
                    0.010489588250246318,
                    0.010489588250246318,
                    0.009251010009504568,
                    0.009251010009504568,
                    0.008012431768762873,
                    0.006773853528021123,
                    0.006773853528021123,
                    0.005535275287279373,
                    0.004296697046537679,
                    0.0018195405650541785,
                    0.000580962324312484,
                    -0.0006576159164292661,
                    -0.0018961941571710161,
                    -0.005611928879396211,
                    -0.005611928879396211,
                    -0.00808908536087971,
                    -0.009327663601621461,
                    0.4630056355057449,
                    0.4617670572650032,
                    0.4605284790242615,
                    0.458051322542778,
                    0.4551351620595261,
                    0.45345757981701595,
                    0.45337914605245244,
                    0.45294014205068406,
                    0.4525011380489156,
                    0.4504629855692006,
                    0.4500239815674322,
                    0.44922440732845886,
                    0.44842483308948555,
                    0.4444269618946189,
                    0.4431883836538772,
                    0.43823407069091025,
                    0.43947264893165194,
                    0.43947264893165194,
                    0.43947264893165194,
                    0.43823407069091025,
                    0.43823407069091025,
                    0.43983321916885687,
                    0.4406327934078302,
                    0.43903364492988356,
                    0.4446306646026968,
                    0.4446306646026968,
                    0.4441916606009284,
                    0.4425140783584183,
                    0.4417145041194449,
                    0.44295308236018666,
                    0.4470293873196168,
                    0.44543023884167016,
                    0.4401937894060618,
                    0.4409933636450351,
                    0.436917058685605,
                    0.43843777339898815,
                    0.43923734763796146,
                    0.4400369218769348,
                    0.438798343636193,
                    0.438798343636193,
                    0.438798343636193,
                    0.4379987693972197,
                    0.43676019115647796,
                    0.4363211871547096,
                    0.4347220386767629,
                    0.4331228901988163,
                    0.429924593242923,
                    0.4286860150021813,
                    0.4278864407632079,
                    0.4270868665242346,
                    0.4270868665242346,
                    0.4270868665242346,
                    0.42584828828349286,
                    0.4266478625224662,
                    0.42584828828349286,
                    0.4266478625224662,
                    0.42584828828349286,
                    0.4266478625224662,
                    0.4266478625224662,
                    0.4266478625224662,
                    0.42584828828349286,
                    0.4266478625224662,
                    0.42584828828349286,
                    0.42584828828349286,
                    0.4266478625224662,
                    0.42584828828349286,
                    0.42584828828349286,
                    0.42460971004275117,
                    0.42832544476497636,
                    0.4303635972446914,
                    0.42956402300571805,
                    0.43116317148366473,
                    0.43196274572263804,
                    0.44555550778518455,
                    0.45594997289183775,
                    0.45594997289183775,
                    0.45594997289183775,
                    0.45594997289183775,
                    0.45594997289183775,
                    0.45594997289183775,
                    0.45594997289183775,
                    0.45594997289183775,
                    0.5095214469030503,
                    0.5095214469030503,
                    0.5095214469030503,
                    0.5095214469030503,
                    0.4831354970169307,
                    0.41879262566958564,
                    0.41879262566958564,
                    0.41879262566958564,
                    0.41879262566958564,
                    0.4723640996807983,
                    0.4723640996807983,
                    0.4723640996807983,
                    0.4723640996807983,
                    0.4723640996807983,
                    0.4723640996807983,
                    0.4723640996807983,
                    0.41879262566958564,
                    0.41879262566958564,
                    0.41879262566958564,
                    0.41879262566958564,
                    0.41879262566958564,
                    0.41879262566958564,
                    0.41879262566958564,
                    0.41879262566958564,
                    0.41879262566958564,
                    0.41879262566958564,
                    0.41879262566958564,
                    0.41879262566958564,
                    0.41879262566958564,
                    0.41879262566958564,
                    0.41879262566958564,
                    0.41879262566958564,
                    0.41879262566958564,
                    0.41879262566958564,
                    0.41879262566958564,
                    0.41879262566958564,
                    0.41879262566958564,
                    0.41879262566958564,
                    0.41879262566958564,
                    0.41879262566958564,
                    0.41879262566958564,
                    0.41879262566958564,
                    0.41879262566958564,
                    0.41879262566958564,
                    0.41879262566958564,
                    0.41879262566958564,
                    0.41879262566958564,
                    0.41879262566958564
                  ],
                  "yaxis": "y"
                },
                {
                  "fillpattern": {
                    "shape": ""
                  },
                  "hovertemplate": "variable=stringency_index<br>index=%{x}<br>value=%{y}<extra></extra>",
                  "legendgroup": "stringency_index",
                  "line": {
                    "color": "#EF553B"
                  },
                  "marker": {
                    "symbol": "circle"
                  },
                  "mode": "lines",
                  "name": "stringency_index",
                  "orientation": "v",
                  "showlegend": true,
                  "stackgroup": "1",
                  "type": "scatter",
                  "x": [
                    0,
                    1,
                    2,
                    3,
                    4,
                    5,
                    6,
                    7,
                    8,
                    9,
                    10,
                    11,
                    12,
                    13,
                    14,
                    15,
                    16,
                    17,
                    18,
                    19,
                    20,
                    21,
                    22,
                    23,
                    24,
                    25,
                    26,
                    27,
                    28,
                    29,
                    30,
                    31,
                    32,
                    33,
                    34,
                    35,
                    36,
                    37,
                    38,
                    39,
                    40,
                    41,
                    42,
                    43,
                    44,
                    45,
                    46,
                    47,
                    48,
                    49,
                    50,
                    51,
                    52,
                    53,
                    54,
                    55,
                    56,
                    57,
                    58,
                    59,
                    60,
                    61,
                    62,
                    63,
                    64,
                    65,
                    66,
                    67,
                    68,
                    69,
                    70,
                    71,
                    72,
                    73,
                    74,
                    75,
                    76,
                    77,
                    78,
                    79,
                    80,
                    81,
                    82,
                    83,
                    84,
                    85,
                    86,
                    87,
                    88,
                    89,
                    90,
                    91,
                    92,
                    93,
                    94,
                    95,
                    96,
                    97,
                    98,
                    99,
                    100,
                    101,
                    102,
                    103,
                    104,
                    105,
                    106,
                    107,
                    108,
                    109,
                    110,
                    111,
                    112,
                    113,
                    114,
                    115,
                    116,
                    117,
                    118,
                    119,
                    120,
                    121,
                    122,
                    123,
                    124,
                    125,
                    126,
                    127,
                    128,
                    129,
                    130,
                    131,
                    132,
                    133,
                    134,
                    135,
                    136,
                    137,
                    138,
                    139,
                    140,
                    141,
                    142,
                    143,
                    144,
                    145,
                    146,
                    147,
                    148,
                    149,
                    150,
                    151,
                    152,
                    153,
                    154,
                    155,
                    156,
                    157,
                    158,
                    159,
                    160,
                    161,
                    162,
                    163,
                    164,
                    165,
                    166,
                    167,
                    168,
                    169,
                    170,
                    171,
                    172,
                    173,
                    174,
                    175,
                    176,
                    177,
                    178,
                    179,
                    180,
                    181,
                    182,
                    183,
                    184,
                    185,
                    186,
                    187,
                    188,
                    189,
                    190,
                    191,
                    192,
                    193,
                    194,
                    195,
                    196,
                    197,
                    198,
                    199,
                    200,
                    201,
                    202,
                    203,
                    204,
                    205,
                    206,
                    207,
                    208,
                    209,
                    210,
                    211,
                    212,
                    213,
                    214,
                    215,
                    216,
                    217,
                    218,
                    219,
                    220,
                    221,
                    222,
                    223,
                    224,
                    225,
                    226,
                    227,
                    228,
                    229,
                    230,
                    231,
                    232,
                    233,
                    234,
                    235,
                    236,
                    237,
                    238,
                    239,
                    240,
                    241,
                    242,
                    243,
                    244,
                    245,
                    246,
                    247,
                    248,
                    249,
                    250
                  ],
                  "xaxis": "x",
                  "y": [
                    0,
                    0,
                    0,
                    0,
                    0,
                    0,
                    0,
                    0,
                    0,
                    0,
                    0,
                    0,
                    0,
                    0,
                    0,
                    0,
                    0,
                    0,
                    0,
                    0,
                    0,
                    0,
                    0,
                    0,
                    0,
                    0,
                    0,
                    0,
                    0,
                    0,
                    0,
                    0,
                    0,
                    0,
                    0,
                    0,
                    0,
                    0,
                    0,
                    0,
                    0,
                    0,
                    0,
                    0,
                    0,
                    0,
                    0,
                    0,
                    0,
                    0,
                    0,
                    0,
                    0,
                    0,
                    0.001238578240741736,
                    0.006192891203708681,
                    0.008670047685192153,
                    0.01610151712964257,
                    0.017340095370384306,
                    0.019817251851867775,
                    0.023532986574092984,
                    0.022294408333351248,
                    0.08917763333340499,
                    0.1102334634260145,
                    0.1201420893519484,
                    0.1238578240741736,
                    0.1238578240741736,
                    0.12261924583343187,
                    0.1201420893519484,
                    0.11642635462972319,
                    0.11394919814823971,
                    0.11147204166675624,
                    0.11147204166675624,
                    0.11147204166675624,
                    0.11147204166675624,
                    0.11147204166675624,
                    0.11147204166675624,
                    0.11147204166675624,
                    0.11147204166675624,
                    0.11147204166675624,
                    0.11147204166675624,
                    0.11147204166675624,
                    0.11147204166675624,
                    0.11147204166675624,
                    0.11147204166675624,
                    0.11147204166675624,
                    0.11147204166675624,
                    0.11147204166675624,
                    0.11147204166675624,
                    0.10775630694453103,
                    0.10156341574082235,
                    0.09784768101859716,
                    0.08546189861117978,
                    0.08546189861117978,
                    0.08546189861117978,
                    0.08670047685192152,
                    0.08670047685192152,
                    0.08917763333340499,
                    0.09041621157414673,
                    0.09041621157414673,
                    0.09165478981488846,
                    0.0928933680556302,
                    0.0928933680556302,
                    0.09165478981488846,
                    0.09165478981488846,
                    0.09165478981488846,
                    0.09041621157414673,
                    0.09041621157414673,
                    0.08917763333340499,
                    0.08793905509266325,
                    0.08793905509266325,
                    0.08670047685192152,
                    0.08546189861117978,
                    0.08298474212969632,
                    0.08174616388895459,
                    0.08050758564821285,
                    0.0792690074074711,
                    0.07555327268524589,
                    0.07555327268524589,
                    0.07307611620376242,
                    0.07183753796302068,
                    0.07059895972227895,
                    0.06936038148153723,
                    0.06812180324079549,
                    0.06564464675931202,
                    0.0619289120370868,
                    0.05945175555560333,
                    0.05697459907411986,
                    0.05573602083337812,
                    0.054497442592636385,
                    0.05325886435189465,
                    0.05202028611115291,
                    0.05202028611115291,
                    0.05202028611115291,
                    0.05202028611115291,
                    0.050781707870411176,
                    0.04582739490744423,
                    0.04706597314818597,
                    0.04706597314818597,
                    0.04706597314818597,
                    0.04582739490744423,
                    0.04582739490744423,
                    0.04582739490744423,
                    0.04582739490744423,
                    0.04582739490744423,
                    0.04582739490744423,
                    0.04582739490744423,
                    0.044588816666702495,
                    0.04211166018521903,
                    0.04211166018521903,
                    0.04335023842596076,
                    0.04582739490744423,
                    0.04582739490744423,
                    0.044588816666702495,
                    0.044588816666702495,
                    0.04211166018521903,
                    0.03963450370373555,
                    0.03963450370373555,
                    0.03963450370373555,
                    0.038395925462993814,
                    0.038395925462993814,
                    0.038395925462993814,
                    0.038395925462993814,
                    0.03715734722225208,
                    0.03591876898151034,
                    0.03591876898151034,
                    0.03591876898151034,
                    0.03591876898151034,
                    0.03468019074076861,
                    0.03468019074076861,
                    0.03468019074076861,
                    0.03468019074076861,
                    0.03468019074076861,
                    0.03344161250002688,
                    0.03344161250002688,
                    0.03344161250002688,
                    0.03344161250002688,
                    0.03344161250002688,
                    0.03344161250002688,
                    0.03344161250002688,
                    0.03344161250002688,
                    0.03344161250002688,
                    0.03344161250002688,
                    0.03344161250002688,
                    0.03344161250002688,
                    0.03344161250002688,
                    0.03344161250002688,
                    0.03344161250002688,
                    0.03220303425928514,
                    0.03591876898151034,
                    0.03715734722225208,
                    0.03715734722225208,
                    0.03715734722225208,
                    0.03715734722225208,
                    0.03715734722225208,
                    0.03715734722225208,
                    0.03715734722225208,
                    0.03715734722225208,
                    0.03715734722225208,
                    0.03715734722225208,
                    0.03715734722225208,
                    0.03715734722225208,
                    0.03715734722225208,
                    0.03715734722225208,
                    0.03715734722225208,
                    0.03715734722225208,
                    0.03715734722225208,
                    0.03715734722225208,
                    0,
                    0,
                    0,
                    0,
                    0,
                    0,
                    0,
                    0,
                    0,
                    0,
                    0,
                    0,
                    0,
                    0,
                    0,
                    0,
                    0,
                    0,
                    0,
                    0,
                    0,
                    0,
                    0,
                    0,
                    0,
                    0,
                    0,
                    0,
                    0,
                    0,
                    0,
                    0,
                    0,
                    0,
                    0,
                    0,
                    0,
                    0,
                    0,
                    0,
                    0,
                    0,
                    0
                  ],
                  "yaxis": "y"
                },
                {
                  "fillpattern": {
                    "shape": ""
                  },
                  "hovertemplate": "variable=flu_index<br>index=%{x}<br>value=%{y}<extra></extra>",
                  "legendgroup": "flu_index",
                  "line": {
                    "color": "#00cc96"
                  },
                  "marker": {
                    "symbol": "circle"
                  },
                  "mode": "lines",
                  "name": "flu_index",
                  "orientation": "v",
                  "showlegend": true,
                  "stackgroup": "1",
                  "type": "scatter",
                  "x": [
                    0,
                    1,
                    2,
                    3,
                    4,
                    5,
                    6,
                    7,
                    8,
                    9,
                    10,
                    11,
                    12,
                    13,
                    14,
                    15,
                    16,
                    17,
                    18,
                    19,
                    20,
                    21,
                    22,
                    23,
                    24,
                    25,
                    26,
                    27,
                    28,
                    29,
                    30,
                    31,
                    32,
                    33,
                    34,
                    35,
                    36,
                    37,
                    38,
                    39,
                    40,
                    41,
                    42,
                    43,
                    44,
                    45,
                    46,
                    47,
                    48,
                    49,
                    50,
                    51,
                    52,
                    53,
                    54,
                    55,
                    56,
                    57,
                    58,
                    59,
                    60,
                    61,
                    62,
                    63,
                    64,
                    65,
                    66,
                    67,
                    68,
                    69,
                    70,
                    71,
                    72,
                    73,
                    74,
                    75,
                    76,
                    77,
                    78,
                    79,
                    80,
                    81,
                    82,
                    83,
                    84,
                    85,
                    86,
                    87,
                    88,
                    89,
                    90,
                    91,
                    92,
                    93,
                    94,
                    95,
                    96,
                    97,
                    98,
                    99,
                    100,
                    101,
                    102,
                    103,
                    104,
                    105,
                    106,
                    107,
                    108,
                    109,
                    110,
                    111,
                    112,
                    113,
                    114,
                    115,
                    116,
                    117,
                    118,
                    119,
                    120,
                    121,
                    122,
                    123,
                    124,
                    125,
                    126,
                    127,
                    128,
                    129,
                    130,
                    131,
                    132,
                    133,
                    134,
                    135,
                    136,
                    137,
                    138,
                    139,
                    140,
                    141,
                    142,
                    143,
                    144,
                    145,
                    146,
                    147,
                    148,
                    149,
                    150,
                    151,
                    152,
                    153,
                    154,
                    155,
                    156,
                    157,
                    158,
                    159,
                    160,
                    161,
                    162,
                    163,
                    164,
                    165,
                    166,
                    167,
                    168,
                    169,
                    170,
                    171,
                    172,
                    173,
                    174,
                    175,
                    176,
                    177,
                    178,
                    179,
                    180,
                    181,
                    182,
                    183,
                    184,
                    185,
                    186,
                    187,
                    188,
                    189,
                    190,
                    191,
                    192,
                    193,
                    194,
                    195,
                    196,
                    197,
                    198,
                    199,
                    200,
                    201,
                    202,
                    203,
                    204,
                    205,
                    206,
                    207,
                    208,
                    209,
                    210,
                    211,
                    212,
                    213,
                    214,
                    215,
                    216,
                    217,
                    218,
                    219,
                    220,
                    221,
                    222,
                    223,
                    224,
                    225,
                    226,
                    227,
                    228,
                    229,
                    230,
                    231,
                    232,
                    233,
                    234,
                    235,
                    236,
                    237,
                    238,
                    239,
                    240,
                    241,
                    242,
                    243,
                    244,
                    245,
                    246,
                    247,
                    248,
                    249,
                    250
                  ],
                  "xaxis": "x",
                  "y": [
                    0.02638594988611966,
                    0.02638594988611966,
                    0.02638594988611966,
                    0.02638594988611966,
                    0.02638594988611966,
                    0.02638594988611966,
                    0.02638594988611966,
                    0.02638594988611966,
                    0.02638594988611966,
                    0.02638594988611966,
                    0.02638594988611966,
                    0.02638594988611966,
                    0.02638594988611966,
                    0.02638594988611966,
                    0.02638594988611966,
                    0.02638594988611966,
                    0.02638594988611966,
                    0.02638594988611966,
                    0.02638594988611966,
                    0.02638594988611966,
                    0.02638594988611966,
                    0.02638594988611966,
                    0.02638594988611966,
                    0.02638594988611966,
                    0.02638594988611966,
                    0.02638594988611966,
                    0.02638594988611966,
                    0.02638594988611966,
                    0.02638594988611966,
                    0.02638594988611966,
                    0.02638594988611966,
                    0.02638594988611966,
                    0.02638594988611966,
                    0.02638594988611966,
                    0.02638594988611966,
                    0.02638594988611966,
                    0.02638594988611966,
                    0.02638594988611966,
                    0.02638594988611966,
                    0.02638594988611966,
                    0.02638594988611966,
                    0.02638594988611966,
                    0.02638594988611966,
                    0.02638594988611966,
                    0.02638594988611966,
                    0.02638594988611966,
                    0.02638594988611966,
                    0.02638594988611966,
                    0.02638594988611966,
                    0.02638594988611966,
                    0.02638594988611966,
                    0.02638594988611966,
                    0.02638594988611966,
                    0.02638594988611966,
                    0.02638594988611966,
                    0.02638594988611966,
                    0.02638594988611966,
                    0.02638594988611966,
                    0.02638594988611966,
                    0.02638594988611966,
                    0.02638594988611966,
                    0.02638594988611966,
                    0.02638594988611966,
                    0.02638594988611966,
                    0.02638594988611966,
                    0.02638594988611966,
                    0.02638594988611966,
                    0.02638594988611966,
                    0.02638594988611966,
                    0.02638594988611966,
                    0.02638594988611966,
                    0.02638594988611966,
                    0.02638594988611966,
                    0.02638594988611966,
                    0.01679105901843978,
                    0.01679105901843978,
                    0.01679105901843978,
                    0.01679105901843978,
                    0.007196168150759906,
                    0.00799574238973323,
                    0.008795316628706551,
                    0.006396593911786584,
                    0.005597019672813261,
                    0.006396593911786584,
                    0.008795316628706551,
                    0.008795316628706551,
                    0.008795316628706551,
                    0.006396593911786584,
                    0.005597019672813261,
                    0.005597019672813261,
                    0.005597019672813261,
                    0,
                    0,
                    0,
                    0,
                    0,
                    0,
                    0,
                    0,
                    0,
                    0,
                    0,
                    0,
                    0,
                    0,
                    0,
                    0,
                    0,
                    0,
                    0,
                    0,
                    0,
                    0,
                    0,
                    0,
                    0,
                    0,
                    0,
                    0,
                    0,
                    0,
                    0,
                    0,
                    0,
                    0,
                    0.000799574238973323,
                    0.001599148477946646,
                    0.003997871194866615,
                    0.004797445433839937,
                    0.005597019672813261,
                    0.004797445433839937,
                    0.005597019672813261,
                    0.004797445433839937,
                    0.003997871194866615,
                    0,
                    0,
                    0,
                    0,
                    0,
                    0,
                    0,
                    0,
                    0.001599148477946646,
                    0.0023987227169199685,
                    0.000799574238973323,
                    0.006396593911786584,
                    0.006396593911786584,
                    0.007196168150759906,
                    0.00799574238973323,
                    0.007196168150759906,
                    0.007196168150759906,
                    0.008795316628706551,
                    0.007196168150759906,
                    0.003198296955893292,
                    0.003997871194866615,
                    0.0023987227169199685,
                    0.006396593911786584,
                    0.007196168150759906,
                    0.00799574238973323,
                    0.00799574238973323,
                    0.00799574238973323,
                    0.00799574238973323,
                    0.007196168150759906,
                    0.007196168150759906,
                    0.00799574238973323,
                    0.006396593911786584,
                    0.004797445433839937,
                    0.001599148477946646,
                    0.001599148477946646,
                    0.000799574238973323,
                    0,
                    0,
                    0,
                    0,
                    0.000799574238973323,
                    0,
                    0.000799574238973323,
                    0,
                    0.000799574238973323,
                    0.000799574238973323,
                    0.000799574238973323,
                    0,
                    0.000799574238973323,
                    0,
                    0,
                    0.000799574238973323,
                    0,
                    0,
                    0,
                    0,
                    0.000799574238973323,
                    0,
                    0.001599148477946646,
                    0.0023987227169199685,
                    0.01599148477946646,
                    0.02638594988611966,
                    0.02638594988611966,
                    0.02638594988611966,
                    0.02638594988611966,
                    0.02638594988611966,
                    0.02638594988611966,
                    0.02638594988611966,
                    0.02638594988611966,
                    0.07995742389733229,
                    0.07995742389733229,
                    0.07995742389733229,
                    0.07995742389733229,
                    0.053571474011212636,
                    0.02638594988611966,
                    0.02638594988611966,
                    0.02638594988611966,
                    0.02638594988611966,
                    0.07995742389733229,
                    0.07995742389733229,
                    0.07995742389733229,
                    0.07995742389733229,
                    0.07995742389733229,
                    0.07995742389733229,
                    0.07995742389733229,
                    0.02638594988611966,
                    0.02638594988611966,
                    0.02638594988611966,
                    0.02638594988611966,
                    0.02638594988611966,
                    0.02638594988611966,
                    0.02638594988611966,
                    0.02638594988611966,
                    0.02638594988611966,
                    0.02638594988611966,
                    0.02638594988611966,
                    0.02638594988611966,
                    0.02638594988611966,
                    0.02638594988611966,
                    0.02638594988611966,
                    0.02638594988611966,
                    0.02638594988611966,
                    0.02638594988611966,
                    0.02638594988611966,
                    0.02638594988611966,
                    0.02638594988611966,
                    0.02638594988611966,
                    0.02638594988611966,
                    0.02638594988611966,
                    0.02638594988611966,
                    0.02638594988611966,
                    0.02638594988611966,
                    0.02638594988611966,
                    0.02638594988611966,
                    0.02638594988611966,
                    0.02638594988611966,
                    0.02638594988611966
                  ],
                  "yaxis": "y"
                },
                {
                  "fillpattern": {
                    "shape": ""
                  },
                  "hovertemplate": "variable=covid_flag<br>index=%{x}<br>value=%{y}<extra></extra>",
                  "legendgroup": "covid_flag",
                  "line": {
                    "color": "#ab63fa"
                  },
                  "marker": {
                    "symbol": "circle"
                  },
                  "mode": "lines",
                  "name": "covid_flag",
                  "orientation": "v",
                  "showlegend": true,
                  "stackgroup": "1",
                  "type": "scatter",
                  "x": [
                    0,
                    1,
                    2,
                    3,
                    4,
                    5,
                    6,
                    7,
                    8,
                    9,
                    10,
                    11,
                    12,
                    13,
                    14,
                    15,
                    16,
                    17,
                    18,
                    19,
                    20,
                    21,
                    22,
                    23,
                    24,
                    25,
                    26,
                    27,
                    28,
                    29,
                    30,
                    31,
                    32,
                    33,
                    34,
                    35,
                    36,
                    37,
                    38,
                    39,
                    40,
                    41,
                    42,
                    43,
                    44,
                    45,
                    46,
                    47,
                    48,
                    49,
                    50,
                    51,
                    52,
                    53,
                    54,
                    55,
                    56,
                    57,
                    58,
                    59,
                    60,
                    61,
                    62,
                    63,
                    64,
                    65,
                    66,
                    67,
                    68,
                    69,
                    70,
                    71,
                    72,
                    73,
                    74,
                    75,
                    76,
                    77,
                    78,
                    79,
                    80,
                    81,
                    82,
                    83,
                    84,
                    85,
                    86,
                    87,
                    88,
                    89,
                    90,
                    91,
                    92,
                    93,
                    94,
                    95,
                    96,
                    97,
                    98,
                    99,
                    100,
                    101,
                    102,
                    103,
                    104,
                    105,
                    106,
                    107,
                    108,
                    109,
                    110,
                    111,
                    112,
                    113,
                    114,
                    115,
                    116,
                    117,
                    118,
                    119,
                    120,
                    121,
                    122,
                    123,
                    124,
                    125,
                    126,
                    127,
                    128,
                    129,
                    130,
                    131,
                    132,
                    133,
                    134,
                    135,
                    136,
                    137,
                    138,
                    139,
                    140,
                    141,
                    142,
                    143,
                    144,
                    145,
                    146,
                    147,
                    148,
                    149,
                    150,
                    151,
                    152,
                    153,
                    154,
                    155,
                    156,
                    157,
                    158,
                    159,
                    160,
                    161,
                    162,
                    163,
                    164,
                    165,
                    166,
                    167,
                    168,
                    169,
                    170,
                    171,
                    172,
                    173,
                    174,
                    175,
                    176,
                    177,
                    178,
                    179,
                    180,
                    181,
                    182,
                    183,
                    184,
                    185,
                    186,
                    187,
                    188,
                    189,
                    190,
                    191,
                    192,
                    193,
                    194,
                    195,
                    196,
                    197,
                    198,
                    199,
                    200,
                    201,
                    202,
                    203,
                    204,
                    205,
                    206,
                    207,
                    208,
                    209,
                    210,
                    211,
                    212,
                    213,
                    214,
                    215,
                    216,
                    217,
                    218,
                    219,
                    220,
                    221,
                    222,
                    223,
                    224,
                    225,
                    226,
                    227,
                    228,
                    229,
                    230,
                    231,
                    232,
                    233,
                    234,
                    235,
                    236,
                    237,
                    238,
                    239,
                    240,
                    241,
                    242,
                    243,
                    244,
                    245,
                    246,
                    247,
                    248,
                    249,
                    250
                  ],
                  "xaxis": "x",
                  "y": [
                    0.02638594988611966,
                    0.02638594988611966,
                    0.02638594988611966,
                    0.02638594988611966,
                    0.02638594988611966,
                    0.02638594988611966,
                    0.02638594988611966,
                    0.02638594988611966,
                    0.02638594988611966,
                    0.02638594988611966,
                    0.02638594988611966,
                    0.02638594988611966,
                    0.02638594988611966,
                    0.02638594988611966,
                    0.02638594988611966,
                    0.02638594988611966,
                    0.02638594988611966,
                    0.02638594988611966,
                    0.02638594988611966,
                    0.02638594988611966,
                    0.02638594988611966,
                    0.02638594988611966,
                    0.02638594988611966,
                    0.02638594988611966,
                    0.02638594988611966,
                    0.02638594988611966,
                    0.02638594988611966,
                    0.02638594988611966,
                    0.02638594988611966,
                    0.02638594988611966,
                    0.02638594988611966,
                    0.02638594988611966,
                    0.02638594988611966,
                    0.02638594988611966,
                    0.02638594988611966,
                    0.02638594988611966,
                    0.02638594988611966,
                    0.02638594988611966,
                    0.02638594988611966,
                    0.02638594988611966,
                    0.02638594988611966,
                    0.02638594988611966,
                    0.02638594988611966,
                    0.02638594988611966,
                    0.02638594988611966,
                    0.02638594988611966,
                    0.02638594988611966,
                    0.02638594988611966,
                    0.02638594988611966,
                    0.02638594988611966,
                    0.02638594988611966,
                    0.02638594988611966,
                    0.02638594988611966,
                    0.02638594988611966,
                    0.02638594988611966,
                    0.02638594988611966,
                    0.02638594988611966,
                    0.02638594988611966,
                    0.02638594988611966,
                    0.02638594988611966,
                    0.02638594988611966,
                    0.02638594988611966,
                    0.02638594988611966,
                    0.02638594988611966,
                    0.02638594988611966,
                    0.02638594988611966,
                    0.02638594988611966,
                    0.02638594988611966,
                    0.02638594988611966,
                    0.02638594988611966,
                    0.02638594988611966,
                    0.02638594988611966,
                    0.02638594988611966,
                    0.02638594988611966,
                    0.01679105901843978,
                    0.01679105901843978,
                    0.01679105901843978,
                    0.01679105901843978,
                    0.007196168150759906,
                    0.00799574238973323,
                    0.008795316628706551,
                    0.006396593911786584,
                    0.005597019672813261,
                    0.006396593911786584,
                    0.008795316628706551,
                    0.008795316628706551,
                    0.008795316628706551,
                    0.006396593911786584,
                    0.005597019672813261,
                    0.005597019672813261,
                    0.005597019672813261,
                    0,
                    0,
                    0,
                    0,
                    0,
                    0,
                    0,
                    0,
                    0,
                    0,
                    0,
                    0,
                    0,
                    0,
                    0,
                    0,
                    0,
                    0,
                    0,
                    0,
                    0,
                    0,
                    0,
                    0,
                    0,
                    0,
                    0,
                    0,
                    0,
                    0,
                    0,
                    0,
                    0,
                    0,
                    0.000799574238973323,
                    0.001599148477946646,
                    0.003997871194866615,
                    0.004797445433839937,
                    0.005597019672813261,
                    0.004797445433839937,
                    0.005597019672813261,
                    0.004797445433839937,
                    0.003997871194866615,
                    0,
                    0,
                    0,
                    0,
                    0,
                    0,
                    0,
                    0,
                    0.001599148477946646,
                    0.0023987227169199685,
                    0.000799574238973323,
                    0.006396593911786584,
                    0.006396593911786584,
                    0.007196168150759906,
                    0.00799574238973323,
                    0.007196168150759906,
                    0.007196168150759906,
                    0.008795316628706551,
                    0.007196168150759906,
                    0.003198296955893292,
                    0.003997871194866615,
                    0.0023987227169199685,
                    0.006396593911786584,
                    0.007196168150759906,
                    0.00799574238973323,
                    0.00799574238973323,
                    0.00799574238973323,
                    0.00799574238973323,
                    0.007196168150759906,
                    0.007196168150759906,
                    0.00799574238973323,
                    0.006396593911786584,
                    0.004797445433839937,
                    0.001599148477946646,
                    0.001599148477946646,
                    0.000799574238973323,
                    0,
                    0,
                    0,
                    0,
                    0.000799574238973323,
                    0,
                    0.000799574238973323,
                    0,
                    0.000799574238973323,
                    0.000799574238973323,
                    0.000799574238973323,
                    0,
                    0.000799574238973323,
                    0,
                    0,
                    0.000799574238973323,
                    0,
                    0,
                    0,
                    0,
                    0.000799574238973323,
                    0,
                    0.001599148477946646,
                    0.0023987227169199685,
                    0.01599148477946646,
                    0.02638594988611966,
                    0.02638594988611966,
                    0.02638594988611966,
                    0.02638594988611966,
                    0.02638594988611966,
                    0.02638594988611966,
                    0.02638594988611966,
                    0.02638594988611966,
                    0.07995742389733229,
                    0.07995742389733229,
                    0.07995742389733229,
                    0.07995742389733229,
                    0.053571474011212636,
                    0.02638594988611966,
                    0.02638594988611966,
                    0.02638594988611966,
                    0.02638594988611966,
                    0.07995742389733229,
                    0.07995742389733229,
                    0.07995742389733229,
                    0.07995742389733229,
                    0.07995742389733229,
                    0.07995742389733229,
                    0.07995742389733229,
                    0.02638594988611966,
                    0.02638594988611966,
                    0.02638594988611966,
                    0.02638594988611966,
                    0.02638594988611966,
                    0.02638594988611966,
                    0.02638594988611966,
                    0.02638594988611966,
                    0.02638594988611966,
                    0.02638594988611966,
                    0.02638594988611966,
                    0.02638594988611966,
                    0.02638594988611966,
                    0.02638594988611966,
                    0.02638594988611966,
                    0.02638594988611966,
                    0.02638594988611966,
                    0.02638594988611966,
                    0.02638594988611966,
                    0.02638594988611966,
                    0.02638594988611966,
                    0.02638594988611966,
                    0.02638594988611966,
                    0.02638594988611966,
                    0.02638594988611966,
                    0.02638594988611966,
                    0.02638594988611966,
                    0.02638594988611966,
                    0.02638594988611966,
                    0.02638594988611966,
                    0.02638594988611966,
                    0.02638594988611966
                  ],
                  "yaxis": "y"
                },
                {
                  "fillpattern": {
                    "shape": ""
                  },
                  "hovertemplate": "variable=adstock_tv<br>index=%{x}<br>value=%{y}<extra></extra>",
                  "legendgroup": "adstock_tv",
                  "line": {
                    "color": "#FFA15A"
                  },
                  "marker": {
                    "symbol": "circle"
                  },
                  "mode": "lines",
                  "name": "adstock_tv",
                  "orientation": "v",
                  "showlegend": true,
                  "stackgroup": "1",
                  "type": "scatter",
                  "x": [
                    0,
                    1,
                    2,
                    3,
                    4,
                    5,
                    6,
                    7,
                    8,
                    9,
                    10,
                    11,
                    12,
                    13,
                    14,
                    15,
                    16,
                    17,
                    18,
                    19,
                    20,
                    21,
                    22,
                    23,
                    24,
                    25,
                    26,
                    27,
                    28,
                    29,
                    30,
                    31,
                    32,
                    33,
                    34,
                    35,
                    36,
                    37,
                    38,
                    39,
                    40,
                    41,
                    42,
                    43,
                    44,
                    45,
                    46,
                    47,
                    48,
                    49,
                    50,
                    51,
                    52,
                    53,
                    54,
                    55,
                    56,
                    57,
                    58,
                    59,
                    60,
                    61,
                    62,
                    63,
                    64,
                    65,
                    66,
                    67,
                    68,
                    69,
                    70,
                    71,
                    72,
                    73,
                    74,
                    75,
                    76,
                    77,
                    78,
                    79,
                    80,
                    81,
                    82,
                    83,
                    84,
                    85,
                    86,
                    87,
                    88,
                    89,
                    90,
                    91,
                    92,
                    93,
                    94,
                    95,
                    96,
                    97,
                    98,
                    99,
                    100,
                    101,
                    102,
                    103,
                    104,
                    105,
                    106,
                    107,
                    108,
                    109,
                    110,
                    111,
                    112,
                    113,
                    114,
                    115,
                    116,
                    117,
                    118,
                    119,
                    120,
                    121,
                    122,
                    123,
                    124,
                    125,
                    126,
                    127,
                    128,
                    129,
                    130,
                    131,
                    132,
                    133,
                    134,
                    135,
                    136,
                    137,
                    138,
                    139,
                    140,
                    141,
                    142,
                    143,
                    144,
                    145,
                    146,
                    147,
                    148,
                    149,
                    150,
                    151,
                    152,
                    153,
                    154,
                    155,
                    156,
                    157,
                    158,
                    159,
                    160,
                    161,
                    162,
                    163,
                    164,
                    165,
                    166,
                    167,
                    168,
                    169,
                    170,
                    171,
                    172,
                    173,
                    174,
                    175,
                    176,
                    177,
                    178,
                    179,
                    180,
                    181,
                    182,
                    183,
                    184,
                    185,
                    186,
                    187,
                    188,
                    189,
                    190,
                    191,
                    192,
                    193,
                    194,
                    195,
                    196,
                    197,
                    198,
                    199,
                    200,
                    201,
                    202,
                    203,
                    204,
                    205,
                    206,
                    207,
                    208,
                    209,
                    210,
                    211,
                    212,
                    213,
                    214,
                    215,
                    216,
                    217,
                    218,
                    219,
                    220,
                    221,
                    222,
                    223,
                    224,
                    225,
                    226,
                    227,
                    228,
                    229,
                    230,
                    231,
                    232,
                    233,
                    234,
                    235,
                    236,
                    237,
                    238,
                    239,
                    240,
                    241,
                    242,
                    243,
                    244,
                    245,
                    246,
                    247,
                    248,
                    249,
                    250
                  ],
                  "xaxis": "x",
                  "y": [
                    0.0827637143499118,
                    0.12250213006999922,
                    0.13603187747985637,
                    0.13722995975986954,
                    0.13260956663829346,
                    0.13042764650124963,
                    0.1293974200537894,
                    0.12761674385732835,
                    0.12677147086759527,
                    0.12639952249660327,
                    0.12538603318691668,
                    0.1240695523112647,
                    0.1234479896189155,
                    0.12228929598293405,
                    0.12261204092843346,
                    0.12362961322861793,
                    0.12410997947788419,
                    0.12347612081222056,
                    0.12404656281533197,
                    0.11566143737455585,
                    0.09784036290091498,
                    0.08941314851280788,
                    0.09583914300591312,
                    0.08846320486074251,
                    0.10839697205965859,
                    0.11779153571549844,
                    0.1222693502018031,
                    0.12445509037195772,
                    0.12548683953716067,
                    0.12591964236926223,
                    0.12617821795508005,
                    0.12617821795508005,
                    0.12617821795508005,
                    0.12617821795508005,
                    0.12617821795508005,
                    0.12617821795508005,
                    0.12617821795508005,
                    0.12617821795508005,
                    0.12617821795508005,
                    0.12617821795508005,
                    0.13914592452866287,
                    0.14526303972305238,
                    0.14728642136225495,
                    0.14737813658092275,
                    0.14742143516240358,
                    0.15003188533049774,
                    0.15212719964672405,
                    0.1539115951455131,
                    0.15389098865790857,
                    0.1538857708979865,
                    0.15388781817988026,
                    0.15475171201095086,
                    0.1551460046593237,
                    0.15705321653203522,
                    0.1519088175490233,
                    0.14343935331514848,
                    0.13338912407964068,
                    0.11046647416201948,
                    0.11868186126368,
                    0.10870618823200981,
                    0.09878384881070429,
                    0.0845837983557748,
                    0.07790580183003411,
                    0.07217704530560735,
                    0.06956693368733596,
                    0.06127863870906465,
                    0.056566420442029815,
                    0.0587188699083446,
                    0.054564658864293736,
                    0.051732537106678925,
                    0.060850786904142445,
                    0.047751160439488724,
                    0.03985572676107811,
                    0.036131019592675714,
                    0.027373626094212965,
                    0.02326437761428051,
                    0.012598574501401318,
                    0.007505122331119726,
                    0.005191094131883005,
                    0.004107619410351828,
                    0.0035960759161074492,
                    0.003391113964903178,
                    0.001546240833201157,
                    0.0024690981718961886,
                    0.002904755071906036,
                    0.0031104235218772504,
                    0.0032075185327531523,
                    0.003253356891931541,
                    0.01201171669520426,
                    0.01615343771902421,
                    0.018099122423325693,
                    0.02338096616124227,
                    0.025001346796074894,
                    0.02489387684301705,
                    0.025715519938607607,
                    0.02605780334749243,
                    0.02709167147760779,
                    0.027579730272932142,
                    0.02778734193170152,
                    0.0278899131419323,
                    0.028815048624889372,
                    0.01790466015189194,
                    0.0171160728892961,
                    0.014119894106499595,
                    0.010084942421660891,
                    0.006432170432420528,
                    0.004707304990737598,
                    0.0030143608405008918,
                    0.006643955719787269,
                    0.011828248728827019,
                    0.014288666743851798,
                    0.009350485369481997,
                    0.0070275887288784875,
                    0.005930790102986242,
                    0.004543655919310541,
                    0.002991911829156347,
                    0.0031150231632233035,
                    0.003173143682929669,
                    0.004106523388517155,
                    0.0036732165222191195,
                    0.004342592325927123,
                    0.0029152512186401106,
                    0.0031199469961262667,
                    0.0040859791327994225,
                    0.004542016511605868,
                    0.003878822628887078,
                    0.002696281217992669,
                    0.0021333930293009782,
                    0.001002654986665613,
                    0.0004642260669854399,
                    0.00020545546015828764,
                    0.0009574814754404451,
                    0.001317066112000222,
                    0.0023654821232021203,
                    0.0028604081675570343,
                    0.003098624349887701,
                    0.003211084750964357,
                    0.0023901522312799813,
                    0.0019980009449778718,
                    0.01055065174455382,
                    0.05293902544674177,
                    0.07029125345609703,
                    0.08194787035542452,
                    0.10219084874966447,
                    0.11087400622430503,
                    0.12276083738023091,
                    0.12832326288868318,
                    0.13074952404143264,
                    0.13709462226143446,
                    0.1409348389203876,
                    0.14612523772860508,
                    0.15030591722674225,
                    0.15310155143797147,
                    0.15442114214828717,
                    0.15590691331723927,
                    0.15658122465181656,
                    0.15689504472928784,
                    0.1561623982322558,
                    0.15580747967920341,
                    0.15218357913853933,
                    0.1452919518498547,
                    0.13684838943567534,
                    0.13286007555598275,
                    0.13097672082397363,
                    0.13095667324015142,
                    0.13094720874766094,
                    0.13096081804060317,
                    0.13012969146690084,
                    0.11851762065278067,
                    0.10870103142287374,
                    0.1031971374967309,
                    0.10059332362002066,
                    0.09936386184370032,
                    0.09878338755130787,
                    0.08984053712022301,
                    0.05960793207652234,
                    0.0453310522682711,
                    0.038589516973672404,
                    0.03540550443356284,
                    0.033902033388344084,
                    0.03755038146595798,
                    0.03931792555054128,
                    0.041160165336702845,
                    0.042029789092632414,
                    0.048536614728921255,
                    0.051607255156573925,
                    0.053056631330908925,
                    0.044140953653655564,
                    0.03905819162095593,
                    0.035781726268256285,
                    0.05513758838492042,
                    0.07379368750886164,
                    0.08345921302392498,
                    0.09669424137615808,
                    0.10472045113976627,
                    0.10851226800429076,
                    0.11896483602438573,
                    0.12378776071853462,
                    0.1277441244123261,
                    0.13825115656508544,
                    0.14316313837609781,
                    0.14115368244262597,
                    0.14279649683119638,
                    0.14093540718016123,
                    0.14005668316947406,
                    0.14049675358308195,
                    0.1415232453911849,
                    0.15323225675318747,
                    0.1587785935781465,
                    0.1613825931375366,
                    0.1522728884503043,
                    0.15142280443372408,
                    0.1518800837490127,
                    0.14000198200381533,
                    0.13606008180127205,
                    0.13506301936035814,
                    0.13026962219226473,
                    0.12892504402839897,
                    0.1300016769607392,
                    0.12964069906837222,
                    0.1295335562630226,
                    0.12774431234183514,
                    0.12689499366818266,
                    0.11872937069640267,
                    0.10360689911992865,
                    0.09038005718044995,
                    0.09194509715410579,
                    0.08487432602473975,
                    0.08154381891779298,
                    0.07128424030998737,
                    0.05778169027408393,
                    0.05146093364198387,
                    0.049378233702471616,
                    0.04748318193565864,
                    0.04750017066662801,
                    0.04663740742806045,
                    0.04540471855030751,
                    0.04051272094264356,
                    0.03471626107882341,
                    0.035461256559683324,
                    0.04975506958867157,
                    0.0573627362073479,
                    0.060087377153800366,
                    0.07007218344847217,
                    0.08262199679191014,
                    0.08422078536666529,
                    0.09970431087034698,
                    0.11126580652151914,
                    0.11671554772623634,
                    0.11842650088018529,
                    0.12957036479826667
                  ],
                  "yaxis": "y"
                },
                {
                  "fillpattern": {
                    "shape": ""
                  },
                  "hovertemplate": "variable=adstock_social_media<br>index=%{x}<br>value=%{y}<extra></extra>",
                  "legendgroup": "adstock_social_media",
                  "line": {
                    "color": "#19d3f3"
                  },
                  "marker": {
                    "symbol": "circle"
                  },
                  "mode": "lines",
                  "name": "adstock_social_media",
                  "orientation": "v",
                  "showlegend": true,
                  "stackgroup": "1",
                  "type": "scatter",
                  "x": [
                    0,
                    1,
                    2,
                    3,
                    4,
                    5,
                    6,
                    7,
                    8,
                    9,
                    10,
                    11,
                    12,
                    13,
                    14,
                    15,
                    16,
                    17,
                    18,
                    19,
                    20,
                    21,
                    22,
                    23,
                    24,
                    25,
                    26,
                    27,
                    28,
                    29,
                    30,
                    31,
                    32,
                    33,
                    34,
                    35,
                    36,
                    37,
                    38,
                    39,
                    40,
                    41,
                    42,
                    43,
                    44,
                    45,
                    46,
                    47,
                    48,
                    49,
                    50,
                    51,
                    52,
                    53,
                    54,
                    55,
                    56,
                    57,
                    58,
                    59,
                    60,
                    61,
                    62,
                    63,
                    64,
                    65,
                    66,
                    67,
                    68,
                    69,
                    70,
                    71,
                    72,
                    73,
                    74,
                    75,
                    76,
                    77,
                    78,
                    79,
                    80,
                    81,
                    82,
                    83,
                    84,
                    85,
                    86,
                    87,
                    88,
                    89,
                    90,
                    91,
                    92,
                    93,
                    94,
                    95,
                    96,
                    97,
                    98,
                    99,
                    100,
                    101,
                    102,
                    103,
                    104,
                    105,
                    106,
                    107,
                    108,
                    109,
                    110,
                    111,
                    112,
                    113,
                    114,
                    115,
                    116,
                    117,
                    118,
                    119,
                    120,
                    121,
                    122,
                    123,
                    124,
                    125,
                    126,
                    127,
                    128,
                    129,
                    130,
                    131,
                    132,
                    133,
                    134,
                    135,
                    136,
                    137,
                    138,
                    139,
                    140,
                    141,
                    142,
                    143,
                    144,
                    145,
                    146,
                    147,
                    148,
                    149,
                    150,
                    151,
                    152,
                    153,
                    154,
                    155,
                    156,
                    157,
                    158,
                    159,
                    160,
                    161,
                    162,
                    163,
                    164,
                    165,
                    166,
                    167,
                    168,
                    169,
                    170,
                    171,
                    172,
                    173,
                    174,
                    175,
                    176,
                    177,
                    178,
                    179,
                    180,
                    181,
                    182,
                    183,
                    184,
                    185,
                    186,
                    187,
                    188,
                    189,
                    190,
                    191,
                    192,
                    193,
                    194,
                    195,
                    196,
                    197,
                    198,
                    199,
                    200,
                    201,
                    202,
                    203,
                    204,
                    205,
                    206,
                    207,
                    208,
                    209,
                    210,
                    211,
                    212,
                    213,
                    214,
                    215,
                    216,
                    217,
                    218,
                    219,
                    220,
                    221,
                    222,
                    223,
                    224,
                    225,
                    226,
                    227,
                    228,
                    229,
                    230,
                    231,
                    232,
                    233,
                    234,
                    235,
                    236,
                    237,
                    238,
                    239,
                    240,
                    241,
                    242,
                    243,
                    244,
                    245,
                    246,
                    247,
                    248,
                    249,
                    250
                  ],
                  "xaxis": "x",
                  "y": [
                    0.06711866495171616,
                    0.07984555108899873,
                    0.07843343387694196,
                    0.06711866495171616,
                    0.06853474627963296,
                    0.07984555108899873,
                    0.07702082175790664,
                    0.06428501323307768,
                    0.0486643813520976,
                    0.05008692811636527,
                    0.04581779196210787,
                    0.02726625445777844,
                    0.011502657967341743,
                    0.0014395962725010907,
                    0.012938224297279527,
                    0.03869258447020861,
                    0.03441146393519714,
                    0.03012584058895422,
                    0.04439374898686124,
                    0.05150897649306263,
                    0.05150897649306263,
                    0.05150897649306263,
                    0.05150897649306263,
                    0.05150897649306263,
                    0.05861174867219178,
                    0.05150897649306263,
                    0.05861174867219178,
                    0.05150897649306263,
                    0.05861174867219178,
                    0.05150897649306263,
                    0.05150897649306263,
                    0.05150897649306263,
                    0.05861174867219178,
                    0.05150897649306263,
                    0.06286744249441992,
                    0.05150897649306263,
                    0.05150897649306263,
                    0.07843343387694196,
                    0.07843343387694196,
                    0.09393954144148911,
                    0.06428501323307768,
                    0.06428501323307768,
                    0.07843343387694196,
                    0.07278001422411425,
                    0.08407893501689212,
                    0.09675241794254649,
                    0.11778627310355527,
                    0.10938599556668417,
                    0.1009680381931846,
                    0.0911246929282689,
                    0.08407893501689212,
                    0.06853474627963296,
                    0.06570208732751022,
                    0.08689871961112515,
                    0.06853474627963296,
                    0.05150897649306263,
                    0.04439374898686124,
                    0.06711866495171616,
                    0.06428501323307768,
                    0.05861174867219178,
                    0.02297311589928567,
                    0.02297311589928567,
                    0.03583900419216125,
                    0.06570208732751022,
                    0.07984555108899873,
                    0.08266830148567476,
                    0.0699503314851379,
                    0.06286744249441992,
                    0.05435157878212451,
                    0.0699503314851379,
                    0.07702082175790664,
                    0.09253236377278365,
                    0.09253236377278365,
                    0.07843343387694196,
                    0.07843343387694196,
                    0.09253236377278365,
                    0.09253236377278365,
                    0.09253236377278365,
                    0.09253236377278365,
                    0.09253236377278365,
                    0.09253236377278365,
                    0.09253236377278365,
                    0.09393954144148911,
                    0.09253236377278365,
                    0.09253236377278365,
                    0.09253236377278365,
                    0.09253236377278365,
                    0.09253236377278365,
                    0.07843343387694196,
                    0.07843343387694196,
                    0.07843343387694196,
                    0.03155488230896949,
                    0.03155488230896949,
                    0.03155488230896949,
                    0.03155488230896949,
                    0.03155488230896949,
                    0.03155488230896949,
                    0.01724190629810552,
                    0.025835709695497595,
                    0.04724133602558904,
                    0.04724133602558904,
                    0.04724133602558904,
                    0.04724133602558904,
                    0.06286744249441992,
                    0.07843343387694196,
                    0.07843343387694196,
                    0.06144937493747674,
                    0.06711866495171616,
                    0.01580784828648493,
                    0.008630015755448257,
                    0.008630015755448257,
                    0.04724133602558904,
                    0.0529305266567996,
                    0.06428501323307768,
                    0.032983423365914984,
                    0.03441146393519714,
                    0.03155488230896949,
                    0.04011862484167544,
                    0.06570208732751022,
                    0.04011862484167544,
                    0.04724133602558904,
                    0.02010851523580415,
                    0.03869258447020861,
                    0.0486643813520976,
                    0.05435157878212451,
                    0.04011862484167544,
                    0.012938224297279527,
                    0.02010851523580415,
                    0.007192939520768698,
                    0.007192939520768698,
                    0,
                    0.024404663567904945,
                    0.012938224297279527,
                    0.04581779196210787,
                    0.03012584058895422,
                    0.037266044312090574,
                    0.02726625445777844,
                    0.02297311589928567,
                    0.03012584058895422,
                    0.04296920692499427,
                    0.04581779196210787,
                    0.0529305266567996,
                    0.04011862484167544,
                    0.06853474627963296,
                    0.05150897649306263,
                    0.03155488230896949,
                    0.04154416560159138,
                    0.07278001422411425,
                    0.10517922918332144,
                    0.10237226043337155,
                    0.09815811712028348,
                    0.10517922918332144,
                    0.11078726858549912,
                    0.11078726858549912,
                    0.11078726858549912,
                    0.09393954144148911,
                    0.06853474627963296,
                    0.0529305266567996,
                    0.037266044312090574,
                    0.06428501323307768,
                    0.07419411210503452,
                    0.07560771455844113,
                    0.07843343387694196,
                    0.06853474627963296,
                    0.08971652873510086,
                    0.1009680381931846,
                    0.09253236377278365,
                    0.07278001422411425,
                    0.03869258447020861,
                    0.03155488230896949,
                    0.03869258447020861,
                    0.05435157878212451,
                    0.06853474627963296,
                    0.07984555108899873,
                    0.07560771455844113,
                    0.08971652873510086,
                    0.07702082175790664,
                    0.10938599556668417,
                    0.09956332381298219,
                    0.09253236377278365,
                    0.04581779196210787,
                    0.04439374898686124,
                    0.05150897649306263,
                    0.07419411210503452,
                    0.07419411210503452,
                    0.07560771455844113,
                    0.05577213304352409,
                    0.03155488230896949,
                    0.025835709695497595,
                    0.0486643813520976,
                    0.06853474627963296,
                    0.06003081038812772,
                    0.05150897649306263,
                    0.0529305266567996,
                    0.05861174867219178,
                    0.05719218961542487,
                    0.0529305266567996,
                    0.05008692811636527,
                    0.06570208732751022,
                    0.08407893501689212,
                    0.12337665433673747,
                    0.1317475479565371,
                    0.11638745303705346,
                    0.09815811712028348,
                    0.09815811712028348,
                    0.12197979354009189,
                    0.12058244318340748,
                    0.14149137268779707,
                    0.12197979354009189,
                    0.13035362092037234,
                    0.09393954144148911,
                    0.09534622610716903,
                    0.07843343387694196,
                    0.07560771455844113,
                    0.05861174867219178,
                    0.05861174867219178,
                    0.04296920692499427,
                    0.0529305266567996,
                    0.08548907433432662,
                    0.06853474627963296,
                    0.07560771455844113,
                    0.025835709695497595,
                    0.04439374898686124,
                    0.0486643813520976,
                    0.0699503314851379,
                    0.06286744249441992,
                    0.04011862484167544,
                    0.04724133602558904,
                    0.05150897649306263,
                    0.06428501323307768,
                    0.05577213304352409,
                    0.05719218961542487,
                    0.08125717356746653,
                    0.08830787102037486,
                    0.07136542074204666,
                    0.04724133602558904,
                    0.03012584058895422,
                    0.06570208732751022,
                    0.05435157878212451,
                    0.06144937493747674,
                    0.05577213304352409,
                    0.07702082175790664,
                    0.06428501323307768,
                    0.0529305266567996,
                    0.037266044312090574,
                    0.04439374898686124,
                    0.0699503314851379,
                    0.07984555108899873,
                    0.07278001422411425,
                    0.06286744249441992,
                    0.09534622610716903
                  ],
                  "yaxis": "y"
                },
                {
                  "fillpattern": {
                    "shape": ""
                  },
                  "hovertemplate": "variable=adstock_congress<br>index=%{x}<br>value=%{y}<extra></extra>",
                  "legendgroup": "adstock_congress",
                  "line": {
                    "color": "#FF6692"
                  },
                  "marker": {
                    "symbol": "circle"
                  },
                  "mode": "lines",
                  "name": "adstock_congress",
                  "orientation": "v",
                  "showlegend": true,
                  "stackgroup": "1",
                  "type": "scatter",
                  "x": [
                    0,
                    1,
                    2,
                    3,
                    4,
                    5,
                    6,
                    7,
                    8,
                    9,
                    10,
                    11,
                    12,
                    13,
                    14,
                    15,
                    16,
                    17,
                    18,
                    19,
                    20,
                    21,
                    22,
                    23,
                    24,
                    25,
                    26,
                    27,
                    28,
                    29,
                    30,
                    31,
                    32,
                    33,
                    34,
                    35,
                    36,
                    37,
                    38,
                    39,
                    40,
                    41,
                    42,
                    43,
                    44,
                    45,
                    46,
                    47,
                    48,
                    49,
                    50,
                    51,
                    52,
                    53,
                    54,
                    55,
                    56,
                    57,
                    58,
                    59,
                    60,
                    61,
                    62,
                    63,
                    64,
                    65,
                    66,
                    67,
                    68,
                    69,
                    70,
                    71,
                    72,
                    73,
                    74,
                    75,
                    76,
                    77,
                    78,
                    79,
                    80,
                    81,
                    82,
                    83,
                    84,
                    85,
                    86,
                    87,
                    88,
                    89,
                    90,
                    91,
                    92,
                    93,
                    94,
                    95,
                    96,
                    97,
                    98,
                    99,
                    100,
                    101,
                    102,
                    103,
                    104,
                    105,
                    106,
                    107,
                    108,
                    109,
                    110,
                    111,
                    112,
                    113,
                    114,
                    115,
                    116,
                    117,
                    118,
                    119,
                    120,
                    121,
                    122,
                    123,
                    124,
                    125,
                    126,
                    127,
                    128,
                    129,
                    130,
                    131,
                    132,
                    133,
                    134,
                    135,
                    136,
                    137,
                    138,
                    139,
                    140,
                    141,
                    142,
                    143,
                    144,
                    145,
                    146,
                    147,
                    148,
                    149,
                    150,
                    151,
                    152,
                    153,
                    154,
                    155,
                    156,
                    157,
                    158,
                    159,
                    160,
                    161,
                    162,
                    163,
                    164,
                    165,
                    166,
                    167,
                    168,
                    169,
                    170,
                    171,
                    172,
                    173,
                    174,
                    175,
                    176,
                    177,
                    178,
                    179,
                    180,
                    181,
                    182,
                    183,
                    184,
                    185,
                    186,
                    187,
                    188,
                    189,
                    190,
                    191,
                    192,
                    193,
                    194,
                    195,
                    196,
                    197,
                    198,
                    199,
                    200,
                    201,
                    202,
                    203,
                    204,
                    205,
                    206,
                    207,
                    208,
                    209,
                    210,
                    211,
                    212,
                    213,
                    214,
                    215,
                    216,
                    217,
                    218,
                    219,
                    220,
                    221,
                    222,
                    223,
                    224,
                    225,
                    226,
                    227,
                    228,
                    229,
                    230,
                    231,
                    232,
                    233,
                    234,
                    235,
                    236,
                    237,
                    238,
                    239,
                    240,
                    241,
                    242,
                    243,
                    244,
                    245,
                    246,
                    247,
                    248,
                    249,
                    250
                  ],
                  "xaxis": "x",
                  "y": [
                    0,
                    0,
                    0,
                    0,
                    0,
                    0,
                    0,
                    0,
                    0,
                    0,
                    0,
                    0,
                    0,
                    0,
                    0,
                    0,
                    0,
                    0,
                    0,
                    0,
                    0,
                    0,
                    0,
                    0,
                    0,
                    0,
                    0,
                    0,
                    0,
                    0,
                    0,
                    0,
                    0,
                    0,
                    0,
                    0,
                    0,
                    0,
                    0,
                    0,
                    0,
                    0,
                    0,
                    0,
                    0,
                    0.011693714271405028,
                    0.029083235677979123,
                    0.048605866488633166,
                    0.05827320567323285,
                    0.06308051454641489,
                    0.05467918285529895,
                    0.03885293320071311,
                    0.01914884912317443,
                    0.009053790097319034,
                    0.003991078030022718,
                    0.001457540454251686,
                    0.00036426446037491164,
                    0,
                    0,
                    0,
                    0,
                    0,
                    0,
                    0,
                    0,
                    0,
                    0,
                    0,
                    0,
                    0,
                    0,
                    0,
                    0,
                    0,
                    0,
                    0,
                    0,
                    0,
                    0,
                    0,
                    0,
                    0,
                    0,
                    0,
                    0,
                    0,
                    0,
                    0,
                    0,
                    0,
                    0,
                    0,
                    0,
                    0,
                    0,
                    0,
                    0,
                    0,
                    0,
                    0,
                    0,
                    0,
                    0,
                    0,
                    0,
                    0,
                    0,
                    0,
                    0,
                    0,
                    0,
                    0,
                    0,
                    0,
                    0,
                    0,
                    0,
                    0,
                    0,
                    0,
                    0,
                    0,
                    0,
                    0,
                    0,
                    0,
                    0,
                    0,
                    0,
                    0,
                    0,
                    0,
                    0,
                    0,
                    0,
                    0,
                    0,
                    0,
                    0,
                    0,
                    0,
                    0,
                    0,
                    0,
                    0,
                    0,
                    0,
                    0,
                    0,
                    0,
                    0.011693714271405028,
                    0.029083235677979123,
                    0.048605866488633166,
                    0.05827320567323285,
                    0.05226854793372043,
                    0.03781661693965838,
                    0.018805589269012428,
                    0.009053790097319034,
                    0.003991078030022718,
                    0.001457540454251686,
                    0.00036426446037491164,
                    0,
                    0,
                    0,
                    0,
                    0,
                    0,
                    0,
                    0,
                    0,
                    0,
                    0,
                    0,
                    0,
                    0,
                    0,
                    0,
                    0,
                    0,
                    0,
                    0,
                    0,
                    0,
                    0,
                    0,
                    0.017235153311059473,
                    0.042765120915576785,
                    0.07368244204724628,
                    0.08997635648958276,
                    0.08267452531470282,
                    0.06238457946563841,
                    0.034456884119387125,
                    0.020076029163399543,
                    0.012558098569690103,
                    0.00877468690655097,
                    0.0071325990472796115,
                    0.006579608060246742,
                    0.006579608060246742,
                    0.006579608060246742,
                    0.006579608060246742,
                    0.006579608060246742,
                    0.006579608060246742,
                    0.018230154457458334,
                    0.03555548166063862,
                    0.05554739549181958,
                    0.06544478894496378,
                    0.05905968782420309,
                    0.04500496316303623,
                    0.025693581669603657,
                    0.01634333351760563,
                    0.010919647257713721,
                    0.008205028523158795,
                    0.007029102910845735,
                    0.0066142191639039895,
                    0.006596891635771127,
                    0.006579608060246742,
                    0.006579608060246742,
                    0.006579608060246742,
                    0.006579608060246742,
                    0.006579608060246742,
                    0.006579608060246742,
                    0.006579608060246742,
                    0.006579608060246742,
                    0.006579608060246742,
                    0.006579608060246742,
                    0.006579608060246742,
                    0.006579608060246742,
                    0.006579608060246742,
                    0.006579608060246742,
                    0.006579608060246742,
                    0.006579608060246742,
                    0.006579608060246742,
                    0.006579608060246742,
                    0.006579608060246742,
                    0.006579608060246742,
                    0.006579608060246742,
                    0.006579608060246742,
                    0.02430228407082416,
                    0.050001212813769826,
                    0.07932223048812441,
                    0.09377773483651881,
                    0.08453254397150116,
                    0.06327360672116387,
                    0.034848645124196824,
                    0.020213329770893455,
                    0.012592549175462441,
                    0.00877468690655097,
                    0.0071325990472796115,
                    0.006579608060246742,
                    0.006579608060246742,
                    0.006579608060246742
                  ],
                  "yaxis": "y"
                },
                {
                  "fillpattern": {
                    "shape": ""
                  },
                  "hovertemplate": "variable=adstock_trade<br>index=%{x}<br>value=%{y}<extra></extra>",
                  "legendgroup": "adstock_trade",
                  "line": {
                    "color": "#B6E880"
                  },
                  "marker": {
                    "symbol": "circle"
                  },
                  "mode": "lines",
                  "name": "adstock_trade",
                  "orientation": "v",
                  "showlegend": true,
                  "stackgroup": "1",
                  "type": "scatter",
                  "x": [
                    0,
                    1,
                    2,
                    3,
                    4,
                    5,
                    6,
                    7,
                    8,
                    9,
                    10,
                    11,
                    12,
                    13,
                    14,
                    15,
                    16,
                    17,
                    18,
                    19,
                    20,
                    21,
                    22,
                    23,
                    24,
                    25,
                    26,
                    27,
                    28,
                    29,
                    30,
                    31,
                    32,
                    33,
                    34,
                    35,
                    36,
                    37,
                    38,
                    39,
                    40,
                    41,
                    42,
                    43,
                    44,
                    45,
                    46,
                    47,
                    48,
                    49,
                    50,
                    51,
                    52,
                    53,
                    54,
                    55,
                    56,
                    57,
                    58,
                    59,
                    60,
                    61,
                    62,
                    63,
                    64,
                    65,
                    66,
                    67,
                    68,
                    69,
                    70,
                    71,
                    72,
                    73,
                    74,
                    75,
                    76,
                    77,
                    78,
                    79,
                    80,
                    81,
                    82,
                    83,
                    84,
                    85,
                    86,
                    87,
                    88,
                    89,
                    90,
                    91,
                    92,
                    93,
                    94,
                    95,
                    96,
                    97,
                    98,
                    99,
                    100,
                    101,
                    102,
                    103,
                    104,
                    105,
                    106,
                    107,
                    108,
                    109,
                    110,
                    111,
                    112,
                    113,
                    114,
                    115,
                    116,
                    117,
                    118,
                    119,
                    120,
                    121,
                    122,
                    123,
                    124,
                    125,
                    126,
                    127,
                    128,
                    129,
                    130,
                    131,
                    132,
                    133,
                    134,
                    135,
                    136,
                    137,
                    138,
                    139,
                    140,
                    141,
                    142,
                    143,
                    144,
                    145,
                    146,
                    147,
                    148,
                    149,
                    150,
                    151,
                    152,
                    153,
                    154,
                    155,
                    156,
                    157,
                    158,
                    159,
                    160,
                    161,
                    162,
                    163,
                    164,
                    165,
                    166,
                    167,
                    168,
                    169,
                    170,
                    171,
                    172,
                    173,
                    174,
                    175,
                    176,
                    177,
                    178,
                    179,
                    180,
                    181,
                    182,
                    183,
                    184,
                    185,
                    186,
                    187,
                    188,
                    189,
                    190,
                    191,
                    192,
                    193,
                    194,
                    195,
                    196,
                    197,
                    198,
                    199,
                    200,
                    201,
                    202,
                    203,
                    204,
                    205,
                    206,
                    207,
                    208,
                    209,
                    210,
                    211,
                    212,
                    213,
                    214,
                    215,
                    216,
                    217,
                    218,
                    219,
                    220,
                    221,
                    222,
                    223,
                    224,
                    225,
                    226,
                    227,
                    228,
                    229,
                    230,
                    231,
                    232,
                    233,
                    234,
                    235,
                    236,
                    237,
                    238,
                    239,
                    240,
                    241,
                    242,
                    243,
                    244,
                    245,
                    246,
                    247,
                    248,
                    249,
                    250
                  ],
                  "xaxis": "x",
                  "y": [
                    0.036549862700403495,
                    0.037121059362901,
                    0.04043217787649307,
                    0.0391622878649957,
                    0.03862023699594297,
                    0.04099728505939215,
                    0.04367868138921725,
                    0.034217524955092206,
                    0.04376724757005197,
                    0.04478176332489338,
                    0.04569685934415387,
                    0.04134899084163867,
                    0.04533104168328119,
                    0.04130973313571241,
                    0.03355354218222712,
                    0.03557922356829119,
                    0.03334652441678671,
                    0.035557159809422784,
                    0.028837532067809396,
                    0.02852755522480744,
                    0.02849443853377078,
                    0.028490895609202982,
                    0.028490520709744668,
                    0.028490476982304995,
                    0.028490482704868446,
                    0.028490482704868446,
                    0.028490482704868446,
                    0.028490482704868446,
                    0.028490482704868446,
                    0.028490482704868446,
                    0.028490482704868446,
                    0.028490482704868446,
                    0.028490482704868446,
                    0.028490482704868446,
                    0.028490482704868446,
                    0.028490482704868446,
                    0.028490482704868446,
                    0.028490482704868446,
                    0.028490482704868446,
                    0.028490482704868446,
                    0.028079540866949224,
                    0.03418089688464211,
                    0.03930784284241798,
                    0.039042012818820075,
                    0.03982558661646643,
                    0.04516911600014385,
                    0.045738228589032474,
                    0.044184953855394574,
                    0.041186789213657,
                    0.03964899035017425,
                    0.0378592244393413,
                    0.037667769703805705,
                    0.038053999024335226,
                    0.036060098782780624,
                    0.03135243481171924,
                    0.03493691412254909,
                    0.03654172638925901,
                    0.029354125173965556,
                    0.031453986031459664,
                    0.026340035842889777,
                    0.025791932240775858,
                    0.02573334113991893,
                    0.02572707852334465,
                    0.025726420389030946,
                    0.025726345773183237,
                    0.02159637736730084,
                    0.02198185297514337,
                    0.02160921434509762,
                    0.021983224068315533,
                    0.022023178749863332,
                    0.02244107987545858,
                    0.02000129485561565,
                    0.01974022034488284,
                    0.01971232039001558,
                    0.015552558972043048,
                    0.019265742261771353,
                    0.019661630370594863,
                    0.019703925452994642,
                    0.01970844464028231,
                    0.019708927521749096,
                    0.019708985291193165,
                    0.019708985291193165,
                    0.0155522041227774,
                    0.019265707583636188,
                    0.015921169593928607,
                    0.02468357104971059,
                    0.020241798227101013,
                    0.02596617552125264,
                    0.021208138723943244,
                    0.021940401925464603,
                    0.022018616968814023,
                    0.02078495980772459,
                    0.015251101530499736,
                    0.014657850121232364,
                    0.013760017799236553,
                    0.013664030232958384,
                    0.010727093089407237,
                    0.009993754541212973,
                    0.005714949889232117,
                    0.01029731019639631,
                    0.009528626732437328,
                    0.009446454539388974,
                    0.009437678247492729,
                    0.00943674110518894,
                    0.009436647210636426,
                    0.009436629688964594,
                    0.009436629688964594,
                    0.009017214619090795,
                    0.008552766868066589,
                    0.00724307555640529,
                    0.007103025434705667,
                    0.00708805961680757,
                    0.007086460479989548,
                    0.007086290235000024,
                    0.007086272669663299,
                    0.007086272669663299,
                    0.007086272669663299,
                    0.007086272669663299,
                    0.007086272669663299,
                    0.004982100696760452,
                    0.0047569896524752575,
                    0.0047329329967071955,
                    0.008095688007872661,
                    0.013060369823859379,
                    0.01024355775227362,
                    0.010361084772434663,
                    0.010792454001337826,
                    0.010419743204897204,
                    0.010379904720648389,
                    0.010375640954026766,
                    0.012885268255800494,
                    0.010643667258516946,
                    0.010403831816899757,
                    0.010378202009215054,
                    0.0103754633799353,
                    0.01037517075232062,
                    0.010375135743848315,
                    0.010375135743848315,
                    0.01580518785875226,
                    0.023019644880456307,
                    0.023787228598376346,
                    0.02386920871891993,
                    0.03250854075056103,
                    0.036283045760818665,
                    0.03464713349225163,
                    0.040169077366441715,
                    0.04075713850014048,
                    0.04081995140413047,
                    0.04446765318400559,
                    0.04526003247642028,
                    0.03846161162658228,
                    0.0356962045495202,
                    0.03743684943081489,
                    0.03802934465723055,
                    0.03809262563406626,
                    0.038505874450689766,
                    0.03773691253098347,
                    0.03561856973894978,
                    0.03539192835536982,
                    0.03495982388110325,
                    0.03368883985318177,
                    0.03518587486800722,
                    0.03043898301958342,
                    0.030340441632680997,
                    0.03890052552866434,
                    0.04183730845978433,
                    0.04174568450889707,
                    0.039302878188838465,
                    0.038228800074952426,
                    0.038113957745143125,
                    0.03810167308892188,
                    0.03810035741745367,
                    0.03810021744073967,
                    0.03810020611463209,
                    0.03810020611463209,
                    0.03810020611463209,
                    0.03810020611463209,
                    0.03810020611463209,
                    0.03524972673618207,
                    0.03494462329297211,
                    0.03491201647678154,
                    0.03490853231512396,
                    0.026711829299597617,
                    0.025831679820853812,
                    0.025737589198827647,
                    0.039226866612986806,
                    0.04065655847017823,
                    0.04080919104891784,
                    0.04082551065192987,
                    0.04082725441168211,
                    0.035542431085047406,
                    0.0357914819446083,
                    0.03377785938970523,
                    0.03560314747642005,
                    0.040676162358570946,
                    0.040811277583797434,
                    0.04123099767379371,
                    0.041275832838143685,
                    0.041280626435426473,
                    0.04290035044662391,
                    0.03942664931434218,
                    0.038242027062666155,
                    0.03811535673534532,
                    0.0385083076799888,
                    0.042200378656861326,
                    0.041379447315803626,
                    0.04210164906641341,
                    0.04258345958922386,
                    0.04303939872169228,
                    0.042279022035400786,
                    0.04098265261215973,
                    0.03637416565843211,
                    0.033431709975725046,
                    0.032298793831581935,
                    0.032177656682268636,
                    0.03216471324934004,
                    0.03216333203810741,
                    0.03216319115263046,
                    0.03216317975299097,
                    0.03216317975299097,
                    0.029294194366947423,
                    0.02898711011774399,
                    0.029364844620079156,
                    0.027761961076956422,
                    0.028412661444054795,
                    0.023125593257994976,
                    0.02007464173621412,
                    0.019748050793046878,
                    0.027148905641672553,
                    0.027936221471816108,
                    0.028431274817210143,
                    0.03053614925189012,
                    0.030760778593388334,
                    0.029964751954048355,
                    0.029879643540579502,
                    0.029460220975639263,
                    0.03228400186327398,
                    0.032176092382601475,
                    0.033391393955405115,
                    0.03759822574309606,
                    0.04007734390165683,
                    0.041962728691282716,
                    0.04135404794939511,
                    0.04128898593696524,
                    0.04128203186782036,
                    0.0420912500134329,
                    0.041772815660191476,
                    0.04173878141818069,
                    0.042544709769142236,
                    0.04465135424459256,
                    0.0460860533563468
                  ],
                  "yaxis": "y"
                }
              ],
              "layout": {
                "legend": {
                  "title": {
                    "text": "variable"
                  },
                  "tracegroupgap": 0
                },
                "template": {
                  "data": {
                    "bar": [
                      {
                        "error_x": {
                          "color": "#2a3f5f"
                        },
                        "error_y": {
                          "color": "#2a3f5f"
                        },
                        "marker": {
                          "line": {
                            "color": "#E5ECF6",
                            "width": 0.5
                          },
                          "pattern": {
                            "fillmode": "overlay",
                            "size": 10,
                            "solidity": 0.2
                          }
                        },
                        "type": "bar"
                      }
                    ],
                    "barpolar": [
                      {
                        "marker": {
                          "line": {
                            "color": "#E5ECF6",
                            "width": 0.5
                          },
                          "pattern": {
                            "fillmode": "overlay",
                            "size": 10,
                            "solidity": 0.2
                          }
                        },
                        "type": "barpolar"
                      }
                    ],
                    "carpet": [
                      {
                        "aaxis": {
                          "endlinecolor": "#2a3f5f",
                          "gridcolor": "white",
                          "linecolor": "white",
                          "minorgridcolor": "white",
                          "startlinecolor": "#2a3f5f"
                        },
                        "baxis": {
                          "endlinecolor": "#2a3f5f",
                          "gridcolor": "white",
                          "linecolor": "white",
                          "minorgridcolor": "white",
                          "startlinecolor": "#2a3f5f"
                        },
                        "type": "carpet"
                      }
                    ],
                    "choropleth": [
                      {
                        "colorbar": {
                          "outlinewidth": 0,
                          "ticks": ""
                        },
                        "type": "choropleth"
                      }
                    ],
                    "contour": [
                      {
                        "colorbar": {
                          "outlinewidth": 0,
                          "ticks": ""
                        },
                        "colorscale": [
                          [
                            0,
                            "#0d0887"
                          ],
                          [
                            0.1111111111111111,
                            "#46039f"
                          ],
                          [
                            0.2222222222222222,
                            "#7201a8"
                          ],
                          [
                            0.3333333333333333,
                            "#9c179e"
                          ],
                          [
                            0.4444444444444444,
                            "#bd3786"
                          ],
                          [
                            0.5555555555555556,
                            "#d8576b"
                          ],
                          [
                            0.6666666666666666,
                            "#ed7953"
                          ],
                          [
                            0.7777777777777778,
                            "#fb9f3a"
                          ],
                          [
                            0.8888888888888888,
                            "#fdca26"
                          ],
                          [
                            1,
                            "#f0f921"
                          ]
                        ],
                        "type": "contour"
                      }
                    ],
                    "contourcarpet": [
                      {
                        "colorbar": {
                          "outlinewidth": 0,
                          "ticks": ""
                        },
                        "type": "contourcarpet"
                      }
                    ],
                    "heatmap": [
                      {
                        "colorbar": {
                          "outlinewidth": 0,
                          "ticks": ""
                        },
                        "colorscale": [
                          [
                            0,
                            "#0d0887"
                          ],
                          [
                            0.1111111111111111,
                            "#46039f"
                          ],
                          [
                            0.2222222222222222,
                            "#7201a8"
                          ],
                          [
                            0.3333333333333333,
                            "#9c179e"
                          ],
                          [
                            0.4444444444444444,
                            "#bd3786"
                          ],
                          [
                            0.5555555555555556,
                            "#d8576b"
                          ],
                          [
                            0.6666666666666666,
                            "#ed7953"
                          ],
                          [
                            0.7777777777777778,
                            "#fb9f3a"
                          ],
                          [
                            0.8888888888888888,
                            "#fdca26"
                          ],
                          [
                            1,
                            "#f0f921"
                          ]
                        ],
                        "type": "heatmap"
                      }
                    ],
                    "heatmapgl": [
                      {
                        "colorbar": {
                          "outlinewidth": 0,
                          "ticks": ""
                        },
                        "colorscale": [
                          [
                            0,
                            "#0d0887"
                          ],
                          [
                            0.1111111111111111,
                            "#46039f"
                          ],
                          [
                            0.2222222222222222,
                            "#7201a8"
                          ],
                          [
                            0.3333333333333333,
                            "#9c179e"
                          ],
                          [
                            0.4444444444444444,
                            "#bd3786"
                          ],
                          [
                            0.5555555555555556,
                            "#d8576b"
                          ],
                          [
                            0.6666666666666666,
                            "#ed7953"
                          ],
                          [
                            0.7777777777777778,
                            "#fb9f3a"
                          ],
                          [
                            0.8888888888888888,
                            "#fdca26"
                          ],
                          [
                            1,
                            "#f0f921"
                          ]
                        ],
                        "type": "heatmapgl"
                      }
                    ],
                    "histogram": [
                      {
                        "marker": {
                          "pattern": {
                            "fillmode": "overlay",
                            "size": 10,
                            "solidity": 0.2
                          }
                        },
                        "type": "histogram"
                      }
                    ],
                    "histogram2d": [
                      {
                        "colorbar": {
                          "outlinewidth": 0,
                          "ticks": ""
                        },
                        "colorscale": [
                          [
                            0,
                            "#0d0887"
                          ],
                          [
                            0.1111111111111111,
                            "#46039f"
                          ],
                          [
                            0.2222222222222222,
                            "#7201a8"
                          ],
                          [
                            0.3333333333333333,
                            "#9c179e"
                          ],
                          [
                            0.4444444444444444,
                            "#bd3786"
                          ],
                          [
                            0.5555555555555556,
                            "#d8576b"
                          ],
                          [
                            0.6666666666666666,
                            "#ed7953"
                          ],
                          [
                            0.7777777777777778,
                            "#fb9f3a"
                          ],
                          [
                            0.8888888888888888,
                            "#fdca26"
                          ],
                          [
                            1,
                            "#f0f921"
                          ]
                        ],
                        "type": "histogram2d"
                      }
                    ],
                    "histogram2dcontour": [
                      {
                        "colorbar": {
                          "outlinewidth": 0,
                          "ticks": ""
                        },
                        "colorscale": [
                          [
                            0,
                            "#0d0887"
                          ],
                          [
                            0.1111111111111111,
                            "#46039f"
                          ],
                          [
                            0.2222222222222222,
                            "#7201a8"
                          ],
                          [
                            0.3333333333333333,
                            "#9c179e"
                          ],
                          [
                            0.4444444444444444,
                            "#bd3786"
                          ],
                          [
                            0.5555555555555556,
                            "#d8576b"
                          ],
                          [
                            0.6666666666666666,
                            "#ed7953"
                          ],
                          [
                            0.7777777777777778,
                            "#fb9f3a"
                          ],
                          [
                            0.8888888888888888,
                            "#fdca26"
                          ],
                          [
                            1,
                            "#f0f921"
                          ]
                        ],
                        "type": "histogram2dcontour"
                      }
                    ],
                    "mesh3d": [
                      {
                        "colorbar": {
                          "outlinewidth": 0,
                          "ticks": ""
                        },
                        "type": "mesh3d"
                      }
                    ],
                    "parcoords": [
                      {
                        "line": {
                          "colorbar": {
                            "outlinewidth": 0,
                            "ticks": ""
                          }
                        },
                        "type": "parcoords"
                      }
                    ],
                    "pie": [
                      {
                        "automargin": true,
                        "type": "pie"
                      }
                    ],
                    "scatter": [
                      {
                        "fillpattern": {
                          "fillmode": "overlay",
                          "size": 10,
                          "solidity": 0.2
                        },
                        "type": "scatter"
                      }
                    ],
                    "scatter3d": [
                      {
                        "line": {
                          "colorbar": {
                            "outlinewidth": 0,
                            "ticks": ""
                          }
                        },
                        "marker": {
                          "colorbar": {
                            "outlinewidth": 0,
                            "ticks": ""
                          }
                        },
                        "type": "scatter3d"
                      }
                    ],
                    "scattercarpet": [
                      {
                        "marker": {
                          "colorbar": {
                            "outlinewidth": 0,
                            "ticks": ""
                          }
                        },
                        "type": "scattercarpet"
                      }
                    ],
                    "scattergeo": [
                      {
                        "marker": {
                          "colorbar": {
                            "outlinewidth": 0,
                            "ticks": ""
                          }
                        },
                        "type": "scattergeo"
                      }
                    ],
                    "scattergl": [
                      {
                        "marker": {
                          "colorbar": {
                            "outlinewidth": 0,
                            "ticks": ""
                          }
                        },
                        "type": "scattergl"
                      }
                    ],
                    "scattermapbox": [
                      {
                        "marker": {
                          "colorbar": {
                            "outlinewidth": 0,
                            "ticks": ""
                          }
                        },
                        "type": "scattermapbox"
                      }
                    ],
                    "scatterpolar": [
                      {
                        "marker": {
                          "colorbar": {
                            "outlinewidth": 0,
                            "ticks": ""
                          }
                        },
                        "type": "scatterpolar"
                      }
                    ],
                    "scatterpolargl": [
                      {
                        "marker": {
                          "colorbar": {
                            "outlinewidth": 0,
                            "ticks": ""
                          }
                        },
                        "type": "scatterpolargl"
                      }
                    ],
                    "scatterternary": [
                      {
                        "marker": {
                          "colorbar": {
                            "outlinewidth": 0,
                            "ticks": ""
                          }
                        },
                        "type": "scatterternary"
                      }
                    ],
                    "surface": [
                      {
                        "colorbar": {
                          "outlinewidth": 0,
                          "ticks": ""
                        },
                        "colorscale": [
                          [
                            0,
                            "#0d0887"
                          ],
                          [
                            0.1111111111111111,
                            "#46039f"
                          ],
                          [
                            0.2222222222222222,
                            "#7201a8"
                          ],
                          [
                            0.3333333333333333,
                            "#9c179e"
                          ],
                          [
                            0.4444444444444444,
                            "#bd3786"
                          ],
                          [
                            0.5555555555555556,
                            "#d8576b"
                          ],
                          [
                            0.6666666666666666,
                            "#ed7953"
                          ],
                          [
                            0.7777777777777778,
                            "#fb9f3a"
                          ],
                          [
                            0.8888888888888888,
                            "#fdca26"
                          ],
                          [
                            1,
                            "#f0f921"
                          ]
                        ],
                        "type": "surface"
                      }
                    ],
                    "table": [
                      {
                        "cells": {
                          "fill": {
                            "color": "#EBF0F8"
                          },
                          "line": {
                            "color": "white"
                          }
                        },
                        "header": {
                          "fill": {
                            "color": "#C8D4E3"
                          },
                          "line": {
                            "color": "white"
                          }
                        },
                        "type": "table"
                      }
                    ]
                  },
                  "layout": {
                    "annotationdefaults": {
                      "arrowcolor": "#2a3f5f",
                      "arrowhead": 0,
                      "arrowwidth": 1
                    },
                    "autotypenumbers": "strict",
                    "coloraxis": {
                      "colorbar": {
                        "outlinewidth": 0,
                        "ticks": ""
                      }
                    },
                    "colorscale": {
                      "diverging": [
                        [
                          0,
                          "#8e0152"
                        ],
                        [
                          0.1,
                          "#c51b7d"
                        ],
                        [
                          0.2,
                          "#de77ae"
                        ],
                        [
                          0.3,
                          "#f1b6da"
                        ],
                        [
                          0.4,
                          "#fde0ef"
                        ],
                        [
                          0.5,
                          "#f7f7f7"
                        ],
                        [
                          0.6,
                          "#e6f5d0"
                        ],
                        [
                          0.7,
                          "#b8e186"
                        ],
                        [
                          0.8,
                          "#7fbc41"
                        ],
                        [
                          0.9,
                          "#4d9221"
                        ],
                        [
                          1,
                          "#276419"
                        ]
                      ],
                      "sequential": [
                        [
                          0,
                          "#0d0887"
                        ],
                        [
                          0.1111111111111111,
                          "#46039f"
                        ],
                        [
                          0.2222222222222222,
                          "#7201a8"
                        ],
                        [
                          0.3333333333333333,
                          "#9c179e"
                        ],
                        [
                          0.4444444444444444,
                          "#bd3786"
                        ],
                        [
                          0.5555555555555556,
                          "#d8576b"
                        ],
                        [
                          0.6666666666666666,
                          "#ed7953"
                        ],
                        [
                          0.7777777777777778,
                          "#fb9f3a"
                        ],
                        [
                          0.8888888888888888,
                          "#fdca26"
                        ],
                        [
                          1,
                          "#f0f921"
                        ]
                      ],
                      "sequentialminus": [
                        [
                          0,
                          "#0d0887"
                        ],
                        [
                          0.1111111111111111,
                          "#46039f"
                        ],
                        [
                          0.2222222222222222,
                          "#7201a8"
                        ],
                        [
                          0.3333333333333333,
                          "#9c179e"
                        ],
                        [
                          0.4444444444444444,
                          "#bd3786"
                        ],
                        [
                          0.5555555555555556,
                          "#d8576b"
                        ],
                        [
                          0.6666666666666666,
                          "#ed7953"
                        ],
                        [
                          0.7777777777777778,
                          "#fb9f3a"
                        ],
                        [
                          0.8888888888888888,
                          "#fdca26"
                        ],
                        [
                          1,
                          "#f0f921"
                        ]
                      ]
                    },
                    "colorway": [
                      "#636efa",
                      "#EF553B",
                      "#00cc96",
                      "#ab63fa",
                      "#FFA15A",
                      "#19d3f3",
                      "#FF6692",
                      "#B6E880",
                      "#FF97FF",
                      "#FECB52"
                    ],
                    "font": {
                      "color": "#2a3f5f"
                    },
                    "geo": {
                      "bgcolor": "white",
                      "lakecolor": "white",
                      "landcolor": "#E5ECF6",
                      "showlakes": true,
                      "showland": true,
                      "subunitcolor": "white"
                    },
                    "hoverlabel": {
                      "align": "left"
                    },
                    "hovermode": "closest",
                    "mapbox": {
                      "style": "light"
                    },
                    "paper_bgcolor": "white",
                    "plot_bgcolor": "#E5ECF6",
                    "polar": {
                      "angularaxis": {
                        "gridcolor": "white",
                        "linecolor": "white",
                        "ticks": ""
                      },
                      "bgcolor": "#E5ECF6",
                      "radialaxis": {
                        "gridcolor": "white",
                        "linecolor": "white",
                        "ticks": ""
                      }
                    },
                    "scene": {
                      "xaxis": {
                        "backgroundcolor": "#E5ECF6",
                        "gridcolor": "white",
                        "gridwidth": 2,
                        "linecolor": "white",
                        "showbackground": true,
                        "ticks": "",
                        "zerolinecolor": "white"
                      },
                      "yaxis": {
                        "backgroundcolor": "#E5ECF6",
                        "gridcolor": "white",
                        "gridwidth": 2,
                        "linecolor": "white",
                        "showbackground": true,
                        "ticks": "",
                        "zerolinecolor": "white"
                      },
                      "zaxis": {
                        "backgroundcolor": "#E5ECF6",
                        "gridcolor": "white",
                        "gridwidth": 2,
                        "linecolor": "white",
                        "showbackground": true,
                        "ticks": "",
                        "zerolinecolor": "white"
                      }
                    },
                    "shapedefaults": {
                      "line": {
                        "color": "#2a3f5f"
                      }
                    },
                    "ternary": {
                      "aaxis": {
                        "gridcolor": "white",
                        "linecolor": "white",
                        "ticks": ""
                      },
                      "baxis": {
                        "gridcolor": "white",
                        "linecolor": "white",
                        "ticks": ""
                      },
                      "bgcolor": "#E5ECF6",
                      "caxis": {
                        "gridcolor": "white",
                        "linecolor": "white",
                        "ticks": ""
                      }
                    },
                    "title": {
                      "x": 0.05
                    },
                    "xaxis": {
                      "automargin": true,
                      "gridcolor": "white",
                      "linecolor": "white",
                      "ticks": "",
                      "title": {
                        "standoff": 15
                      },
                      "zerolinecolor": "white",
                      "zerolinewidth": 2
                    },
                    "yaxis": {
                      "automargin": true,
                      "gridcolor": "white",
                      "linecolor": "white",
                      "ticks": "",
                      "title": {
                        "standoff": 15
                      },
                      "zerolinecolor": "white",
                      "zerolinewidth": 2
                    }
                  }
                },
                "title": {
                  "text": "Contribution Painting"
                },
                "xaxis": {
                  "anchor": "y",
                  "domain": [
                    0,
                    1
                  ],
                  "title": {
                    "text": "index"
                  }
                },
                "yaxis": {
                  "anchor": "x",
                  "domain": [
                    0,
                    1
                  ],
                  "title": {
                    "text": "value"
                  }
                }
              }
            }
          },
          "metadata": {},
          "output_type": "display_data"
        }
      ],
      "source": [
        "px.area(\n",
        "    plot_df,\n",
        "    title=\"Contribution Painting\"\n",
        ")"
      ]
    },
    {
      "cell_type": "code",
      "execution_count": 20,
      "metadata": {},
      "outputs": [
        {
          "name": "stdout",
          "output_type": "stream",
          "text": [
            "For adstock_tv: share of total sales is 0.16 and ROI is 0.16\n",
            "For adstock_social_media: share of total sales is 0.12 and ROI is 0.14\n",
            "For adstock_congress: share of total sales is 0.02 and ROI is 0.11\n",
            "For adstock_trade: share of total sales is 0.06 and ROI is 0.05\n"
          ]
        }
      ],
      "source": [
        "\n",
        "# Compute ROI for every channel.\n",
        "for c in features:\n",
        "    if 'index' not in c and 'flag' not in c:\n",
        "        channel_share = np.round(\n",
        "            sum(\n",
        "                sales_from(c, features, adstock_hypertuning.model, X_train)) / \n",
        "            sum(adstock_hypertuning.model.predict(X_train)\n",
        "            ), \n",
        "        2)\n",
        "        channel_roi = np.round(\n",
        "            sum(\n",
        "                sales_from(\n",
        "                    c, features, adstock_hypertuning.model, X_train)) \n",
        "            / sum(df_adstock_train[c.replace('adstock_', '')]\n",
        "            )\n",
        "        ,2)\n",
        "        print(f'For {c}: share of total sales is {channel_share} and ROI is {channel_roi}')"
      ]
    },
    {
      "cell_type": "code",
      "execution_count": 21,
      "metadata": {},
      "outputs": [
        {
          "data": {
            "application/vnd.plotly.v1+json": {
              "config": {
                "plotlyServerURL": "https://plot.ly"
              },
              "data": [
                {
                  "alignmentgroup": "True",
                  "hovertemplate": "Feature=%{x}<br>Contribution=%{y}<extra></extra>",
                  "legendgroup": "",
                  "marker": {
                    "color": "#636efa",
                    "pattern": {
                      "shape": ""
                    }
                  },
                  "name": "",
                  "offsetgroup": "",
                  "orientation": "v",
                  "showlegend": false,
                  "textposition": "auto",
                  "type": "bar",
                  "x": [
                    "stringency_index",
                    "flu_index",
                    "covid_flag",
                    "adstock_tv",
                    "adstock_social_media",
                    "adstock_congress",
                    "adstock_trade"
                  ],
                  "xaxis": "x",
                  "y": [
                    0.1238578240741736,
                    0.07995742389733229,
                    -0.47357187734810813,
                    11.934237337938482,
                    4.109037107595787,
                    1.782345276708057,
                    0.9525800650249544
                  ],
                  "yaxis": "y"
                }
              ],
              "layout": {
                "barmode": "relative",
                "legend": {
                  "tracegroupgap": 0
                },
                "template": {
                  "data": {
                    "bar": [
                      {
                        "error_x": {
                          "color": "#2a3f5f"
                        },
                        "error_y": {
                          "color": "#2a3f5f"
                        },
                        "marker": {
                          "line": {
                            "color": "#E5ECF6",
                            "width": 0.5
                          },
                          "pattern": {
                            "fillmode": "overlay",
                            "size": 10,
                            "solidity": 0.2
                          }
                        },
                        "type": "bar"
                      }
                    ],
                    "barpolar": [
                      {
                        "marker": {
                          "line": {
                            "color": "#E5ECF6",
                            "width": 0.5
                          },
                          "pattern": {
                            "fillmode": "overlay",
                            "size": 10,
                            "solidity": 0.2
                          }
                        },
                        "type": "barpolar"
                      }
                    ],
                    "carpet": [
                      {
                        "aaxis": {
                          "endlinecolor": "#2a3f5f",
                          "gridcolor": "white",
                          "linecolor": "white",
                          "minorgridcolor": "white",
                          "startlinecolor": "#2a3f5f"
                        },
                        "baxis": {
                          "endlinecolor": "#2a3f5f",
                          "gridcolor": "white",
                          "linecolor": "white",
                          "minorgridcolor": "white",
                          "startlinecolor": "#2a3f5f"
                        },
                        "type": "carpet"
                      }
                    ],
                    "choropleth": [
                      {
                        "colorbar": {
                          "outlinewidth": 0,
                          "ticks": ""
                        },
                        "type": "choropleth"
                      }
                    ],
                    "contour": [
                      {
                        "colorbar": {
                          "outlinewidth": 0,
                          "ticks": ""
                        },
                        "colorscale": [
                          [
                            0,
                            "#0d0887"
                          ],
                          [
                            0.1111111111111111,
                            "#46039f"
                          ],
                          [
                            0.2222222222222222,
                            "#7201a8"
                          ],
                          [
                            0.3333333333333333,
                            "#9c179e"
                          ],
                          [
                            0.4444444444444444,
                            "#bd3786"
                          ],
                          [
                            0.5555555555555556,
                            "#d8576b"
                          ],
                          [
                            0.6666666666666666,
                            "#ed7953"
                          ],
                          [
                            0.7777777777777778,
                            "#fb9f3a"
                          ],
                          [
                            0.8888888888888888,
                            "#fdca26"
                          ],
                          [
                            1,
                            "#f0f921"
                          ]
                        ],
                        "type": "contour"
                      }
                    ],
                    "contourcarpet": [
                      {
                        "colorbar": {
                          "outlinewidth": 0,
                          "ticks": ""
                        },
                        "type": "contourcarpet"
                      }
                    ],
                    "heatmap": [
                      {
                        "colorbar": {
                          "outlinewidth": 0,
                          "ticks": ""
                        },
                        "colorscale": [
                          [
                            0,
                            "#0d0887"
                          ],
                          [
                            0.1111111111111111,
                            "#46039f"
                          ],
                          [
                            0.2222222222222222,
                            "#7201a8"
                          ],
                          [
                            0.3333333333333333,
                            "#9c179e"
                          ],
                          [
                            0.4444444444444444,
                            "#bd3786"
                          ],
                          [
                            0.5555555555555556,
                            "#d8576b"
                          ],
                          [
                            0.6666666666666666,
                            "#ed7953"
                          ],
                          [
                            0.7777777777777778,
                            "#fb9f3a"
                          ],
                          [
                            0.8888888888888888,
                            "#fdca26"
                          ],
                          [
                            1,
                            "#f0f921"
                          ]
                        ],
                        "type": "heatmap"
                      }
                    ],
                    "heatmapgl": [
                      {
                        "colorbar": {
                          "outlinewidth": 0,
                          "ticks": ""
                        },
                        "colorscale": [
                          [
                            0,
                            "#0d0887"
                          ],
                          [
                            0.1111111111111111,
                            "#46039f"
                          ],
                          [
                            0.2222222222222222,
                            "#7201a8"
                          ],
                          [
                            0.3333333333333333,
                            "#9c179e"
                          ],
                          [
                            0.4444444444444444,
                            "#bd3786"
                          ],
                          [
                            0.5555555555555556,
                            "#d8576b"
                          ],
                          [
                            0.6666666666666666,
                            "#ed7953"
                          ],
                          [
                            0.7777777777777778,
                            "#fb9f3a"
                          ],
                          [
                            0.8888888888888888,
                            "#fdca26"
                          ],
                          [
                            1,
                            "#f0f921"
                          ]
                        ],
                        "type": "heatmapgl"
                      }
                    ],
                    "histogram": [
                      {
                        "marker": {
                          "pattern": {
                            "fillmode": "overlay",
                            "size": 10,
                            "solidity": 0.2
                          }
                        },
                        "type": "histogram"
                      }
                    ],
                    "histogram2d": [
                      {
                        "colorbar": {
                          "outlinewidth": 0,
                          "ticks": ""
                        },
                        "colorscale": [
                          [
                            0,
                            "#0d0887"
                          ],
                          [
                            0.1111111111111111,
                            "#46039f"
                          ],
                          [
                            0.2222222222222222,
                            "#7201a8"
                          ],
                          [
                            0.3333333333333333,
                            "#9c179e"
                          ],
                          [
                            0.4444444444444444,
                            "#bd3786"
                          ],
                          [
                            0.5555555555555556,
                            "#d8576b"
                          ],
                          [
                            0.6666666666666666,
                            "#ed7953"
                          ],
                          [
                            0.7777777777777778,
                            "#fb9f3a"
                          ],
                          [
                            0.8888888888888888,
                            "#fdca26"
                          ],
                          [
                            1,
                            "#f0f921"
                          ]
                        ],
                        "type": "histogram2d"
                      }
                    ],
                    "histogram2dcontour": [
                      {
                        "colorbar": {
                          "outlinewidth": 0,
                          "ticks": ""
                        },
                        "colorscale": [
                          [
                            0,
                            "#0d0887"
                          ],
                          [
                            0.1111111111111111,
                            "#46039f"
                          ],
                          [
                            0.2222222222222222,
                            "#7201a8"
                          ],
                          [
                            0.3333333333333333,
                            "#9c179e"
                          ],
                          [
                            0.4444444444444444,
                            "#bd3786"
                          ],
                          [
                            0.5555555555555556,
                            "#d8576b"
                          ],
                          [
                            0.6666666666666666,
                            "#ed7953"
                          ],
                          [
                            0.7777777777777778,
                            "#fb9f3a"
                          ],
                          [
                            0.8888888888888888,
                            "#fdca26"
                          ],
                          [
                            1,
                            "#f0f921"
                          ]
                        ],
                        "type": "histogram2dcontour"
                      }
                    ],
                    "mesh3d": [
                      {
                        "colorbar": {
                          "outlinewidth": 0,
                          "ticks": ""
                        },
                        "type": "mesh3d"
                      }
                    ],
                    "parcoords": [
                      {
                        "line": {
                          "colorbar": {
                            "outlinewidth": 0,
                            "ticks": ""
                          }
                        },
                        "type": "parcoords"
                      }
                    ],
                    "pie": [
                      {
                        "automargin": true,
                        "type": "pie"
                      }
                    ],
                    "scatter": [
                      {
                        "fillpattern": {
                          "fillmode": "overlay",
                          "size": 10,
                          "solidity": 0.2
                        },
                        "type": "scatter"
                      }
                    ],
                    "scatter3d": [
                      {
                        "line": {
                          "colorbar": {
                            "outlinewidth": 0,
                            "ticks": ""
                          }
                        },
                        "marker": {
                          "colorbar": {
                            "outlinewidth": 0,
                            "ticks": ""
                          }
                        },
                        "type": "scatter3d"
                      }
                    ],
                    "scattercarpet": [
                      {
                        "marker": {
                          "colorbar": {
                            "outlinewidth": 0,
                            "ticks": ""
                          }
                        },
                        "type": "scattercarpet"
                      }
                    ],
                    "scattergeo": [
                      {
                        "marker": {
                          "colorbar": {
                            "outlinewidth": 0,
                            "ticks": ""
                          }
                        },
                        "type": "scattergeo"
                      }
                    ],
                    "scattergl": [
                      {
                        "marker": {
                          "colorbar": {
                            "outlinewidth": 0,
                            "ticks": ""
                          }
                        },
                        "type": "scattergl"
                      }
                    ],
                    "scattermapbox": [
                      {
                        "marker": {
                          "colorbar": {
                            "outlinewidth": 0,
                            "ticks": ""
                          }
                        },
                        "type": "scattermapbox"
                      }
                    ],
                    "scatterpolar": [
                      {
                        "marker": {
                          "colorbar": {
                            "outlinewidth": 0,
                            "ticks": ""
                          }
                        },
                        "type": "scatterpolar"
                      }
                    ],
                    "scatterpolargl": [
                      {
                        "marker": {
                          "colorbar": {
                            "outlinewidth": 0,
                            "ticks": ""
                          }
                        },
                        "type": "scatterpolargl"
                      }
                    ],
                    "scatterternary": [
                      {
                        "marker": {
                          "colorbar": {
                            "outlinewidth": 0,
                            "ticks": ""
                          }
                        },
                        "type": "scatterternary"
                      }
                    ],
                    "surface": [
                      {
                        "colorbar": {
                          "outlinewidth": 0,
                          "ticks": ""
                        },
                        "colorscale": [
                          [
                            0,
                            "#0d0887"
                          ],
                          [
                            0.1111111111111111,
                            "#46039f"
                          ],
                          [
                            0.2222222222222222,
                            "#7201a8"
                          ],
                          [
                            0.3333333333333333,
                            "#9c179e"
                          ],
                          [
                            0.4444444444444444,
                            "#bd3786"
                          ],
                          [
                            0.5555555555555556,
                            "#d8576b"
                          ],
                          [
                            0.6666666666666666,
                            "#ed7953"
                          ],
                          [
                            0.7777777777777778,
                            "#fb9f3a"
                          ],
                          [
                            0.8888888888888888,
                            "#fdca26"
                          ],
                          [
                            1,
                            "#f0f921"
                          ]
                        ],
                        "type": "surface"
                      }
                    ],
                    "table": [
                      {
                        "cells": {
                          "fill": {
                            "color": "#EBF0F8"
                          },
                          "line": {
                            "color": "white"
                          }
                        },
                        "header": {
                          "fill": {
                            "color": "#C8D4E3"
                          },
                          "line": {
                            "color": "white"
                          }
                        },
                        "type": "table"
                      }
                    ]
                  },
                  "layout": {
                    "annotationdefaults": {
                      "arrowcolor": "#2a3f5f",
                      "arrowhead": 0,
                      "arrowwidth": 1
                    },
                    "autotypenumbers": "strict",
                    "coloraxis": {
                      "colorbar": {
                        "outlinewidth": 0,
                        "ticks": ""
                      }
                    },
                    "colorscale": {
                      "diverging": [
                        [
                          0,
                          "#8e0152"
                        ],
                        [
                          0.1,
                          "#c51b7d"
                        ],
                        [
                          0.2,
                          "#de77ae"
                        ],
                        [
                          0.3,
                          "#f1b6da"
                        ],
                        [
                          0.4,
                          "#fde0ef"
                        ],
                        [
                          0.5,
                          "#f7f7f7"
                        ],
                        [
                          0.6,
                          "#e6f5d0"
                        ],
                        [
                          0.7,
                          "#b8e186"
                        ],
                        [
                          0.8,
                          "#7fbc41"
                        ],
                        [
                          0.9,
                          "#4d9221"
                        ],
                        [
                          1,
                          "#276419"
                        ]
                      ],
                      "sequential": [
                        [
                          0,
                          "#0d0887"
                        ],
                        [
                          0.1111111111111111,
                          "#46039f"
                        ],
                        [
                          0.2222222222222222,
                          "#7201a8"
                        ],
                        [
                          0.3333333333333333,
                          "#9c179e"
                        ],
                        [
                          0.4444444444444444,
                          "#bd3786"
                        ],
                        [
                          0.5555555555555556,
                          "#d8576b"
                        ],
                        [
                          0.6666666666666666,
                          "#ed7953"
                        ],
                        [
                          0.7777777777777778,
                          "#fb9f3a"
                        ],
                        [
                          0.8888888888888888,
                          "#fdca26"
                        ],
                        [
                          1,
                          "#f0f921"
                        ]
                      ],
                      "sequentialminus": [
                        [
                          0,
                          "#0d0887"
                        ],
                        [
                          0.1111111111111111,
                          "#46039f"
                        ],
                        [
                          0.2222222222222222,
                          "#7201a8"
                        ],
                        [
                          0.3333333333333333,
                          "#9c179e"
                        ],
                        [
                          0.4444444444444444,
                          "#bd3786"
                        ],
                        [
                          0.5555555555555556,
                          "#d8576b"
                        ],
                        [
                          0.6666666666666666,
                          "#ed7953"
                        ],
                        [
                          0.7777777777777778,
                          "#fb9f3a"
                        ],
                        [
                          0.8888888888888888,
                          "#fdca26"
                        ],
                        [
                          1,
                          "#f0f921"
                        ]
                      ]
                    },
                    "colorway": [
                      "#636efa",
                      "#EF553B",
                      "#00cc96",
                      "#ab63fa",
                      "#FFA15A",
                      "#19d3f3",
                      "#FF6692",
                      "#B6E880",
                      "#FF97FF",
                      "#FECB52"
                    ],
                    "font": {
                      "color": "#2a3f5f"
                    },
                    "geo": {
                      "bgcolor": "white",
                      "lakecolor": "white",
                      "landcolor": "#E5ECF6",
                      "showlakes": true,
                      "showland": true,
                      "subunitcolor": "white"
                    },
                    "hoverlabel": {
                      "align": "left"
                    },
                    "hovermode": "closest",
                    "mapbox": {
                      "style": "light"
                    },
                    "paper_bgcolor": "white",
                    "plot_bgcolor": "#E5ECF6",
                    "polar": {
                      "angularaxis": {
                        "gridcolor": "white",
                        "linecolor": "white",
                        "ticks": ""
                      },
                      "bgcolor": "#E5ECF6",
                      "radialaxis": {
                        "gridcolor": "white",
                        "linecolor": "white",
                        "ticks": ""
                      }
                    },
                    "scene": {
                      "xaxis": {
                        "backgroundcolor": "#E5ECF6",
                        "gridcolor": "white",
                        "gridwidth": 2,
                        "linecolor": "white",
                        "showbackground": true,
                        "ticks": "",
                        "zerolinecolor": "white"
                      },
                      "yaxis": {
                        "backgroundcolor": "#E5ECF6",
                        "gridcolor": "white",
                        "gridwidth": 2,
                        "linecolor": "white",
                        "showbackground": true,
                        "ticks": "",
                        "zerolinecolor": "white"
                      },
                      "zaxis": {
                        "backgroundcolor": "#E5ECF6",
                        "gridcolor": "white",
                        "gridwidth": 2,
                        "linecolor": "white",
                        "showbackground": true,
                        "ticks": "",
                        "zerolinecolor": "white"
                      }
                    },
                    "shapedefaults": {
                      "line": {
                        "color": "#2a3f5f"
                      }
                    },
                    "ternary": {
                      "aaxis": {
                        "gridcolor": "white",
                        "linecolor": "white",
                        "ticks": ""
                      },
                      "baxis": {
                        "gridcolor": "white",
                        "linecolor": "white",
                        "ticks": ""
                      },
                      "bgcolor": "#E5ECF6",
                      "caxis": {
                        "gridcolor": "white",
                        "linecolor": "white",
                        "ticks": ""
                      }
                    },
                    "title": {
                      "x": 0.05
                    },
                    "xaxis": {
                      "automargin": true,
                      "gridcolor": "white",
                      "linecolor": "white",
                      "ticks": "",
                      "title": {
                        "standoff": 15
                      },
                      "zerolinecolor": "white",
                      "zerolinewidth": 2
                    },
                    "yaxis": {
                      "automargin": true,
                      "gridcolor": "white",
                      "linecolor": "white",
                      "ticks": "",
                      "title": {
                        "standoff": 15
                      },
                      "zerolinecolor": "white",
                      "zerolinewidth": 2
                    }
                  }
                },
                "title": {
                  "text": "Contribution bar plot"
                },
                "xaxis": {
                  "anchor": "y",
                  "domain": [
                    0,
                    1
                  ],
                  "title": {
                    "text": "Feature"
                  }
                },
                "yaxis": {
                  "anchor": "x",
                  "domain": [
                    0,
                    1
                  ],
                  "title": {
                    "text": "Contribution"
                  }
                }
              }
            }
          },
          "metadata": {},
          "output_type": "display_data"
        }
      ],
      "source": [
        "px.bar(\n",
        "        y=adstock_hypertuning.model.coef_,\n",
        "        x=X_train.columns,\n",
        "        title='Contribution bar plot',\n",
        "        labels={\n",
        "            \"x\": \"Feature\",\n",
        "            \"y\": \"Contribution\"\n",
        "        }\n",
        ")\n"
      ]
    },
    {
      "cell_type": "markdown",
      "metadata": {},
      "source": [
        "# Discussion \n",
        "\n",
        "- If there are some channel contributions negative? Does this make sense from a business POV? \n",
        "- What about seasonality? Shall we consider it?\n",
        "- Would it be worth it to use another type of model, for example tree-based algorithms? or another type of linear model like Ridge?\n",
        "- What recommendations would you give to business with these results"
      ]
    },
    {
      "cell_type": "markdown",
      "metadata": {},
      "source": [
        "## Next steps. \n",
        "\n",
        "This analysis is powerful, but we can aim to do better. The state-of-the-art in Marketing Mix Models is using Bayesian Statistics to properly capture the attributions of each feature. You can see an example in the [`mmx_bayesian_model_example`](mmx_bayesian_model_example.ipynb) notebook.\n",
        "\n"
      ]
    },
    {
      "cell_type": "markdown",
      "metadata": {},
      "source": []
    }
  ],
  "metadata": {
    "colab": {
      "collapsed_sections": [
        "iHwiHTunM3IG",
        "6Hh_rnfspT4t",
        "J_xqhVxApn4H",
        "Aa_hhZj2GluZ",
        "HSo-JtkFp-Ue",
        "MKjQa9oo9jqO",
        "iXZljqlCLnAO",
        "1hSppHJmM62O",
        "9WDHCLldNktY",
        "CJsR0BD2n5-D",
        "SqrY5dZSpJYP"
      ],
      "name": "Juan Prida: Marketing Mix Model.ipynb",
      "provenance": []
    },
    "kernelspec": {
      "display_name": "Python 3",
      "language": "python",
      "name": "python3"
    },
    "language_info": {
      "codemirror_mode": {
        "name": "ipython",
        "version": 3
      },
      "file_extension": ".py",
      "mimetype": "text/x-python",
      "name": "python",
      "nbconvert_exporter": "python",
      "pygments_lexer": "ipython3",
      "version": "3.12.4"
    }
  },
  "nbformat": 4,
  "nbformat_minor": 0
}
